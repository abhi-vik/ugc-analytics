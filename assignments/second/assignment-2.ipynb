{
 "cells": [
  {
   "cell_type": "markdown",
   "metadata": {},
   "source": [
    "# Assignment #2\n",
    "\n",
    "Abhilash Vikram Gupta, Hao Lun Chu Colin, Matthew Viteri, Stephen Oluwaniyi and Yeggi Lee"
   ]
  },
  {
   "cell_type": "code",
   "execution_count": 1,
   "metadata": {},
   "outputs": [
    {
     "name": "stderr",
     "output_type": "stream",
     "text": [
      "[nltk_data] Downloading package wordnet to /home/abhivik/nltk_data...\n",
      "[nltk_data]   Package wordnet is already up-to-date!\n"
     ]
    },
    {
     "data": {
      "text/plain": [
       "True"
      ]
     },
     "execution_count": 1,
     "metadata": {},
     "output_type": "execute_result"
    }
   ],
   "source": [
    "import numpy as np\n",
    "import pandas as pd\n",
    "import tweepy\n",
    "import GetOldTweets3 as got\n",
    "import re\n",
    "import textblob\n",
    "import nltk\n",
    "import matplotlib.pyplot as plt\n",
    "import random\n",
    "\n",
    "from sklearn import manifold\n",
    "from configparser import ConfigParser\n",
    "from IPython.display import display\n",
    "from collections import Counter\n",
    "from nltk.corpus import stopwords\n",
    "from vaderSentiment.vaderSentiment import SentimentIntensityAnalyzer\n",
    "\n",
    "stop_words = set(stopwords.words('english'))\n",
    "\n",
    "nltk.download('wordnet')"
   ]
  },
  {
   "cell_type": "markdown",
   "metadata": {},
   "source": [
    "### A. Collect 5k tweets on the 2020 Presidential election. It is necessary to use general hashtags and search keywords (like 2020 U.S. election or 2020 Presidential Election) rather than “Trump” or “Biden” or “Warren”. Use Tweepy in your Python script, and also ask for the location specified by the user during registration with Twitter. "
   ]
  },
  {
   "cell_type": "code",
   "execution_count": 2,
   "metadata": {},
   "outputs": [],
   "source": [
    "def get_creds():\n",
    "    config = ConfigParser()\n",
    "    config.read('./credentials.ini')\n",
    "\n",
    "    consumer_section = config['consumer']\n",
    "    api_key, api_secret_key = consumer_section['api-key'], consumer_section['api-secret-key']\n",
    "\n",
    "    access_section = config['access']\n",
    "    access_token, access_token_secret = access_section['access-token'], access_section['access-token-secret']\n",
    "    \n",
    "    return api_key, api_secret_key, access_token, access_token_secret\n",
    "\n",
    "try:\n",
    "    consumer_key, consumer_secret, access_token, access_token_secret = get_creds()\n",
    "except KeyError as e:\n",
    "    raise IOError('Twitter credentials used are not included as part of the submitted assignment.' +\n",
    "                 ' We have a csv with the collected data.') from e\n",
    "\n",
    "auth = tweepy.OAuthHandler(consumer_key, consumer_secret)\n",
    "auth.set_access_token(access_token, access_token_secret)\n",
    "api = tweepy.API(auth, wait_on_rate_limit=True, wait_on_rate_limit_notify=True)"
   ]
  },
  {
   "cell_type": "code",
   "execution_count": 3,
   "metadata": {},
   "outputs": [],
   "source": [
    "display('Preparing...')\n",
    "df = pd.DataFrame(columns=['Date', 'Username', 'User Location', 'Tweet'])\n",
    "\n",
    "query = 'president election 2020'\n",
    "start = '2019-01-01'\n",
    "end = '2019-09-01'\n",
    "count = 5000\n",
    "tweetCriteria = (got.manager.TweetCriteria()\n",
    "                 .setQuerySearch(query)\n",
    "                 .setSince(start)\n",
    "                 .setUntil(end)\n",
    "                 .setMaxTweets(count))\n",
    "\n",
    "display('Collecting tweets...')\n",
    "tweets = got.manager.TweetManager.getTweets(tweetCriteria)\n",
    "\n",
    "display('Creating dataframe...')\n",
    "for tweet in tweets:\n",
    "    df = df.append({\n",
    "        'Date': tweet.date,\n",
    "        'Username': tweet.username,\n",
    "        'Tweet': tweet.text\n",
    "    }, ignore_index=True)\n",
    "\n",
    "display('Collecting user locations...')\n",
    "for index, row in df.iterrows():\n",
    "    if pd.isna(row['User Location']):\n",
    "        df.at[index, 'User Location'] = api.get_user(row['Username']).location\n",
    "\n",
    "display('Done.')\n",
    "display(df)\n",
    "df.to_csv(f'./{query}_({count})_{end}.csv', index=False)"
   ]
  },
  {
   "cell_type": "markdown",
   "metadata": {},
   "source": [
    "### B.   Find FOUR key issues mentioned by the public in the tweets – e.g., character, personality, healthcare, crime, jobs, etc. (these are examples only, use wordfrequency analysis to find out). Replace words if necessary. Issues associated with Mr. Trump may not have a strong association with the democratic candidate and vice versa. So find a couple of issues that are likely to have strong association with Mr. Trump, and a couple for the democratic candidate."
   ]
  },
  {
   "cell_type": "code",
   "execution_count": 4,
   "metadata": {},
   "outputs": [],
   "source": [
    "df = pd.read_csv('president election 2020_(5000)_2019-09-01.csv', index_col=0)"
   ]
  },
  {
   "cell_type": "code",
   "execution_count": 5,
   "metadata": {},
   "outputs": [
    {
     "data": {
      "text/plain": [
       "[('president', 5221),\n",
       " ('election', 5125),\n",
       " ('2020', 5050),\n",
       " ('trump', 4461),\n",
       " ('win', 655),\n",
       " ('ha', 649),\n",
       " ('u', 586),\n",
       " ('vote', 571),\n",
       " ('democrat', 515),\n",
       " ('get', 462)]"
      ]
     },
     "execution_count": 5,
     "metadata": {},
     "output_type": "execute_result"
    }
   ],
   "source": [
    "same_map = {\n",
    "    'trump':      ['donald', '@realdonaldtrump', 'maga', '#maga', 'trump’s', \"trump's\", '#trump',\n",
    "                   'maga2020', '#maga2020', '#kag2020', '#kag', 'kag', 'kag2020', '#trump2020',''],\n",
    "    'warren':     ['elizabeth', '@ewarren', 'elizabethwarren', '@senwarren', '#elizabethwarren'],\n",
    "    'biden':      ['joe', '@joebiden', \"biden's\"],\n",
    "    'russia':     ['russian', 'putin'],\n",
    "    'republican': ['gop'],\n",
    "    'musk':       ['elon']\n",
    "}\n",
    "\n",
    "same_inv_map = {word: root for root, words in same_map.items() for word in words}\n",
    "\n",
    "def splitter(data):\n",
    "    words = re.sub(\"([^0-9A-Za-z \\t]) |(\\w+:\\/\\/\\S+)\", \" \", data.lower()).split()\n",
    "    return [textblob.Word(word).lemmatize() for word in words]\n",
    "\n",
    "def convert_same(text):\n",
    "    return [(same_inv_map[word] if word in same_inv_map else word) for word in splitter(text)]\n",
    "\n",
    "def wordCount(data):\n",
    "    filtered = [w for w in convert_same(' '.join(data['Tweet'])) if w not in stop_words]\n",
    "    return Counter(filtered).most_common(400)\n",
    "\n",
    "df['Split Tweet'] = df['Tweet'].map(convert_same)\n",
    "\n",
    "wordCount(df)[:10]"
   ]
  },
  {
   "cell_type": "markdown",
   "metadata": {},
   "source": [
    "#### 4 KEY ISSUES\n",
    "- economy/recession 193/187\n",
    "- Russia 256\n",
    "- war 91\n",
    "- pro-life 92\n",
    "- fake 104\n",
    "- racist 84\n",
    "- fraud 70\n",
    "- strong 75\n",
    "- hate 76\n",
    "- impeachment 63\n",
    "\n",
    "#### Same words\n",
    "- donald, trump, @realdonaldtrump, maga, kag <-- make america great gain\n",
    "- joe, biden, @joebiden, biden's\n",
    "- elizabeth, warren, @ewarren, elizabethwarren, #elizabethwarren, @senwarren\n",
    "- michael, steele\n",
    "- russia, russian, putin\n",
    "- president, presidents\n",
    "- republicans, republican, gop\n",
    "- bernie, sanders\n",
    "\n",
    "#### NOTES\n",
    "- mike, pence --> running mate of Trump \n",
    "- kag --> keep america great\n",
    "\n"
   ]
  },
  {
   "cell_type": "code",
   "execution_count": 6,
   "metadata": {},
   "outputs": [],
   "source": [
    "key_issues = ['economy', 'recession', 'russia', 'war']\n",
    "candidates = ['trump', 'biden']"
   ]
  },
  {
   "cell_type": "markdown",
   "metadata": {},
   "source": [
    "### C. Perform lift and sentiment analysis on a candidate and an issue. To isolate a candidate and an issue, you have to write a parser that selects tweets that mention a candidate, takes a window around an issue, and chops off everything else, as shown in class."
   ]
  },
  {
   "cell_type": "code",
   "execution_count": 7,
   "metadata": {},
   "outputs": [
    {
     "name": "stdout",
     "output_type": "stream",
     "text": [
      "The lift scores are:\n"
     ]
    },
    {
     "data": {
      "text/html": [
       "<div>\n",
       "<style scoped>\n",
       "    .dataframe tbody tr th:only-of-type {\n",
       "        vertical-align: middle;\n",
       "    }\n",
       "\n",
       "    .dataframe tbody tr th {\n",
       "        vertical-align: top;\n",
       "    }\n",
       "\n",
       "    .dataframe thead th {\n",
       "        text-align: right;\n",
       "    }\n",
       "</style>\n",
       "<table border=\"1\" class=\"dataframe\">\n",
       "  <thead>\n",
       "    <tr style=\"text-align: right;\">\n",
       "      <th></th>\n",
       "      <th>economy</th>\n",
       "      <th>recession</th>\n",
       "      <th>russia</th>\n",
       "      <th>war</th>\n",
       "    </tr>\n",
       "  </thead>\n",
       "  <tbody>\n",
       "    <tr>\n",
       "      <td>biden</td>\n",
       "      <td>0</td>\n",
       "      <td>0.342736</td>\n",
       "      <td>1.18864</td>\n",
       "      <td>0</td>\n",
       "    </tr>\n",
       "    <tr>\n",
       "      <td>trump</td>\n",
       "      <td>1.07138</td>\n",
       "      <td>1.3554</td>\n",
       "      <td>0.936594</td>\n",
       "      <td>0.960653</td>\n",
       "    </tr>\n",
       "  </tbody>\n",
       "</table>\n",
       "</div>"
      ],
      "text/plain": [
       "       economy recession    russia       war\n",
       "biden        0  0.342736   1.18864         0\n",
       "trump  1.07138    1.3554  0.936594  0.960653"
      ]
     },
     "metadata": {},
     "output_type": "display_data"
    }
   ],
   "source": [
    "from itertools import combinations, product\n",
    "# Calculation of lift scores\n",
    "def do_lift(x, y=None):\n",
    "    l1, l2 = sorted(x), sorted(y or [])\n",
    "    bools = pd.DataFrame()\n",
    "    for e in l1 + l2:\n",
    "        bools[e] = df['Split Tweet'].map(lambda words: e in words)\n",
    "\n",
    "    def do(df, a, b):\n",
    "        count_a_int_b = np.logical_and(df[a], df[b]).values.sum()\n",
    "        count_a_mult_count_b = df[a].values.sum() * df[b].values.sum()\n",
    "        return len(df.index) * count_a_int_b / count_a_mult_count_b\n",
    "\n",
    "    result_df = pd.DataFrame(index=l1, columns=(l2 or l1))\n",
    "    for a, b in (combinations(l1, 2) if y==None else product(l1, l2)):\n",
    "        val = do(bools, a, b)\n",
    "        result_df.at[a, b] = val\n",
    "        if y==None:\n",
    "            result_df.at[b, a] = val\n",
    "\n",
    "    return result_df\n",
    "\n",
    "print('The lift scores are:')\n",
    "display(do_lift(candidates, key_issues))"
   ]
  },
  {
   "cell_type": "code",
   "execution_count": 8,
   "metadata": {},
   "outputs": [
    {
     "name": "stdout",
     "output_type": "stream",
     "text": [
      "The sentiment scores are:\n"
     ]
    },
    {
     "data": {
      "text/html": [
       "<div>\n",
       "<style scoped>\n",
       "    .dataframe tbody tr th:only-of-type {\n",
       "        vertical-align: middle;\n",
       "    }\n",
       "\n",
       "    .dataframe tbody tr th {\n",
       "        vertical-align: top;\n",
       "    }\n",
       "\n",
       "    .dataframe thead th {\n",
       "        text-align: right;\n",
       "    }\n",
       "</style>\n",
       "<table border=\"1\" class=\"dataframe\">\n",
       "  <thead>\n",
       "    <tr style=\"text-align: right;\">\n",
       "      <th></th>\n",
       "      <th>economy</th>\n",
       "      <th>recession</th>\n",
       "      <th>russia</th>\n",
       "      <th>war</th>\n",
       "    </tr>\n",
       "  </thead>\n",
       "  <tbody>\n",
       "    <tr>\n",
       "      <td>biden</td>\n",
       "      <td>NaN</td>\n",
       "      <td>-0.680000</td>\n",
       "      <td>0.281225</td>\n",
       "      <td>NaN</td>\n",
       "    </tr>\n",
       "    <tr>\n",
       "      <td>trump</td>\n",
       "      <td>-0.336072</td>\n",
       "      <td>-1.168546</td>\n",
       "      <td>0.022868</td>\n",
       "      <td>-0.844704</td>\n",
       "    </tr>\n",
       "  </tbody>\n",
       "</table>\n",
       "</div>"
      ],
      "text/plain": [
       "        economy  recession    russia       war\n",
       "biden       NaN  -0.680000  0.281225       NaN\n",
       "trump -0.336072  -1.168546  0.022868 -0.844704"
      ]
     },
     "metadata": {},
     "output_type": "display_data"
    }
   ],
   "source": [
    "analyser = SentimentIntensityAnalyzer()\n",
    "\n",
    "def _get_sentiments(df, combinations):\n",
    "    scores_matrix = []\n",
    "    \n",
    "    for _, row in df.iterrows():\n",
    "        split_tweet = row['Split Tweet']\n",
    "        exists = pd.Series([combo[0] in split_tweet and combo[1] in split_tweet for combo in combinations])\n",
    "        if exists.sum() > 0:\n",
    "            sentiment = SentimentIntensityAnalyzer().polarity_scores(row['Tweet'])['compound'] * 2\n",
    "            scores_matrix.append(exists.map(lambda v: sentiment if v else np.nan))\n",
    "    \n",
    "    return [pd.Series(combo_sentiment).dropna().mean() for combo_sentiment in np.array(scores_matrix).T]\n",
    "\n",
    "def do_sentiments(mat):\n",
    "    indices = [(idx1, idx2) for idx1, row in mat.iterrows() for idx2, _ in row.items() if mat.at[idx1, idx2] != 0]\n",
    "    sentiments = _get_sentiments(df, indices)\n",
    "    mat = mat.replace(0, np.nan)\n",
    "    \n",
    "    for indices, sentiment in zip(indices, sentiments):\n",
    "        mat.loc[indices[0], indices[1]] = sentiment\n",
    "    return mat\n",
    "\n",
    "print('The sentiment scores are:')\n",
    "display(do_sentiments(do_lift(candidates, key_issues)))"
   ]
  },
  {
   "cell_type": "markdown",
   "metadata": {},
   "source": [
    "### D. Show the issues and candidates on an MDS plot. Note that a large range if lift values makes it difficult for mds to represent accurately on a 2-dimensional plane. If needed, artificially (and arbitrarily reduce the high values and increase the low values). "
   ]
  },
  {
   "cell_type": "code",
   "execution_count": 9,
   "metadata": {},
   "outputs": [
    {
     "data": {
      "text/html": [
       "<div>\n",
       "<style scoped>\n",
       "    .dataframe tbody tr th:only-of-type {\n",
       "        vertical-align: middle;\n",
       "    }\n",
       "\n",
       "    .dataframe tbody tr th {\n",
       "        vertical-align: top;\n",
       "    }\n",
       "\n",
       "    .dataframe thead th {\n",
       "        text-align: right;\n",
       "    }\n",
       "</style>\n",
       "<table border=\"1\" class=\"dataframe\">\n",
       "  <thead>\n",
       "    <tr style=\"text-align: right;\">\n",
       "      <th></th>\n",
       "      <th>biden</th>\n",
       "      <th>economy</th>\n",
       "      <th>recession</th>\n",
       "      <th>russia</th>\n",
       "      <th>trump</th>\n",
       "      <th>war</th>\n",
       "    </tr>\n",
       "  </thead>\n",
       "  <tbody>\n",
       "    <tr>\n",
       "      <td>biden</td>\n",
       "      <td>NaN</td>\n",
       "      <td>0</td>\n",
       "      <td>0.342736</td>\n",
       "      <td>1.18864</td>\n",
       "      <td>0.835205</td>\n",
       "      <td>0</td>\n",
       "    </tr>\n",
       "    <tr>\n",
       "      <td>economy</td>\n",
       "      <td>0</td>\n",
       "      <td>NaN</td>\n",
       "      <td>5.44524</td>\n",
       "      <td>0.472114</td>\n",
       "      <td>1.07138</td>\n",
       "      <td>4.27746</td>\n",
       "    </tr>\n",
       "    <tr>\n",
       "      <td>recession</td>\n",
       "      <td>0.342736</td>\n",
       "      <td>5.44524</td>\n",
       "      <td>NaN</td>\n",
       "      <td>0.652656</td>\n",
       "      <td>1.3554</td>\n",
       "      <td>1.84788</td>\n",
       "    </tr>\n",
       "    <tr>\n",
       "      <td>russia</td>\n",
       "      <td>1.18864</td>\n",
       "      <td>0.472114</td>\n",
       "      <td>0.652656</td>\n",
       "      <td>NaN</td>\n",
       "      <td>0.936594</td>\n",
       "      <td>1.28172</td>\n",
       "    </tr>\n",
       "    <tr>\n",
       "      <td>trump</td>\n",
       "      <td>0.835205</td>\n",
       "      <td>1.07138</td>\n",
       "      <td>1.3554</td>\n",
       "      <td>0.936594</td>\n",
       "      <td>NaN</td>\n",
       "      <td>0.960653</td>\n",
       "    </tr>\n",
       "    <tr>\n",
       "      <td>war</td>\n",
       "      <td>0</td>\n",
       "      <td>4.27746</td>\n",
       "      <td>1.84788</td>\n",
       "      <td>1.28172</td>\n",
       "      <td>0.960653</td>\n",
       "      <td>NaN</td>\n",
       "    </tr>\n",
       "  </tbody>\n",
       "</table>\n",
       "</div>"
      ],
      "text/plain": [
       "              biden   economy recession    russia     trump       war\n",
       "biden           NaN         0  0.342736   1.18864  0.835205         0\n",
       "economy           0       NaN   5.44524  0.472114   1.07138   4.27746\n",
       "recession  0.342736   5.44524       NaN  0.652656    1.3554   1.84788\n",
       "russia      1.18864  0.472114  0.652656       NaN  0.936594   1.28172\n",
       "trump      0.835205   1.07138    1.3554  0.936594       NaN  0.960653\n",
       "war               0   4.27746   1.84788   1.28172  0.960653       NaN"
      ]
     },
     "metadata": {},
     "output_type": "display_data"
    },
    {
     "name": "stderr",
     "output_type": "stream",
     "text": [
      "/home/abhivik/.local/lib/python3.6/site-packages/sklearn/manifold/mds.py:421: UserWarning: The MDS API has changed. ``fit`` now constructs an dissimilarity matrix from data. To use a custom dissimilarity matrix, set ``dissimilarity='precomputed'``.\n",
      "  warnings.warn(\"The MDS API has changed. ``fit`` now constructs an\"\n"
     ]
    }
   ],
   "source": [
    "lift_matrix = do_lift(candidates + key_issues)\n",
    "display(lift_matrix)\n",
    "# no nans\n",
    "lift_matrix.replace(np.nan, 0, inplace=True)\n",
    "lift_matrix = lift_matrix + 0.2\n",
    "lift_matrix = lift_matrix / 10\n",
    "# MDS Plot\n",
    "seed = np.random.RandomState(seed=3)\n",
    "mds = manifold.MDS(n_components=2, max_iter=3000, eps=1e-9, \n",
    "      random_state=seed, dissimilarity=\"euclidean\", n_jobs=1)\n",
    "results = mds.fit(lift_matrix)\n",
    "coords = results.embedding_"
   ]
  },
  {
   "cell_type": "code",
   "execution_count": 10,
   "metadata": {},
   "outputs": [
    {
     "data": {
      "image/png": "[encoded data removed]",
      "text/plain": [
       "<Figure size 1040x640 with 1 Axes>"
      ]
     },
     "metadata": {},
     "output_type": "display_data"
    }
   ],
   "source": [
    "plt.figure(num=None, figsize=(13, 8), dpi=80, facecolor='w', edgecolor='k')\n",
    "plt.subplots_adjust(bottom = 0.1)\n",
    "plt.scatter(coords[:, 0], coords[:, 1], marker = 'o')\n",
    "\n",
    "for label, x, y in zip(lift_matrix.index, coords[:, 0], coords[:, 1]):\n",
    "    plt.annotate(\n",
    "        label,\n",
    "        xy = (x, y), xytext = (-10, 10),\n",
    "        textcoords = 'offset points', ha = 'right', va = 'bottom',\n",
    "        bbox = dict(boxstyle = 'round,pad=0.5', fc = 'red', alpha = 0.5),\n",
    "        arrowprops = dict(arrowstyle = '->', connectionstyle = 'arc3,rad=0'))\n",
    "        \n",
    "plt.title('MDS Plot of Candidates & Issues')\n",
    "plt.grid()\n",
    "plt.show()"
   ]
  },
  {
   "cell_type": "markdown",
   "metadata": {},
   "source": [
    "### E. Use the location data collected in step A to find out lifts and sentiments regarding the candidates in three states – Michigan, Pennsylvania and Wisconsin (no need to treat them separately, call them “battleground” states)."
   ]
  },
  {
   "cell_type": "code",
   "execution_count": 11,
   "metadata": {},
   "outputs": [],
   "source": [
    "#Get all the cities with their respective battleground states\n",
    "cities_states = pd.read_csv(\"https://raw.githubusercontent.com/grammakov/USA-cities-and-states/master/us_cities_states_counties.csv\",sep='|')\n",
    "\n",
    "battleground_set = {'Pennsylvania', 'Michigan', 'Wisconsin'}\n",
    "battleground_mask = cities_states['State full'].isin(battleground_set)\n",
    "\n",
    "battleground_set.update(set(cities_states[battleground_mask]['City'].map(lambda v: v.lower()).tolist()))\n",
    "battleground_short_set = set(cities_states[battleground_mask]['State short'].tolist())"
   ]
  },
  {
   "cell_type": "code",
   "execution_count": 12,
   "metadata": {},
   "outputs": [
    {
     "name": "stderr",
     "output_type": "stream",
     "text": [
      "/home/abhivik/.local/lib/python3.6/site-packages/ipykernel_launcher.py:10: SettingWithCopyWarning: \n",
      "A value is trying to be set on a copy of a slice from a DataFrame.\n",
      "Try using .loc[row_indexer,col_indexer] = value instead\n",
      "\n",
      "See the caveats in the documentation: http://pandas.pydata.org/pandas-docs/stable/user_guide/indexing.html#returning-a-view-versus-a-copy\n",
      "  # Remove the CWD from sys.path while we load stuff.\n"
     ]
    },
    {
     "data": {
      "text/html": [
       "<div>\n",
       "<style scoped>\n",
       "    .dataframe tbody tr th:only-of-type {\n",
       "        vertical-align: middle;\n",
       "    }\n",
       "\n",
       "    .dataframe tbody tr th {\n",
       "        vertical-align: top;\n",
       "    }\n",
       "\n",
       "    .dataframe thead th {\n",
       "        text-align: right;\n",
       "    }\n",
       "</style>\n",
       "<table border=\"1\" class=\"dataframe\">\n",
       "  <thead>\n",
       "    <tr style=\"text-align: right;\">\n",
       "      <th></th>\n",
       "      <th>Date</th>\n",
       "      <th>Username</th>\n",
       "      <th>User Location</th>\n",
       "      <th>Tweet</th>\n",
       "      <th>Split Tweet</th>\n",
       "      <th>Split User Location</th>\n",
       "    </tr>\n",
       "  </thead>\n",
       "  <tbody>\n",
       "    <tr>\n",
       "      <td>5</td>\n",
       "      <td>2019-08-31 22:49:37+00:00</td>\n",
       "      <td>nanychief</td>\n",
       "      <td>Michigan, USA</td>\n",
       "      <td>THIS IS COMPLETE BS! WAITING UNTIL 2020 ELECTI...</td>\n",
       "      <td>[this, is, complete, b, waiting, until, 2020, ...</td>\n",
       "      <td>[battleground1, ,, USA]</td>\n",
       "    </tr>\n",
       "    <tr>\n",
       "      <td>137</td>\n",
       "      <td>2019-08-31 03:35:57+00:00</td>\n",
       "      <td>ltclavinny</td>\n",
       "      <td>Wisconsin, USA</td>\n",
       "      <td>Stopping you from seeing the wisdom of great P...</td>\n",
       "      <td>[stopping, you, from, seeing, the, wisdom, of,...</td>\n",
       "      <td>[battleground1, ,, USA]</td>\n",
       "    </tr>\n",
       "    <tr>\n",
       "      <td>146</td>\n",
       "      <td>2019-08-31 02:00:20+00:00</td>\n",
       "      <td>rogerlsmith</td>\n",
       "      <td>Grand Rapids, Michigan</td>\n",
       "      <td>The #MAGA president knows he's about to lose t...</td>\n",
       "      <td>[the, trump, president, know, he's, about, to,...</td>\n",
       "      <td>[Grand, Rapids, ,, battleground1]</td>\n",
       "    </tr>\n",
       "    <tr>\n",
       "      <td>153</td>\n",
       "      <td>2019-08-31 00:23:41+00:00</td>\n",
       "      <td>DESciulli</td>\n",
       "      <td>Pennsylvania, USA</td>\n",
       "      <td>Step 1: Steal 2016 election Step 2: Consolidat...</td>\n",
       "      <td>[step, 1, steal, 2016, election, step, 2, cons...</td>\n",
       "      <td>[battleground1, ,, USA]</td>\n",
       "    </tr>\n",
       "    <tr>\n",
       "      <td>290</td>\n",
       "      <td>2019-08-30 10:34:26+00:00</td>\n",
       "      <td>Marine_Airwing</td>\n",
       "      <td>Michigan, USA</td>\n",
       "      <td>Democratic contenders for the 2020 presidentia...</td>\n",
       "      <td>[democratic, contender, for, the, 2020, presid...</td>\n",
       "      <td>[battleground1, ,, USA]</td>\n",
       "    </tr>\n",
       "  </tbody>\n",
       "</table>\n",
       "</div>"
      ],
      "text/plain": [
       "                          Date        Username           User Location  \\\n",
       "5    2019-08-31 22:49:37+00:00       nanychief           Michigan, USA   \n",
       "137  2019-08-31 03:35:57+00:00      ltclavinny          Wisconsin, USA   \n",
       "146  2019-08-31 02:00:20+00:00     rogerlsmith  Grand Rapids, Michigan   \n",
       "153  2019-08-31 00:23:41+00:00       DESciulli       Pennsylvania, USA   \n",
       "290  2019-08-30 10:34:26+00:00  Marine_Airwing           Michigan, USA   \n",
       "\n",
       "                                                 Tweet  \\\n",
       "5    THIS IS COMPLETE BS! WAITING UNTIL 2020 ELECTI...   \n",
       "137  Stopping you from seeing the wisdom of great P...   \n",
       "146  The #MAGA president knows he's about to lose t...   \n",
       "153  Step 1: Steal 2016 election Step 2: Consolidat...   \n",
       "290  Democratic contenders for the 2020 presidentia...   \n",
       "\n",
       "                                           Split Tweet  \\\n",
       "5    [this, is, complete, b, waiting, until, 2020, ...   \n",
       "137  [stopping, you, from, seeing, the, wisdom, of,...   \n",
       "146  [the, trump, president, know, he's, about, to,...   \n",
       "153  [step, 1, steal, 2016, election, step, 2, cons...   \n",
       "290  [democratic, contender, for, the, 2020, presid...   \n",
       "\n",
       "                   Split User Location  \n",
       "5              [battleground1, ,, USA]  \n",
       "137            [battleground1, ,, USA]  \n",
       "146  [Grand, Rapids, ,, battleground1]  \n",
       "153            [battleground1, ,, USA]  \n",
       "290            [battleground1, ,, USA]  "
      ]
     },
     "execution_count": 12,
     "metadata": {},
     "output_type": "execute_result"
    }
   ],
   "source": [
    "import nltk\n",
    "df_cleanlocation = df.dropna(subset=['User Location'])\n",
    "battleground1_words = ['pennsylvania', 'PENNSYLVANIA', 'PA', 'Pennsylvania', 'Wisconsin',\n",
    "                   'WISCONSIN', 'WI', 'wisconsin', 'michigan', 'MICHIGAN', 'Michigan', 'MI']\n",
    "\n",
    "def convert_battleground(text):\n",
    "    return [('battleground1' if word in battleground1_words else word) \n",
    "            for word in nltk.word_tokenize(text)]\n",
    "\n",
    "df_cleanlocation['Split User Location'] = df_cleanlocation['User Location'].map(convert_battleground)\n",
    "df_cleanlocation\n",
    "i=0\n",
    "battleid = []\n",
    "for x in df_cleanlocation['Split User Location'].map(lambda x: x if 'battleground1'in x else False):\n",
    "    if x !=False:\n",
    "        battleid.append(i)\n",
    "#         print(x)\n",
    "    i+=1\n",
    "df_battle = df_cleanlocation.iloc[battleid,:]\n",
    "df_battle.head()"
   ]
  },
  {
   "cell_type": "code",
   "execution_count": 13,
   "metadata": {},
   "outputs": [
    {
     "name": "stdout",
     "output_type": "stream",
     "text": [
      "The lift values are: \n"
     ]
    },
    {
     "name": "stderr",
     "output_type": "stream",
     "text": [
      "/home/abhivik/.local/lib/python3.6/site-packages/ipykernel_launcher.py:1: SettingWithCopyWarning: \n",
      "A value is trying to be set on a copy of a slice from a DataFrame.\n",
      "Try using .loc[row_indexer,col_indexer] = value instead\n",
      "\n",
      "See the caveats in the documentation: http://pandas.pydata.org/pandas-docs/stable/user_guide/indexing.html#returning-a-view-versus-a-copy\n",
      "  \"\"\"Entry point for launching an IPython kernel.\n"
     ]
    },
    {
     "data": {
      "text/html": [
       "<div>\n",
       "<style scoped>\n",
       "    .dataframe tbody tr th:only-of-type {\n",
       "        vertical-align: middle;\n",
       "    }\n",
       "\n",
       "    .dataframe tbody tr th {\n",
       "        vertical-align: top;\n",
       "    }\n",
       "\n",
       "    .dataframe thead th {\n",
       "        text-align: right;\n",
       "    }\n",
       "</style>\n",
       "<table border=\"1\" class=\"dataframe\">\n",
       "  <thead>\n",
       "    <tr style=\"text-align: right;\">\n",
       "      <th></th>\n",
       "      <th>biden</th>\n",
       "      <th>trump</th>\n",
       "    </tr>\n",
       "  </thead>\n",
       "  <tbody>\n",
       "    <tr>\n",
       "      <td>battleground1</td>\n",
       "      <td>0.691118</td>\n",
       "      <td>0.882354</td>\n",
       "    </tr>\n",
       "  </tbody>\n",
       "</table>\n",
       "</div>"
      ],
      "text/plain": [
       "                  biden     trump\n",
       "battleground1  0.691118  0.882354"
      ]
     },
     "execution_count": 13,
     "metadata": {},
     "output_type": "execute_result"
    }
   ],
   "source": [
    "df_cleanlocation['Combined'] = df_cleanlocation['Split Tweet'] + df_cleanlocation['Split User Location']\n",
    "from itertools import combinations, product\n",
    "# Calculation of lift scores\n",
    "def do_lift(x, y=None):\n",
    "    l1, l2 = sorted(x), sorted(y or [])\n",
    "    bools = pd.DataFrame()\n",
    "    for e in l1 + l2:\n",
    "        bools[e] = df_cleanlocation['Combined'].map(lambda words: e in words)\n",
    "\n",
    "    def do(df, a, b):\n",
    "        count_a_int_b = np.logical_and(df[a], df[b]).values.sum()\n",
    "        count_a_mult_count_b = df[a].values.sum() * df[b].values.sum()\n",
    "        return len(df.index) * count_a_int_b / count_a_mult_count_b\n",
    "\n",
    "    result_df = pd.DataFrame(index=l1, columns=(l2 or l1))\n",
    "    for a, b in (combinations(l1, 2) if y==None else product(l1, l2)):\n",
    "        val = do(bools, a, b)\n",
    "        result_df.at[a, b] = val\n",
    "        if y==None:\n",
    "            result_df.at[b, a] = val\n",
    "\n",
    "    return result_df\n",
    "print('The lift values are: ')\n",
    "do_lift(['battleground1'], ['trump', 'biden'])"
   ]
  },
  {
   "cell_type": "code",
   "execution_count": 14,
   "metadata": {},
   "outputs": [
    {
     "name": "stdout",
     "output_type": "stream",
     "text": [
      "Sentiment Score is\n",
      "trump = -1.9417\n",
      "biden = 1.3518999999999999\n"
     ]
    },
    {
     "name": "stderr",
     "output_type": "stream",
     "text": [
      "/home/abhivik/.local/lib/python3.6/site-packages/ipykernel_launcher.py:8: SettingWithCopyWarning: \n",
      "A value is trying to be set on a copy of a slice from a DataFrame.\n",
      "Try using .loc[row_indexer,col_indexer] = value instead\n",
      "\n",
      "See the caveats in the documentation: http://pandas.pydata.org/pandas-docs/stable/user_guide/indexing.html#returning-a-view-versus-a-copy\n",
      "  \n"
     ]
    }
   ],
   "source": [
    "from vaderSentiment.vaderSentiment import SentimentIntensityAnalyzer\n",
    "analyser = SentimentIntensityAnalyzer()\n",
    "\n",
    "def sentiment_analyzer_scores(sentence):\n",
    "    score = analyser.polarity_scores(sentence)\n",
    "    return score['compound']\n",
    "\n",
    "df_battle['Score'] = df_battle['Tweet'].map(lambda x: sentiment_analyzer_scores(x))\n",
    "\n",
    "trump = 0\n",
    "biden = 0\n",
    "trump_list = []\n",
    "biden_list = []\n",
    "for _,Info in df_battle.iterrows():\n",
    "    if 'trump' in Info['Split Tweet']:\n",
    "        trump += Info['Score']\n",
    "        trump_list.append(Info['Score'])\n",
    "    if 'biden' in Info['Split Tweet']:\n",
    "        biden += Info['Score']\n",
    "        biden_list.append(Info['Score'])\n",
    "print('Sentiment Score is')\n",
    "print('trump = '+str(trump))\n",
    "print('biden = '+str(biden))"
   ]
  },
  {
   "cell_type": "code",
   "execution_count": 15,
   "metadata": {},
   "outputs": [
    {
     "name": "stdout",
     "output_type": "stream",
     "text": [
      "Proportion of positive sentiment\n",
      "35.48%  of the tweet of Trump are positive.\n",
      "100.0%  of the tweet of Biden are positive.\n"
     ]
    }
   ],
   "source": [
    "def get_proportion(ls):\n",
    "    positive = 0\n",
    "    for score in ls:\n",
    "        if score >0:\n",
    "            positive += 1\n",
    "    return positive/len(ls)*100\n",
    "\n",
    "print('Proportion of positive sentiment')\n",
    "print('%s  of the tweet of Trump are positive.' %(str(round(get_proportion(trump_list),2))+'%'))\n",
    "print('%s  of the tweet of Biden are positive.' %(str(round(get_proportion(biden_list),2))+'%'))"
   ]
  },
  {
   "cell_type": "markdown",
   "metadata": {},
   "source": [
    "### F.   What advice would you give to each of the two candidates above based on your analyses in C, D and E above?"
   ]
  },
  {
   "cell_type": "code",
   "execution_count": null,
   "metadata": {},
   "outputs": [],
   "source": []
  },
  {
   "cell_type": "code",
   "execution_count": null,
   "metadata": {},
   "outputs": [],
   "source": []
  }
 ],
 "metadata": {
  "kernelspec": {
   "display_name": "Python 3",
   "language": "python",
   "name": "python3"
  },
  "language_info": {
   "codemirror_mode": {
    "name": "ipython",
    "version": 3
   },
   "file_extension": ".py",
   "mimetype": "text/x-python",
   "name": "python",
   "nbconvert_exporter": "python",
   "pygments_lexer": "ipython3",
   "version": "3.6.8"
  }
 },
 "nbformat": 4,
 "nbformat_minor": 4
}
