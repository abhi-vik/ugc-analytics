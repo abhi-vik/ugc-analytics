{
 "cells": [
  {
   "cell_type": "markdown",
   "metadata": {},
   "source": [
    "# Assignment #2\n",
    "\n",
    "Abhilash Vikram Gupta, Hao Lun Chu Colin, Matthew Viteri, Stephen Oluwaniyi and Yeggi Lee"
   ]
  },
  {
   "cell_type": "code",
   "execution_count": 1,
   "metadata": {},
   "outputs": [],
   "source": [
    "import numpy as np\n",
    "import pandas as pd\n",
    "import tweepy\n",
    "import GetOldTweets3 as got\n",
    "\n",
    "from configparser import ConfigParser\n",
    "from IPython.display import display"
   ]
  },
  {
   "cell_type": "markdown",
   "metadata": {},
   "source": [
    "### A. Collect 5k tweets on the 2020 Presidential election. It is necessary to use general hashtags and search keywords (like 2020 U.S. election or 2020 Presidential Election) rather than “Trump” or “Biden” or “Warren”. Use Tweepy in your Python script, and also ask for the location specified by the user during registration with Twitter. "
   ]
  },
  {
   "cell_type": "code",
   "execution_count": 2,
   "metadata": {},
   "outputs": [],
   "source": [
    "def get_creds():\n",
    "    config = ConfigParser()\n",
    "    config.read('./credentials.ini')\n",
    "\n",
    "    consumer_section = config['consumer']\n",
    "    api_key = consumer_section['api-key']\n",
    "    api_secret_key = consumer_section['api-secret-key']\n",
    "\n",
    "    access_section = config['access']\n",
    "    access_token = access_section['access-token']\n",
    "    access_token_secret = access_section['access-token-secret']\n",
    "    \n",
    "    return api_key, api_secret_key, access_token, access_token_secret"
   ]
  },
  {
   "cell_type": "code",
   "execution_count": 43,
   "metadata": {},
   "outputs": [],
   "source": [
    "try:\n",
    "    consumer_key, consumer_secret, access_token, access_token_secret = get_creds()\n",
    "except KeyError as e:\n",
    "    raise IOError('Twitter credentials used are not included as part of the submitted assignment.') from e\n",
    "\n",
    "auth = tweepy.OAuthHandler(consumer_key, consumer_secret)\n",
    "auth.set_access_token(access_token, access_token_secret)\n",
    "api = tweepy.API(auth)"
   ]
  },
  {
   "cell_type": "code",
   "execution_count": null,
   "metadata": {},
   "outputs": [],
   "source": [
    "display('Preparing...')\n",
    "df = pd.DataFrame(columns=['Date', 'Username', 'User Location', 'Tweet'])\n",
    "\n",
    "query = 'president election 2020'\n",
    "start = '2018-01-01'\n",
    "end = '2019-09-01'\n",
    "count = 5000\n",
    "tweetCriteria = (got.manager.TweetCriteria().setQuerySearch(query)\n",
    "                 .setSince(start)\n",
    "                 .setUntil(end)\n",
    "                 .setMaxTweets(count))\n",
    "\n",
    "tweets = got.manager.TweetManager.getTweets(tweetCriteria)\n",
    "\n",
    "display('Collecting tweets...')\n",
    "for tweet in tweets:\n",
    "    df = df.append({\n",
    "        'Date': tweet.date,\n",
    "        'Username': tweet.username,\n",
    "        'Tweet': tweet.text\n",
    "    }, ignore_index=True)\n",
    "\n",
    "display('Collecting user locations...')\n",
    "for _, row in df.iterrows():\n",
    "    if np.isnan(row['User Location']):\n",
    "        row['User Location'] = api.get_user(row['Username']).location\n",
    "\n",
    "display('Done.')\n",
    "display(df)\n",
    "df.to_csv(f'./{query}_({count})_{end}.csv', index=False)"
   ]
  },
  {
   "cell_type": "code",
   "execution_count": 41,
   "metadata": {},
   "outputs": [],
   "source": [
    "query = 'president election 2020'\n",
    "start = '2018-01-01'\n",
    "end = '2019-09-01'\n",
    "count = 5000\n",
    "df.to_csv(f'./{query}_({count})_{end}.csv', index=False)"
   ]
  },
  {
   "cell_type": "code",
   "execution_count": 42,
   "metadata": {},
   "outputs": [],
   "source": [
    "df = pd.read_csv('president_election_2020_2019-08-31.csv', dtype={'User Location': str})"
   ]
  },
  {
   "cell_type": "code",
   "execution_count": null,
   "metadata": {},
   "outputs": [
    {
     "name": "stderr",
     "output_type": "stream",
     "text": [
      "Rate limit reached. Sleeping for: 264\n"
     ]
    }
   ],
   "source": [
    "api = tweepy.API(auth, wait_on_rate_limit=True, wait_on_rate_limit_notify=True)\n",
    "\n",
    "for index, row in df.iterrows():\n",
    "    if pd.isna(row['User Location']):\n",
    "        try:\n",
    "            df.at[index, 'User Location'] = api.get_user(row['Username']).location\n",
    "        except:\n",
    "            df.to_csv(f'./{query}_({count})_{end}.csv', index=False)\n",
    "            display(df[df['User Location'].isnull()])\n",
    "            break"
   ]
  },
  {
   "cell_type": "markdown",
   "metadata": {},
   "source": [
    "### B.   Find FOUR key issues mentioned by the public in the tweets – e.g., character, personality, healthcare, crime, jobs, etc. (these are examples only, use wordfrequency analysis to find out). Replace words if necessary. Issues associated with Mr. Trump may not have a strong association with the democratic candidate and vice versa. So find a couple of issues that are likely to have strong association with Mr. Trump, and a couple for the democratic candidate."
   ]
  },
  {
   "cell_type": "code",
   "execution_count": null,
   "metadata": {},
   "outputs": [],
   "source": [
    "df = pd.read_csv('president_election_2020_2019-08-31.csv', index_col=0)"
   ]
  }
 ],
 "metadata": {
  "kernelspec": {
   "display_name": "Python 3",
   "language": "python",
   "name": "python3"
  },
  "language_info": {
   "codemirror_mode": {
    "name": "ipython",
    "version": 3
   },
   "file_extension": ".py",
   "mimetype": "text/x-python",
   "name": "python",
   "nbconvert_exporter": "python",
   "pygments_lexer": "ipython3",
   "version": "3.6.8"
  }
 },
 "nbformat": 4,
 "nbformat_minor": 2
}
