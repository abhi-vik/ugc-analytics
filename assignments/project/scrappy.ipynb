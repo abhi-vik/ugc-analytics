{
 "cells": [
  {
   "cell_type": "code",
   "execution_count": 1,
   "metadata": {},
   "outputs": [],
   "source": [
    "import pandas as pd\n",
    "import GetOldTweets3 as got"
   ]
  },
  {
   "cell_type": "code",
   "execution_count": 55,
   "metadata": {},
   "outputs": [],
   "source": [
    "def get_hashtags(query='vacation', count=100):\n",
    "    desired_columns = ['id', 'username', 'text', 'retweets', 'favorites', \n",
    "                       'replies', 'permalink', 'date', 'mentions', 'hashtags']\n",
    "\n",
    "    df = pd.DataFrame(columns=desired_columns)\n",
    "\n",
    "    tweetCriteria = (got.manager.TweetCriteria()\n",
    "                     .setQuerySearch('#' + query)\n",
    "                     .setSince('2019-11-01')  # don't push it too far beyond the \"season\"\n",
    "#                      .setUntil('another-date-string')\n",
    "                     .setMaxTweets(count))\n",
    "\n",
    "    tweets = got.manager.TweetManager.getTweets(tweetCriteria)\n",
    "\n",
    "    for tweet in tweets:\n",
    "        di = tweet.__dict__\n",
    "        df = df.append({key: di[key] for key in di if key in desired_columns}, ignore_index=True)\n",
    "\n",
    "    earliest_date = df['date'].min().strftime('%Y-%m-%d')\n",
    "    df.to_csv(f'./output-#{query}-{count}-since-{earliest_date}.csv', index=False)\n",
    "    return df"
   ]
  },
  {
   "cell_type": "code",
   "execution_count": 56,
   "metadata": {},
   "outputs": [],
   "source": [
    "df = get_hashtags('holidays', 5000)"
   ]
  }
 ],
 "metadata": {
  "kernelspec": {
   "display_name": "Python 3",
   "language": "python",
   "name": "python3"
  },
  "language_info": {
   "codemirror_mode": {
    "name": "ipython",
    "version": 3
   },
   "file_extension": ".py",
   "mimetype": "text/x-python",
   "name": "python",
   "nbconvert_exporter": "python",
   "pygments_lexer": "ipython3",
   "version": "3.6.8"
  }
 },
 "nbformat": 4,
 "nbformat_minor": 2
}
