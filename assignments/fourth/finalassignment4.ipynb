{
 "cells": [
  {
   "cell_type": "markdown",
   "metadata": {},
   "source": [
    "# <center> Assignment 4: Is a Picture Worth a Thousand Words? </center>\n",
    "## <center> Matt Viteri, Abhilash Gupta, Stephen Darasimi Oluwaniyi, Colin Chu </center>"
   ]
  },
  {
   "cell_type": "code",
   "execution_count": 1,
   "metadata": {},
   "outputs": [
    {
     "name": "stderr",
     "output_type": "stream",
     "text": [
      "[nltk_data] Downloading package stopwords to\n",
      "[nltk_data]     /home/abhivik/nltk_data...\n",
      "[nltk_data]   Package stopwords is already up-to-date!\n"
     ]
    }
   ],
   "source": [
    "import pandas as pd\n",
    "import numpy as np\n",
    "from google.cloud import vision\n",
    "import os\n",
    "import nltk\n",
    "import gensim\n",
    "import pyLDAvis\n",
    "import pyLDAvis.gensim\n",
    "import json\n",
    "import warnings\n",
    "\n",
    "warnings.filterwarnings('ignore')\n",
    "nltk.download('stopwords');\n",
    "\n",
    "os.environ[\"GOOGLE_APPLICATION_CREDENTIALS\"]=\"APAD-DARASIMI-8c1a66d445ac.json\"\n",
    "client = vision.ImageAnnotatorClient()\n",
    "image = vision.types.Image()\n"
   ]
  },
  {
   "cell_type": "code",
   "execution_count": 2,
   "metadata": {},
   "outputs": [],
   "source": [
    "import seaborn as sns\n",
    "import json\n",
    "import re\n",
    "from nltk.corpus import stopwords\n",
    "from nltk.stem import PorterStemmer, WordNetLemmatizer\n",
    "from collections import Counter\n",
    "from sklearn.metrics import confusion_matrix,accuracy_score\n",
    "from sklearn.linear_model import LogisticRegression\n",
    "from sklearn.model_selection import train_test_split\n",
    "from sklearn.metrics import confusion_matrix,accuracy_score\n",
    "from sklearn.model_selection import StratifiedKFold"
   ]
  },
  {
   "cell_type": "markdown",
   "metadata": {},
   "source": [
    "## Task 0. \n",
    "\n",
    "On Instagram, choose the National Geographic (natgeo) page (do not use hashtags). Write a\n",
    "scraper or use the Web Scraper to extract \n",
    "- Image URLs (do not extract video URLs, it may end up costing you a lot of money to run analytics on video)\n",
    "- Post caption (the text description of a post)\n",
    "- Number of likes\n",
    "- Number of comments (You don’t need actual comments for this assignment)\n",
    "- Scrape around 400-500 image posts. \n",
    "\n",
    "Using the image URLs, obtain image labels from Google Vision cloud (you will have to create an\n",
    "account with Google to get your credentials as a json file, though the first $300 are free, which\n",
    "should be more than plenty for this assignment)\n",
    "- You will need to write a script to access the Google Vision API."
   ]
  },
  {
   "cell_type": "code",
   "execution_count": 2,
   "metadata": {},
   "outputs": [
    {
     "data": {
      "text/html": [
       "<div>\n",
       "<style scoped>\n",
       "    .dataframe tbody tr th:only-of-type {\n",
       "        vertical-align: middle;\n",
       "    }\n",
       "\n",
       "    .dataframe tbody tr th {\n",
       "        vertical-align: top;\n",
       "    }\n",
       "\n",
       "    .dataframe thead th {\n",
       "        text-align: right;\n",
       "    }\n",
       "</style>\n",
       "<table border=\"1\" class=\"dataframe\">\n",
       "  <thead>\n",
       "    <tr style=\"text-align: right;\">\n",
       "      <th></th>\n",
       "      <th>type</th>\n",
       "      <th>media_url</th>\n",
       "      <th>caption</th>\n",
       "      <th>likes</th>\n",
       "      <th>comments</th>\n",
       "    </tr>\n",
       "  </thead>\n",
       "  <tbody>\n",
       "    <tr>\n",
       "      <th>0</th>\n",
       "      <td>GraphImage</td>\n",
       "      <td>https://scontent-ort2-1.cdninstagram.com/v/t51...</td>\n",
       "      <td>Photo by @jasperdoest | Penguins, like other b...</td>\n",
       "      <td>123736</td>\n",
       "      <td>697</td>\n",
       "    </tr>\n",
       "    <tr>\n",
       "      <th>1</th>\n",
       "      <td>GraphImage</td>\n",
       "      <td>https://scontent-ort2-1.cdninstagram.com/v/t51...</td>\n",
       "      <td>Photo by William Albert Allard @williamalberta...</td>\n",
       "      <td>176725</td>\n",
       "      <td>343</td>\n",
       "    </tr>\n",
       "    <tr>\n",
       "      <th>2</th>\n",
       "      <td>GraphImage</td>\n",
       "      <td>https://scontent-ort2-1.cdninstagram.com/v/t51...</td>\n",
       "      <td>Photo by Katie Orlinsky @katieorlinsky | A you...</td>\n",
       "      <td>205613</td>\n",
       "      <td>859</td>\n",
       "    </tr>\n",
       "    <tr>\n",
       "      <th>3</th>\n",
       "      <td>GraphImage</td>\n",
       "      <td>https://scontent-ort2-1.cdninstagram.com/v/t51...</td>\n",
       "      <td>Photo by Trevor Frost @tbfrost | Snakes in car...</td>\n",
       "      <td>188741</td>\n",
       "      <td>920</td>\n",
       "    </tr>\n",
       "    <tr>\n",
       "      <th>4</th>\n",
       "      <td>GraphImage</td>\n",
       "      <td>https://scontent-ort2-1.cdninstagram.com/v/t51...</td>\n",
       "      <td>Photo by Michael Melford @michaelmelford | An ...</td>\n",
       "      <td>293077</td>\n",
       "      <td>589</td>\n",
       "    </tr>\n",
       "  </tbody>\n",
       "</table>\n",
       "</div>"
      ],
      "text/plain": [
       "         type                                          media_url  \\\n",
       "0  GraphImage  https://scontent-ort2-1.cdninstagram.com/v/t51...   \n",
       "1  GraphImage  https://scontent-ort2-1.cdninstagram.com/v/t51...   \n",
       "2  GraphImage  https://scontent-ort2-1.cdninstagram.com/v/t51...   \n",
       "3  GraphImage  https://scontent-ort2-1.cdninstagram.com/v/t51...   \n",
       "4  GraphImage  https://scontent-ort2-1.cdninstagram.com/v/t51...   \n",
       "\n",
       "                                             caption   likes  comments  \n",
       "0  Photo by @jasperdoest | Penguins, like other b...  123736       697  \n",
       "1  Photo by William Albert Allard @williamalberta...  176725       343  \n",
       "2  Photo by Katie Orlinsky @katieorlinsky | A you...  205613       859  \n",
       "3  Photo by Trevor Frost @tbfrost | Snakes in car...  188741       920  \n",
       "4  Photo by Michael Melford @michaelmelford | An ...  293077       589  "
      ]
     },
     "execution_count": 2,
     "metadata": {},
     "output_type": "execute_result"
    }
   ],
   "source": [
    "## See scraper in attached file\n",
    "data = pd.read_csv(\"output.csv\")\n",
    "data.head()"
   ]
  },
  {
   "cell_type": "markdown",
   "metadata": {},
   "source": [
    "## Task A. "
   ]
  },
  {
   "cell_type": "markdown",
   "metadata": {},
   "source": [
    "Create a metric for engagement by using a weighted sum of # likes and # comments. \n",
    "- First normalize # likes and # comments such that they both have values between 0 and 1. You can scale the # likes by dividing by the maximum # likes (for a post) in your data and do the same for # comments, so that # likes and comments will be in the range [0,1]\n",
    "- Now create an <b> engagement score = .4*# likes (normalized) + .6*# comments (normalized) </b>\n",
    "- Define High (1) and Low (0) engagement based on whether the engagement score is above or below the median value"
   ]
  },
  {
   "cell_type": "markdown",
   "metadata": {},
   "source": [
    "### Normalizing Likes & Comments"
   ]
  },
  {
   "cell_type": "code",
   "execution_count": 3,
   "metadata": {},
   "outputs": [
    {
     "name": "stdout",
     "output_type": "stream",
     "text": [
      "0    0.000338\n",
      "1    0.035831\n",
      "2    0.055181\n",
      "3    0.043879\n",
      "4    0.113766\n",
      "Name: likes, dtype: float64\n",
      "The range of Norm_Likes is between 1 and 0\n",
      "\n",
      "0    0.036970\n",
      "1    0.009301\n",
      "2    0.049633\n",
      "3    0.054401\n",
      "4    0.028529\n",
      "Name: comments, dtype: float64\n",
      "\n",
      " The range of Norm_Comments is between 1 and 0\n"
     ]
    }
   ],
   "source": [
    "Likes = data['likes']\n",
    "Norm_Likes = (Likes-Likes.min())/(Likes.max()-Likes.min())\n",
    "print(Norm_Likes.head())\n",
    "print(\"The range of Norm_Likes is between %i and %i\"%(Norm_Likes.max(),Norm_Likes.min()))\n",
    "print()\n",
    "Comments = data['comments']\n",
    "Norm_Comments = (Comments-Comments.min())/(Comments.max()-Comments.min())\n",
    "print(Norm_Comments.head())\n",
    "print(\"\\n The range of Norm_Comments is between %i and %i\"%(Norm_Comments.max(),Norm_Comments.min()))"
   ]
  },
  {
   "cell_type": "markdown",
   "metadata": {},
   "source": [
    "### Engagement Score"
   ]
  },
  {
   "cell_type": "code",
   "execution_count": 4,
   "metadata": {},
   "outputs": [],
   "source": [
    "Engagement_Score = 0.4*Norm_Likes + 0.6*Norm_Comments\n",
    "Engagement_Median = Engagement_Score.median()"
   ]
  },
  {
   "cell_type": "markdown",
   "metadata": {},
   "source": [
    "### Determine Engagement [ 1 or 0 ] base on Engagement Score"
   ]
  },
  {
   "cell_type": "code",
   "execution_count": 5,
   "metadata": {},
   "outputs": [],
   "source": [
    "Engagement = Engagement_Score.apply(lambda x: 1 if x >= Engagement_Median else 0)"
   ]
  },
  {
   "cell_type": "code",
   "execution_count": 6,
   "metadata": {},
   "outputs": [],
   "source": [
    "data['Norm_Likes'] = Norm_Likes\n",
    "data['Norm_Comments'] = Norm_Comments\n",
    "data['Engagement_Score'] = Engagement_Score\n",
    "data['Engagement'] = Engagement"
   ]
  },
  {
   "cell_type": "code",
   "execution_count": 7,
   "metadata": {},
   "outputs": [],
   "source": [
    "data.to_csv('TaskA.csv', index=False)"
   ]
  },
  {
   "cell_type": "code",
   "execution_count": 8,
   "metadata": {},
   "outputs": [],
   "source": [
    "## Getting the image labels\n",
    "\n",
    "def detect_labels_uri(uri):\n",
    "    \"\"\"Detects labels in the file located in Google Cloud Storage or on the\n",
    "    Web.\"\"\"\n",
    "    image.source.image_uri = uri\n",
    "    response = client.label_detection(image=image)\n",
    "    labels = response.label_annotations\n",
    "    label_description = []\n",
    "    for label in labels:\n",
    "        label_description.append(label.description)\n",
    "    return label_description"
   ]
  },
  {
   "cell_type": "code",
   "execution_count": 9,
   "metadata": {},
   "outputs": [],
   "source": [
    "df = pd.read_csv('TaskA.csv')"
   ]
  },
  {
   "cell_type": "code",
   "execution_count": 10,
   "metadata": {},
   "outputs": [],
   "source": [
    "df[\"image_labels\"] = df[\"media_url\"].apply(lambda x: detect_labels_uri(x))"
   ]
  },
  {
   "cell_type": "code",
   "execution_count": 11,
   "metadata": {},
   "outputs": [],
   "source": [
    "df = df[['type','media_url','image_labels','caption','likes','comments','Norm_Likes','Norm_Comments','Engagement_Score','Engagement']]"
   ]
  },
  {
   "cell_type": "code",
   "execution_count": 12,
   "metadata": {},
   "outputs": [],
   "source": [
    "df.to_csv('image_labels.csv', index=False)"
   ]
  },
  {
   "cell_type": "markdown",
   "metadata": {},
   "source": [
    "## Task B\n",
    "\n",
    "Run a logistic regression with Engagement (binary) as the dependent variable, and the\n",
    "image labels as independent variables. \n",
    "- What is the accuracy (show the confusion matrix)?\n",
    "- What accuracy do you get by using the post caption words as the independent variables instead of image labels?\n",
    "- Finally, what accuracy do you get by combining the image labels and post captions and using them as independent variables? What can you conclude from your analysis?\n",
    "- Note: Doing a word frequency analysis and word replacement on the image labels as well as captions will increase the accuracy of prediction. Needless to say, TF-IDF scores should be used. "
   ]
  },
  {
   "cell_type": "code",
   "execution_count": 3,
   "metadata": {},
   "outputs": [],
   "source": [
    "df = pd.read_csv('image_labels.csv')"
   ]
  },
  {
   "cell_type": "code",
   "execution_count": 4,
   "metadata": {},
   "outputs": [],
   "source": [
    "same_map = {\n",
    "    'Terrestrial animal':  ['Bengal tiger', 'Siberian Tiger','Big cats','Giraffidae',\n",
    "                               'Giraffe', 'Giraffidae','Felidae','Panda','Bear','Fur','Lycaon pictus','Canidae','Snout'\n",
    "                               'Antler','Barren ground Caribou','Deer','Black rhinoceros','Black-footed ferret','Bull','Burmese python',\n",
    "                                'Python','Burro','Dog','Dog breed','Elk','Fawn','Ferret','Frog','Hognose snake','Indian elephant','Indian rhinoceros',\n",
    "                                'Mare','Mustelidae','Mustelinae','Python','Python family','Reindeer',\n",
    "                               'Rhinoceros','Sloth','Stoat','Suidae','Three-toed sloth',\n",
    "                               'Warthog','Weasel','White rhinoceros','polecat','African elephant','Arabian camel','Bovine','Camel',\n",
    "                                'Camelid','Elapidae','Elephants and Mammoths','Elephants','Hunting dog','Hyena','Irish wolfhound',\n",
    "                                'Mane','Scaled reptile','Serpent','Snake','Masai lion','Lion'\n",
    "                               ],\n",
    "    'Music': ['Accordion','Accordionist','Diatonic button accordion','Concertina','Folk instrument','Free reed aerophone',\n",
    "             'Trikiti','Garmon'],\n",
    "    'Sky' : ['Cumulus','Cloud'],\n",
    "    'Volant animal' : ['Budgie','Lovebird','Macaw','Parrot','Pelican','Ciconiiformes','Stork','Wing','Seabird',\n",
    "                      'Flightless bird','Bird'],\n",
    "    'Wildlife': ['Dinosaur','Grazing','Phyllobates','Poison dart frog','Tyrannosaurus','Velociraptor','Pack animal','Jungle'],\n",
    "    'Aquatic animal' :  ['Cartilaginous fish','Fish','Manta ray','Marine biology','Rays and skates','Skate','Amphibian',\n",
    "                        'Bull shark','Carcharhiniformes','Deep sea fish','Great white shark','Green sea turtle',\n",
    "                        'Hairfinned silverfish','Humpback whale','Hawksbill sea turtle',\"Kemp's ridley sea turtle\",\n",
    "                        'Loggerhead sea turtle','Manta ray','Olive ridley sea turtle','Requiem shark','Sea turtle',\n",
    "                        'Shark','Stingray','Tiger shark','Toad','Whale','grey whale','Cetacea','Earless seal','Fin','Fur seal',\n",
    "                        'Harbor seal','Seal','Water bird','Emperor penguin''Gentoo penguin','Penguin','Marine mammal' ],\n",
    "    'Animal' :['Carnivore','Mammal','Organism','Flesh','Cheek','Climbing','Eating','Herder','Hip','Hug','Knee','Mouth',\n",
    "              'Skeleton','Tail','Turtle','Claw','Chin','Male','Reptile','Beak','Skin','Vertebrate'],\n",
    "    'Nature': ['Night','Underwater','Cloud','Darkness','Space','Mud','Safari','Natural environment',\n",
    "              'Field','Savanna','Groundcover','Atmosphere','Atmospheric phenomenon',\n",
    "              'Wind','Star','Afterglow','Bedrock','Bird migration','Birth','Cave','Cliff','Coastal and oceanic landforms',\n",
    "              'Dirt road','Extinction','Family','Fire','Flame','Flock','Floor','Fog','Fossil','Harvest','Harvester',\n",
    "              'Heat','Ice cave','Interaction','Lava tube','Magenta','Massif',\n",
    "              'Metal','Mist','Outcrop','Pasture','Steppe','Stratovolcano','Summit','Sunrise','Tide','Tundra',\n",
    "              'Volcanic landform','Volcano','Wadi','Dune','Erg','Iceberg','Rainforest','Aeolian landform','Desert',\n",
    "              'Highland','Sahara','Ecoregion','Snow','Wilderness','Organism','Rock','Mountain'],\n",
    "    \n",
    "    'Plant' :['Crop','Woody plant','Tree','Grass','Grassland','Plantation','Green','Branch','Lawn','Attalea speciosa','Desert Palm',\n",
    "             'Borassus flabellifer','Borassus flabellifer','Elaeis','Flower','Fungus','Groundcover','Terrestrial plant','Arecales'\n",
    "             'Cash crop','Date palm','Soil','Vegetation','Leaf'\n",
    "             ],\n",
    "    'Architecture':     ['Building','Door','Room','Stairs','Wall','Landmark','Tower','Spire','Finial','Bridge','Cityscape',\n",
    "                        'Holy places','Hospital','Museum','Statue','Village','Vineyard'],\n",
    "    'Aquatic': ['Arctic','Arctic ocean','Blue','Glacial landform','Glacier','Ice','Ice cave','Iceberg','Polar ice cap',\n",
    "               'Boat','Sail','Sailing ship','Sailing','Sea','Tall ship','Watercraft','Water','Aqua','Diving equipment','Dike',\n",
    "               'Coral','Coral reef','Harbor','Reef','Sea ice','Tarn','Pond','Arctic ocean','River','Ocean','Water'],\n",
    "    'Human element': ['Vacation','Street fashion','Human body','Human','Artificial turf','Shoe','Bed sheet',\n",
    "                     'Basketball','Bedroom','Blazer','Bow tie','Bride','Bridle','Caving',\n",
    "                      'Cheerleading','Clinic','Cooling tower','Dance','Electrical supply','Electricity','Explosion',\n",
    "                     'Fashion accessory','Fiction','Fictional character','Flare','Flash photography','Flip (acrobatic)',\n",
    "                     'Flooring','Footwear','Gardener','Gentleman','Gown','Grandparent','Halter','Head restraint',\n",
    "                     'Headpiece','Horse harness','Horse supplies','Horse tack','Human leg','Human settlement',\n",
    "                     'Knitting','Living room','Love','Metropolis','Metropolitan area','Military person','Music venue',\n",
    "                     'National park','Net','Personal protective equipment','Scuba diving','Garden',\n",
    "                     'Military camouflage','Military organization','Military uniform'],\n",
    "    'Food' : ['Comfort food','Meal','Restaurant','Agriculture','Bread','Bun'],\n",
    "    'Furniture' : ['Bed','Chair','Coffee table','Compact car','Fan','Hospital bed'],\n",
    "    'Photography' : ['Lens flare','Screenshot','Reflection','Scene','Digital compositing','Collage','Colorfulness',\n",
    "                    'Photo shoot','Portrait photography','Visual effect lighting','Wallpaper','Visual arts'],\n",
    "    'Transportation' :['Bicycle drivetrain part','Bicycle wheel','Car','Carriage','Vehicle','Family car','Horse and buggy',\n",
    "                      'Mid-size car','Wagon','Watercraft','Bicycle',],\n",
    "    'Technology': ['Display device','Electronic device','Squeezebox'],\n",
    "    'Weapons' :['Airsoft','Gun','Shotgun','Gunfighter']\n",
    "}"
   ]
  },
  {
   "cell_type": "code",
   "execution_count": 5,
   "metadata": {},
   "outputs": [],
   "source": [
    "stop_words = set(stopwords.words('english'))\n",
    "lemmatizer = WordNetLemmatizer()\n",
    "ps = PorterStemmer()"
   ]
  },
  {
   "cell_type": "code",
   "execution_count": 6,
   "metadata": {},
   "outputs": [],
   "source": [
    "def get_split_char(caption):\n",
    "    if '@simonnorfolkstudio' in caption:\n",
    "        return 'I'\n",
    "    elif '@dguttenfelder' in caption:\n",
    "        return '//'\n",
    "    else:\n",
    "        return '|'\n",
    "\n",
    "def cut_n_trailing_words(words):\n",
    "    count = 0\n",
    "    for word in reversed(words):\n",
    "        if word == '' or word[0] == '#' or word[0] == '@' or word.endswith('2063#tehran'):\n",
    "            count += 1\n",
    "        else:\n",
    "            break\n",
    "    return count\n",
    "    \n",
    "def clean(caption):\n",
    "    try:\n",
    "        v1 = ' '.join(caption.split(get_split_char(caption))[1:]).strip()\n",
    "    except Exception as e:\n",
    "        print(caption)\n",
    "        print(e)\n",
    "    v2 = v1[:-3] if v1.endswith('}}]') else v1\n",
    "    v3 = v2.replace('\\\\n', ' ').replace('\\\\', '\\'').replace('//', '')\n",
    "    v3_split = [lemmatizer.lemmatize(ps.stem(x)) for x in v3.split(' ') if (x != '' and x not in stop_words)]\n",
    "    v3_cutoff = -1 * cut_n_trailing_words(v3_split)\n",
    "    v4 = ' '.join(v3_split[:v3_cutoff]) if v3_cutoff != 0 else ' '.join(v3_split)\n",
    "    return v4\n",
    "\n",
    "cleaned_captions = [clean(c) for c in df['caption']]"
   ]
  },
  {
   "cell_type": "code",
   "execution_count": 7,
   "metadata": {},
   "outputs": [],
   "source": [
    "joined_cleaned_captions = ' '.join(cleaned_captions)"
   ]
  },
  {
   "cell_type": "code",
   "execution_count": 8,
   "metadata": {},
   "outputs": [],
   "source": [
    "def splitter(data):\n",
    "    words = re.sub(\"([^0-9A-Za-z \\t]) |(\\w+:\\/\\/\\S+)\", \" \", data.lower()).split()\n",
    "    return [word for word in words]"
   ]
  },
  {
   "cell_type": "code",
   "execution_count": 9,
   "metadata": {},
   "outputs": [],
   "source": [
    "caption_words = splitter(joined_cleaned_captions)"
   ]
  },
  {
   "cell_type": "code",
   "execution_count": 10,
   "metadata": {},
   "outputs": [],
   "source": [
    "same_inv_map = {word: root for root, words in same_map.items() for word in words}"
   ]
  },
  {
   "cell_type": "code",
   "execution_count": 11,
   "metadata": {},
   "outputs": [
    {
     "data": {
      "text/plain": [
       "[('i', 178),\n",
       " ('woman', 144),\n",
       " ('the', 129),\n",
       " ('photograph', 108),\n",
       " ('follow', 107),\n",
       " ('for', 96),\n",
       " ('world', 95),\n",
       " ('women', 91),\n",
       " ('stori', 84),\n",
       " ('one', 74),\n",
       " ('life', 74),\n",
       " ('use', 71),\n",
       " ('it', 66),\n",
       " ('like', 64),\n",
       " ('next', 63),\n",
       " ('a', 62),\n",
       " ('week', 54),\n",
       " ('see', 52),\n",
       " ('imag', 51),\n",
       " ('nat', 51)]"
      ]
     },
     "execution_count": 11,
     "metadata": {},
     "output_type": "execute_result"
    }
   ],
   "source": [
    "def convert_same_all(words):\n",
    "    return [convert_same(word) for word in words]\n",
    "\n",
    "def convert_same(word):\n",
    "    return same_inv_map[word] if word in same_inv_map else word\n",
    "\n",
    "caption_words_converted = convert_same_all(caption_words)\n",
    "selected_words = np.intersect1d(np.array([]).tolist(), caption_words_converted)\n",
    "Counter(caption_words_converted).most_common(20)"
   ]
  },
  {
   "cell_type": "code",
   "execution_count": 12,
   "metadata": {},
   "outputs": [],
   "source": [
    "df['image_labels_mapped'] = df['image_labels'].apply(lambda l: json.loads(l.replace('\\'', '\\\"'))).apply(convert_same_all)\n",
    "# use in place of above if an error occurs\n",
    "# df['image_labels_mapped'] = df['image_labels'].map(convert_same_all)"
   ]
  },
  {
   "cell_type": "code",
   "execution_count": 13,
   "metadata": {},
   "outputs": [],
   "source": [
    "def tf_idf(list_of_lists):\n",
    "    words = [word for l in list_of_lists for word in l]\n",
    "    words = [t[0] for t in Counter(words).most_common(100)]\n",
    "    tf = pd.DataFrame(False, index=range(len(list_of_lists)), columns=words)\n",
    "    \n",
    "    for col in words:\n",
    "        tf[col] = [l.count(col)/len(l) for l in list_of_lists]\n",
    "    \n",
    "    number_of_docs = len(list_of_lists)\n",
    "    \n",
    "    idf = (tf\n",
    "        .applymap(lambda v: v != 0)\n",
    "        .sum(axis='rows')\n",
    "        .apply(lambda v: np.log(number_of_docs/v)))\n",
    "    \n",
    "    return pd.DataFrame([np.multiply(row.tolist(), idf.tolist()) for _, row in tf.iterrows()])\n",
    "    \n",
    "\n",
    "tf_idf_df = tf_idf(df['image_labels_mapped'])\n",
    "X = tf_idf_df.values\n",
    "y = df['Engagement'].values"
   ]
  },
  {
   "cell_type": "code",
   "execution_count": 18,
   "metadata": {},
   "outputs": [
    {
     "name": "stdout",
     "output_type": "stream",
     "text": [
      "Accuracy score (image labels only): 0.6805555555555556\n"
     ]
    },
    {
     "data": {
      "image/png": "[encoded data removed]",
      "text/plain": [
       "<Figure size 432x288 with 2 Axes>"
      ]
     },
     "metadata": {
      "needs_background": "light"
     },
     "output_type": "display_data"
    }
   ],
   "source": [
    "X_train,X_test,y_train,y_test=train_test_split(X,y,test_size=0.25)\n",
    "\n",
    "model = LogisticRegression(solver='lbfgs').fit(X_train, y_train)\n",
    "y_pred = model.predict(X_test)\n",
    "print('Accuracy score (image labels only):', accuracy_score(y_test, y_pred))\n",
    "sns.heatmap(confusion_matrix(y_test, y_pred));"
   ]
  },
  {
   "cell_type": "code",
   "execution_count": 19,
   "metadata": {},
   "outputs": [],
   "source": [
    "#adding over selected words for each image\n",
    "X = tf_idf(df['image_labels_mapped'].map(lambda v: v + selected_words.tolist()))"
   ]
  },
  {
   "cell_type": "code",
   "execution_count": 32,
   "metadata": {},
   "outputs": [
    {
     "name": "stdout",
     "output_type": "stream",
     "text": [
      "Accuracy score (captions & image labels): 0.7586206896551724\n"
     ]
    },
    {
     "data": {
      "image/png": "[encoded data removed]",
      "text/plain": [
       "<Figure size 432x288 with 2 Axes>"
      ]
     },
     "metadata": {
      "needs_background": "light"
     },
     "output_type": "display_data"
    }
   ],
   "source": [
    "X_train,X_test,y_train,y_test=train_test_split(X,y,test_size=0.1)\n",
    "\n",
    "model = LogisticRegression(solver='lbfgs').fit(X_train, y_train)\n",
    "y_pred = model.predict(X_test)\n",
    "print('Accuracy score (captions & image labels):', accuracy_score(y_test, y_pred))\n",
    "sns.heatmap(confusion_matrix(y_test, y_pred));"
   ]
  },
  {
   "cell_type": "markdown",
   "metadata": {},
   "source": [
    "## Task C\n",
    "Perform topic modeling (LDA) on the image labels. Choose an appropriate number of topics. \n",
    "- You may want to start with 5, but adjust the number up or down depending on the word distributions you get\n",
    "- LDA should produce two outputs: \n",
    "    - A file showing which words load on which topics\n",
    "    - A file showing topic weights for each image. "
   ]
  },
  {
   "cell_type": "code",
   "execution_count": 13,
   "metadata": {},
   "outputs": [],
   "source": [
    "NUMBER_OF_TOPICS = 5 "
   ]
  },
  {
   "cell_type": "code",
   "execution_count": 15,
   "metadata": {},
   "outputs": [
    {
     "data": {
      "text/plain": [
       "[(0,\n",
       "  '0.030*\"Geological phenomenon\" + 0.028*\"Atmospheric phenomenon\" + 0.024*\"Bird\" + 0.024*\"Wildlife\" + 0.022*\"Headgear\" + 0.020*\"Winter\" + 0.020*\"Beak\" + 0.016*\"Snow\" + 0.016*\"Carnivore\" + 0.015*\"Natural environment\"'),\n",
       " (1,\n",
       "  '0.055*\"Sky\" + 0.051*\"Tree\" + 0.040*\"Photography\" + 0.036*\"Plant\" + 0.029*\"Wildlife\" + 0.027*\"Night\" + 0.024*\"Water\" + 0.021*\"Landscape\" + 0.018*\"Adaptation\" + 0.018*\"Rock\"'),\n",
       " (2,\n",
       "  '0.038*\"Event\" + 0.032*\"Fun\" + 0.032*\"People\" + 0.031*\"Art\" + 0.031*\"Tourism\" + 0.027*\"Child\" + 0.027*\"Crowd\" + 0.026*\"Leisure\" + 0.023*\"Lady\" + 0.018*\"Temple\"'),\n",
       " (3,\n",
       "  '0.037*\"Adaptation\" + 0.035*\"Human\" + 0.028*\"Room\" + 0.027*\"Terrestrial animal\" + 0.018*\"Vertebrate\" + 0.018*\"Vehicle\" + 0.016*\"Grassland\" + 0.015*\"Mammal\" + 0.014*\"Snout\" + 0.013*\"Grass\"'),\n",
       " (4,\n",
       "  '0.042*\"Sky\" + 0.041*\"Sea\" + 0.036*\"Water\" + 0.032*\"Blue\" + 0.030*\"Cloud\" + 0.027*\"Photography\" + 0.023*\"Ocean\" + 0.021*\"Vacation\" + 0.019*\"Horizon\" + 0.016*\"Fun\"')]"
      ]
     },
     "execution_count": 15,
     "metadata": {},
     "output_type": "execute_result"
    }
   ],
   "source": [
    "df = pd.read_csv('image_labels.csv')\n",
    "df['image_labels'] = df['image_labels'].apply(lambda l: json.loads(l.replace('\\'', '\\\"')))\n",
    "\n",
    "texts = df['image_labels'].tolist()\n",
    "id2word = gensim.corpora.Dictionary(texts)\n",
    "corpus = [id2word.doc2bow(text) for text in texts]\n",
    "\n",
    "lda_model = gensim.models.ldamodel.LdaModel(corpus=corpus,\n",
    "                                           id2word=id2word,\n",
    "                                           num_topics=NUMBER_OF_TOPICS, \n",
    "                                           random_state=9,\n",
    "                                           update_every=1,\n",
    "                                           chunksize=25,\n",
    "                                           passes=100,\n",
    "                                           alpha='auto',\n",
    "                                           per_word_topics=True)\n",
    "\n",
    "lda_model.print_topics()"
   ]
  },
  {
   "cell_type": "code",
   "execution_count": 16,
   "metadata": {},
   "outputs": [
    {
     "data": {
      "text/html": [
       "\n",
       "<link rel=\"stylesheet\" type=\"text/css\" href=\"https://cdn.rawgit.com/bmabey/pyLDAvis/files/ldavis.v1.0.0.css\">\n",
       "\n",
       "\n",
       "<div id=\"ldavis_el212791401757527688728935614503\"></div>\n",
       "<script type=\"text/javascript\">\n",
       "\n",
       "var ldavis_el212791401757527688728935614503_data = {\"mdsDat\": {\"x\": [0.23452762006046066, 0.1315469800689024, -0.15697073883814316, -0.12367143224238417, -0.0854324290488361], \"y\": [-0.06291268362175631, 0.06950191641366978, -0.18679900854070966, 0.21742786322153101, -0.037218087472734925], \"topics\": [1, 2, 3, 4, 5], \"cluster\": [1, 1, 1, 1, 1], \"Freq\": [29.727577209472656, 20.069576263427734, 19.886966705322266, 16.781137466430664, 13.534741401672363]}, \"tinfo\": {\"Category\": [\"Default\", \"Default\", \"Default\", \"Default\", \"Default\", \"Default\", \"Default\", \"Default\", \"Default\", \"Default\", \"Default\", \"Default\", \"Default\", \"Default\", \"Default\", \"Default\", \"Default\", \"Default\", \"Default\", \"Default\", \"Default\", \"Default\", \"Default\", \"Default\", \"Default\", \"Default\", \"Default\", \"Default\", \"Default\", \"Default\", \"Topic1\", \"Topic1\", \"Topic1\", \"Topic1\", \"Topic1\", \"Topic1\", \"Topic1\", \"Topic1\", \"Topic1\", \"Topic1\", \"Topic1\", \"Topic1\", \"Topic1\", \"Topic1\", \"Topic1\", \"Topic1\", \"Topic1\", \"Topic1\", \"Topic1\", \"Topic1\", \"Topic1\", \"Topic1\", \"Topic1\", \"Topic1\", \"Topic1\", \"Topic1\", \"Topic1\", \"Topic1\", \"Topic1\", \"Topic1\", \"Topic1\", \"Topic1\", \"Topic1\", \"Topic1\", \"Topic1\", \"Topic1\", \"Topic1\", \"Topic1\", \"Topic1\", \"Topic2\", \"Topic2\", \"Topic2\", \"Topic2\", \"Topic2\", \"Topic2\", \"Topic2\", \"Topic2\", \"Topic2\", \"Topic2\", \"Topic2\", \"Topic2\", \"Topic2\", \"Topic2\", \"Topic2\", \"Topic2\", \"Topic2\", \"Topic2\", \"Topic2\", \"Topic2\", \"Topic2\", \"Topic2\", \"Topic2\", \"Topic2\", \"Topic2\", \"Topic2\", \"Topic2\", \"Topic2\", \"Topic2\", \"Topic2\", \"Topic2\", \"Topic2\", \"Topic2\", \"Topic2\", \"Topic2\", \"Topic2\", \"Topic2\", \"Topic2\", \"Topic2\", \"Topic2\", \"Topic3\", \"Topic3\", \"Topic3\", \"Topic3\", \"Topic3\", \"Topic3\", \"Topic3\", \"Topic3\", \"Topic3\", \"Topic3\", \"Topic3\", \"Topic3\", \"Topic3\", \"Topic3\", \"Topic3\", \"Topic3\", \"Topic3\", \"Topic3\", \"Topic3\", \"Topic3\", \"Topic3\", \"Topic3\", \"Topic3\", \"Topic3\", \"Topic3\", \"Topic3\", \"Topic3\", \"Topic3\", \"Topic3\", \"Topic3\", \"Topic3\", \"Topic3\", \"Topic3\", \"Topic3\", \"Topic3\", \"Topic4\", \"Topic4\", \"Topic4\", \"Topic4\", \"Topic4\", \"Topic4\", \"Topic4\", \"Topic4\", \"Topic4\", \"Topic4\", \"Topic4\", \"Topic4\", \"Topic4\", \"Topic4\", \"Topic4\", \"Topic4\", \"Topic4\", \"Topic4\", \"Topic4\", \"Topic4\", \"Topic4\", \"Topic4\", \"Topic4\", \"Topic4\", \"Topic4\", \"Topic4\", \"Topic4\", \"Topic4\", \"Topic4\", \"Topic4\", \"Topic4\", \"Topic4\", \"Topic4\", \"Topic4\", \"Topic4\", \"Topic5\", \"Topic5\", \"Topic5\", \"Topic5\", \"Topic5\", \"Topic5\", \"Topic5\", \"Topic5\", \"Topic5\", \"Topic5\", \"Topic5\", \"Topic5\", \"Topic5\", \"Topic5\", \"Topic5\", \"Topic5\", \"Topic5\", \"Topic5\", \"Topic5\", \"Topic5\", \"Topic5\", \"Topic5\", \"Topic5\", \"Topic5\", \"Topic5\", \"Topic5\", \"Topic5\", \"Topic5\", \"Topic5\", \"Topic5\", \"Topic5\", \"Topic5\", \"Topic5\", \"Topic5\", \"Topic5\", \"Topic5\"], \"Freq\": [38.0, 63.0, 21.0, 27.0, 44.0, 16.0, 18.0, 37.0, 32.0, 30.0, 16.0, 14.0, 22.0, 13.0, 13.0, 21.0, 14.0, 14.0, 26.0, 10.0, 11.0, 11.0, 11.0, 10.0, 12.0, 10.0, 8.0, 11.0, 8.0, 10.0, 38.38855743408203, 26.8998966217041, 20.40422248840332, 13.675820350646973, 13.080156326293945, 12.314884185791016, 12.341194152832031, 11.490592956542969, 11.089701652526855, 10.201215744018555, 8.94916820526123, 8.118054389953613, 8.027026176452637, 8.294950485229492, 7.6323394775390625, 6.92360782623291, 6.780381679534912, 7.359013557434082, 6.663992404937744, 6.283585548400879, 5.466031074523926, 5.069178104400635, 4.8857879638671875, 4.747898578643799, 4.60727596282959, 4.946186065673828, 4.457038402557373, 4.392101287841797, 16.11849021911621, 4.2796854972839355, 21.833276748657227, 41.20310974121094, 30.02475357055664, 11.082307815551758, 9.11378288269043, 18.146259307861328, 8.208609580993652, 13.702973365783691, 10.756593704223633, 20.773212432861328, 16.214313507080078, 11.5936279296875, 10.826018333435059, 9.732124328613281, 7.326393127441406, 6.176579475402832, 5.980955123901367, 5.863807678222656, 5.938709259033203, 5.765223503112793, 5.503974437713623, 4.896344184875488, 4.840490818023682, 4.317558765411377, 4.347593307495117, 4.008232116699219, 3.9783294200897217, 3.673707962036133, 3.4737842082977295, 3.462515115737915, 3.211796998977661, 3.196117877960205, 3.196117877960205, 3.1200449466705322, 3.1125779151916504, 3.0140347480773926, 2.9375967979431152, 3.172755718231201, 2.8802120685577393, 15.030725479125977, 18.4395694732666, 21.52029037475586, 7.0250630378723145, 6.952000141143799, 13.85001277923584, 8.242168426513672, 5.543009281158447, 4.344055652618408, 4.017434120178223, 17.694643020629883, 14.275162696838379, 13.727068901062012, 9.100048065185547, 7.825562477111816, 7.121117115020752, 6.572608947753906, 6.237808704376221, 5.863193035125732, 6.126875400543213, 5.515323638916016, 5.156157493591309, 4.97294807434082, 4.919564723968506, 4.797491550445557, 4.796391010284424, 4.0207085609436035, 4.0207085609436035, 4.0207085609436035, 3.9743828773498535, 3.9361214637756348, 3.9049174785614014, 3.786761999130249, 3.6595165729522705, 3.6021785736083984, 3.5736660957336426, 3.50121808052063, 3.50121808052063, 3.536738872528076, 3.5865910053253174, 18.39474868774414, 9.130423545837402, 7.498534202575684, 4.73459005355835, 5.971026420593262, 16.283098220825195, 13.462544441223145, 13.251174926757812, 13.02689266204834, 11.358819961547852, 11.260429382324219, 11.138779640197754, 9.73989200592041, 7.7203803062438965, 7.613747596740723, 6.499755382537842, 4.993684768676758, 4.784056186676025, 4.483882427215576, 4.166469573974609, 3.9480772018432617, 3.664853811264038, 3.582838535308838, 3.386686086654663, 3.3413989543914795, 3.3413989543914795, 3.0536885261535645, 3.0182125568389893, 3.0087552070617676, 2.678267478942871, 2.5929627418518066, 2.5466103553771973, 2.497591018676758, 2.460278034210205, 2.201267957687378, 2.216867446899414, 3.1493606567382812, 13.60090446472168, 5.891464710235596, 2.8893518447875977, 10.126107215881348, 9.62338924407959, 8.191250801086426, 7.662210941314697, 6.927316188812256, 6.763045787811279, 5.524641990661621, 5.344182968139648, 5.204475402832031, 4.554061412811279, 4.2916693687438965, 4.200601577758789, 4.114749431610107, 4.3321733474731445, 3.509263277053833, 3.509263277053833, 3.3238985538482666, 2.9518887996673584, 2.7271251678466797, 2.708050012588501, 2.5785388946533203, 2.3290185928344727, 2.3290185928344727, 2.3290185928344727, 2.3290185928344727, 2.3290185928344727, 2.3290185928344727, 2.3290185928344727, 2.36023211479187, 2.321851968765259, 2.4843556880950928, 5.242077350616455, 8.184215545654297, 4.769966125488281, 4.327503204345703, 3.9096314907073975], \"Term\": [\"Tree\", \"Sky\", \"Sea\", \"Plant\", \"Photography\", \"Event\", \"Human\", \"Water\", \"Adaptation\", \"Wildlife\", \"Blue\", \"People\", \"Fun\", \"Art\", \"Tourism\", \"Night\", \"Room\", \"Terrestrial animal\", \"Cloud\", \"Geological phenomenon\", \"Child\", \"Crowd\", \"Leisure\", \"Atmospheric phenomenon\", \"Ocean\", \"Lady\", \"Bird\", \"Vacation\", \"Headgear\", \"Horizon\", \"Tree\", \"Plant\", \"Night\", \"Rock\", \"Nature\", \"Natural landscape\", \"Smile\", \"Reflection\", \"Morning\", \"Green\", \"Horse\", \"Wilderness\", \"Light\", \"Beauty\", \"Wood\", \"Black-and-white\", \"Woody plant\", \"Livestock\", \"Skin\", \"Mountainous landforms\", \"Hill\", \"Working animal\", \"Face\", \"Ecoregion\", \"Lighting\", \"Rein\", \"Grass family\", \"Sand\", \"Landscape\", \"Branch\", \"Wildlife\", \"Sky\", \"Photography\", \"Organism\", \"Mountain\", \"Water\", \"Atmosphere\", \"Adaptation\", \"Cloud\", \"Sea\", \"Blue\", \"Ocean\", \"Vacation\", \"Horizon\", \"Marine biology\", \"Calm\", \"Darkness\", \"Hand\", \"Photograph\", \"Happy\", \"Underwater\", \"Evening\", \"Wave\", \"Building\", \"Stock photography\", \"Formation\", \"Standing\", \"Jumping\", \"Sunlight\", \"Fish\", \"Swimming\", \"Fin\", \"Cetacea\", \"Daytime\", \"Forest\", \"Road\", \"Beach\", \"Jungle\", \"Infrastructure\", \"Cloud\", \"Water\", \"Sky\", \"Architecture\", \"Recreation\", \"Photography\", \"Fun\", \"Natural environment\", \"Organism\", \"Atmosphere\", \"Human\", \"Room\", \"Terrestrial animal\", \"Vehicle\", \"Grassland\", \"Snout\", \"Grass\", \"Rural area\", \"Portrait\", \"White\", \"Furniture\", \"Field\", \"Felidae\", \"Hair\", \"City\", \"Reptile\", \"Scaled reptile\", \"Serpent\", \"Snake\", \"Interior design\", \"Savanna\", \"Big cats\", \"Black\", \"Mode of transport\", \"Crop\", \"Lion\", \"Pack animal\", \"Cart\", \"Red\", \"Fashion\", \"Adaptation\", \"Vertebrate\", \"Mammal\", \"House\", \"Architecture\", \"Event\", \"People\", \"Art\", \"Tourism\", \"Child\", \"Crowd\", \"Leisure\", \"Lady\", \"Temple\", \"Sitting\", \"Community\", \"Tribe\", \"Games\", \"Tradition\", \"Youth\", \"Performance\", \"Clothing\", \"Pink\", \"Conversation\", \"Cuisine\", \"Food\", \"Travel\", \"Visual arts\", \"Lip\", \"Social group\", \"Shoulder\", \"Team\", \"Blond\", \"Dish\", \"Ritual\", \"Technology\", \"Bovine\", \"Fun\", \"Recreation\", \"Wall\", \"Geological phenomenon\", \"Atmospheric phenomenon\", \"Bird\", \"Headgear\", \"Winter\", \"Beak\", \"Snow\", \"Carnivore\", \"Fur\", \"Leg\", \"Ice\", \"Seabird\", \"Arctic\", \"Outerwear\", \"Flightless bird\", \"Penguin\", \"Canidae\", \"Wing\", \"Feather\", \"Muscle\", \"Freezing\", \"Bridle\", \"Animal sports\", \"Horse supplies\", \"Saddle\", \"Horse tack\", \"Halter\", \"Outdoor recreation\", \"Fur clothing\", \"Flock\", \"Joint\", \"Natural environment\", \"Wildlife\", \"Mammal\", \"Vertebrate\", \"Mountain\"], \"Total\": [38.0, 63.0, 21.0, 27.0, 44.0, 16.0, 18.0, 37.0, 32.0, 30.0, 16.0, 14.0, 22.0, 13.0, 13.0, 21.0, 14.0, 14.0, 26.0, 10.0, 11.0, 11.0, 11.0, 10.0, 12.0, 10.0, 8.0, 11.0, 8.0, 10.0, 38.99897384643555, 27.515052795410156, 21.014814376831055, 14.284735679626465, 13.683921813964844, 12.919973373413086, 12.990546226501465, 12.10120964050293, 11.707504272460938, 10.812703132629395, 9.567550659179688, 8.722452163696289, 8.636093139648438, 8.928634643554688, 8.240239143371582, 7.532168865203857, 7.383228302001953, 8.02444839477539, 7.284709453582764, 6.890327453613281, 6.0688276290893555, 5.690835952758789, 5.495437145233154, 5.360671520233154, 5.216176986694336, 5.600531101226807, 5.065060615539551, 4.997840881347656, 18.35306739807129, 4.883131980895996, 30.502708435058594, 63.1777458190918, 44.350318908691406, 15.886606216430664, 13.4830904006958, 37.03669357299805, 12.678915023803711, 32.582279205322266, 26.239553451538086, 21.397645950317383, 16.85257911682129, 12.21640682220459, 11.452954292297363, 10.35584831237793, 7.947542190551758, 6.7985687255859375, 6.6215362548828125, 6.5070037841796875, 6.594721794128418, 6.402422904968262, 6.125124454498291, 5.522367000579834, 5.4765238761901855, 4.941483497619629, 4.986491680145264, 4.636711597442627, 4.60910177230835, 4.2973737716674805, 4.094933032989502, 4.083662509918213, 3.8329551219940186, 3.817275047302246, 3.817275047302246, 3.7418856620788574, 3.7564895153045654, 3.6483139991760254, 3.558980703353882, 3.8534817695617676, 3.5022523403167725, 26.239553451538086, 37.03669357299805, 63.1777458190918, 13.482084274291992, 13.31910514831543, 44.350318908691406, 22.31490135192871, 11.274031639099121, 15.886606216430664, 12.678915023803711, 18.334135055541992, 14.911148071289062, 14.355207443237305, 9.738099098205566, 8.454910278320312, 7.75191068649292, 7.224453926086426, 6.865098476409912, 6.497228622436523, 6.797492980957031, 6.144390106201172, 5.7834649085998535, 5.597779750823975, 5.553438186645508, 5.437267780303955, 5.440826416015625, 4.645240783691406, 4.645240783691406, 4.645240783691406, 4.599440097808838, 4.5614495277404785, 4.5299072265625, 4.418511867523193, 4.292170524597168, 4.227214813232422, 4.199203014373779, 4.1271209716796875, 4.1271209716796875, 4.182896614074707, 4.244876384735107, 32.582279205322266, 13.942394256591797, 12.748025894165039, 7.737037658691406, 13.482084274291992, 16.90949058532715, 14.091774940490723, 13.888778686523438, 13.655014991760254, 11.98753833770752, 11.887164115905762, 11.766633987426758, 10.38127326965332, 8.344785690307617, 8.242606163024902, 7.123647212982178, 5.618183135986328, 5.4252848625183105, 5.107259273529053, 4.790693759918213, 4.572827339172363, 4.305907249450684, 4.232569694519043, 4.014548301696777, 3.9649057388305664, 3.9649057388305664, 3.677631378173828, 3.6485323905944824, 3.6501030921936035, 3.30208158493042, 3.2216224670410156, 3.1707749366760254, 3.1293585300445557, 3.0833730697631836, 2.824398994445801, 2.845191478729248, 4.136205673217773, 22.31490135192871, 13.31910514831543, 5.016465663909912, 10.780108451843262, 10.266885757446289, 8.822159767150879, 8.298224449157715, 7.563626289367676, 7.399277210235596, 6.161400318145752, 5.980995178222656, 5.838472366333008, 5.195966720581055, 4.923133373260498, 4.832556247711182, 4.7445807456970215, 4.995769023895264, 4.139342784881592, 4.139342784881592, 3.954096794128418, 3.586160182952881, 3.36212158203125, 3.360412359237671, 3.2097818851470947, 2.960719347000122, 2.960719347000122, 2.960719347000122, 2.960719347000122, 2.960719347000122, 2.960719347000122, 2.960719347000122, 3.0059492588043213, 2.961925506591797, 3.176657199859619, 11.274031639099121, 30.502708435058594, 12.748025894165039, 13.942394256591797, 13.4830904006958], \"loglift\": [30.0, 29.0, 28.0, 27.0, 26.0, 25.0, 24.0, 23.0, 22.0, 21.0, 20.0, 19.0, 18.0, 17.0, 16.0, 15.0, 14.0, 13.0, 12.0, 11.0, 10.0, 9.0, 8.0, 7.0, 6.0, 5.0, 4.0, 3.0, 2.0, 1.0, 1.1972999572753906, 1.190500020980835, 1.1835999488830566, 1.1694999933242798, 1.1679999828338623, 1.1650999784469604, 1.1618000268936157, 1.1612999439239502, 1.1589000225067139, 1.1548999547958374, 1.146299958229065, 1.1412999629974365, 1.1399999856948853, 1.1395000219345093, 1.1365000009536743, 1.1288000345230103, 1.1279000043869019, 1.1265000104904175, 1.1239999532699585, 1.12090003490448, 1.1085000038146973, 1.0973999500274658, 1.0954999923706055, 1.0916999578475952, 1.0889999866485596, 1.0888999700546265, 1.0851999521255493, 1.083899974822998, 1.083299994468689, 1.0812000036239624, 0.8787000179290771, 0.7857000231742859, 0.8230000138282776, 0.8529999852180481, 0.821399986743927, 0.49970000982284546, 0.7782999873161316, 0.34689998626708984, 0.3212999999523163, 1.576300024986267, 1.5673999786376953, 1.5535999536514282, 1.5497000217437744, 1.5437999963760376, 1.5246000289916992, 1.5099999904632568, 1.5041999816894531, 1.5018999576568604, 1.5011999607086182, 1.501099944114685, 1.4989999532699585, 1.4855999946594238, 1.4824999570846558, 1.4709999561309814, 1.4688999652862549, 1.4602999687194824, 1.458799958229065, 1.4492000341415405, 1.441499948501587, 1.440999984741211, 1.4292000532150269, 1.4284000396728516, 1.4284000396728516, 1.4242000579833984, 1.4178999662399292, 1.4149999618530273, 1.4141000509262085, 1.4115999937057495, 1.4104000329971313, 1.048799991607666, 0.9085999727249146, 0.5289999842643738, 0.9541000127792358, 0.9557999968528748, 0.44209998846054077, 0.6100000143051147, 0.8960000276565552, 0.3093000054359436, 0.45669999718666077, 1.5795999765396118, 1.5714999437332153, 1.5703999996185303, 1.5472999811172485, 1.5377999544143677, 1.5302000045776367, 1.5204999446868896, 1.5192999839782715, 1.5124000310897827, 1.511199951171875, 1.507099986076355, 1.5003000497817993, 1.4967000484466553, 1.493899941444397, 1.48989999294281, 1.4889999628067017, 1.4707000255584717, 1.4707000255584717, 1.4707000255584717, 1.468999981880188, 1.4677000045776367, 1.466599941253662, 1.460800051689148, 1.4556000232696533, 1.4551000595092773, 1.4537999629974365, 1.450600028038025, 1.450600028038025, 1.4472999572753906, 1.4465999603271484, 1.0434000492095947, 1.1917999982833862, 1.0844000577926636, 1.1239999532699585, 0.8007000088691711, 1.7472000122070312, 1.7391999959945679, 1.7379000186920166, 1.7378000020980835, 1.7309999465942383, 1.7308000326156616, 1.7301000356674194, 1.7210999727249146, 1.7071000337600708, 1.7056000232696533, 1.6933000087738037, 1.667099952697754, 1.65910005569458, 1.6547000408172607, 1.645300030708313, 1.6380000114440918, 1.6237000226974487, 1.618299961090088, 1.614799976348877, 1.613800048828125, 1.613800048828125, 1.5989999771118164, 1.5952999591827393, 1.5916999578475952, 1.5755000114440918, 1.5678000450134277, 1.5657000541687012, 1.559399962425232, 1.5592000484466553, 1.5356999635696411, 1.5354000329971313, 1.5123000144958496, 1.2898000478744507, 0.9692000150680542, 1.233199954032898, 1.9372999668121338, 1.9351999759674072, 1.9256999492645264, 1.920199990272522, 1.9119999408721924, 1.909999966621399, 1.8907999992370605, 1.8873000144958496, 1.8849999904632568, 1.8680000305175781, 1.8625999689102173, 1.8597999811172485, 1.8574999570846558, 1.8573999404907227, 1.8348000049591064, 1.8348000049591064, 1.826300024986267, 1.805299997329712, 1.7905999422073364, 1.78410005569458, 1.780900001525879, 1.7598999738693237, 1.7598999738693237, 1.7598999738693237, 1.7598999738693237, 1.7598999738693237, 1.7598999738693237, 1.7598999738693237, 1.7581000328063965, 1.7563999891281128, 1.75409996509552, 1.2340999841690063, 0.6843000054359436, 1.0168999433517456, 0.8299999833106995, 0.761900007724762], \"logprob\": [30.0, 29.0, 28.0, 27.0, 26.0, 25.0, 24.0, 23.0, 22.0, 21.0, 20.0, 19.0, 18.0, 17.0, 16.0, 15.0, 14.0, 13.0, 12.0, 11.0, 10.0, 9.0, 8.0, 7.0, 6.0, 5.0, 4.0, 3.0, 2.0, 1.0, -2.9746999740600586, -3.330399990081787, -3.6066999435424805, -4.006899833679199, -4.051400184631348, -4.111700057983398, -4.109499931335449, -4.181000232696533, -4.2164998054504395, -4.300000190734863, -4.4309000968933105, -4.52839994430542, -4.539700031280518, -4.506800174713135, -4.590099811553955, -4.6875, -4.708499908447266, -4.6265997886657715, -4.725800037384033, -4.7845001220703125, -4.923900127410889, -4.999300003051758, -5.036200046539307, -5.064799785614014, -5.094799995422363, -5.023900032043457, -5.127999782562256, -5.1427001953125, -3.8424999713897705, -5.168600082397461, -3.5390000343322754, -2.9040000438690186, -3.2204999923706055, -4.217100143432617, -4.412700176239014, -3.7239999771118164, -4.517300128936768, -4.004899978637695, -4.247000217437744, -3.196000099182129, -3.443700075149536, -3.7792000770568848, -3.8477001190185547, -3.954200029373169, -4.238100051879883, -4.40880012512207, -4.440999984741211, -4.4608001708984375, -4.4481000900268555, -4.477799892425537, -4.524099826812744, -4.64109992980957, -4.652599811553955, -4.766900062561035, -4.760000228881836, -4.841300010681152, -4.848800182342529, -4.928400039672852, -4.984399795532227, -4.987599849700928, -5.06279993057251, -5.067699909210205, -5.067699909210205, -5.091800212860107, -5.094200134277344, -5.126299858093262, -5.1519999504089355, -5.074999809265137, -5.171800136566162, -3.5195000171661377, -3.3150999546051025, -3.160599946975708, -4.280099868774414, -4.290599822998047, -3.601300001144409, -4.1203999519348145, -4.517099857330322, -4.760799884796143, -4.839000225067139, -3.3471999168395996, -3.562000036239624, -3.601099967956543, -4.012199878692627, -4.163099765777588, -4.257400035858154, -4.337600231170654, -4.389800071716309, -4.4517998695373535, -4.407800197601318, -4.512899875640869, -4.5802998542785645, -4.616499900817871, -4.627299785614014, -4.652400016784668, -4.652599811553955, -4.828999996185303, -4.828999996185303, -4.828999996185303, -4.84060001373291, -4.850299835205078, -4.8582000732421875, -4.888999938964844, -4.923099994659424, -4.938899993896484, -4.946899890899658, -4.967400074005127, -4.967400074005127, -4.957300186157227, -4.943299770355225, -3.3083999156951904, -4.008900165557861, -4.2058000564575195, -4.665599822998047, -4.433599948883057, -3.260499954223633, -3.4507999420166016, -3.466599941253662, -3.483599901199341, -3.620699882507324, -3.6294000148773193, -3.640199899673462, -3.774399995803833, -4.006800174713135, -4.020699977874756, -4.178899765014648, -4.442500114440918, -4.485400199890137, -4.55019998550415, -4.623600006103516, -4.6774001121521, -4.7519001960754395, -4.774499893188477, -4.8308000564575195, -4.844299793243408, -4.844299793243408, -4.934299945831299, -4.946000099182129, -4.949100017547607, -5.065499782562256, -5.097899913787842, -5.115900039672852, -5.135300159454346, -5.150400161743164, -5.261600017547607, -5.2546000480651855, -4.903500080108643, -3.440500020980835, -4.277200222015381, -4.98960018157959, -3.5206000804901123, -3.571500062942505, -3.732599973678589, -3.7994000911712646, -3.9001998901367188, -3.9242000579833984, -4.126500129699707, -4.1596999168396, -4.186200141906738, -4.3196001052856445, -4.379000186920166, -4.400400161743164, -4.42110013961792, -4.36959981918335, -4.5802998542785645, -4.5802998542785645, -4.634500026702881, -4.753200054168701, -4.832399845123291, -4.839399814605713, -4.888400077819824, -4.990200042724609, -4.990200042724609, -4.990200042724609, -4.990200042724609, -4.990200042724609, -4.990200042724609, -4.990200042724609, -4.976900100708008, -4.993299961090088, -4.9257001876831055, -4.178999900817871, -3.7335000038146973, -4.2733001708984375, -4.370699882507324, -4.4721999168396]}, \"token.table\": {\"Topic\": [1, 3, 5, 2, 3, 5, 4, 1, 2, 5, 2, 5, 1, 3, 5, 3, 1, 4, 2, 3, 4, 1, 5, 2, 2, 5, 5, 3, 2, 4, 3, 4, 1, 2, 4, 4, 3, 4, 4, 2, 2, 4, 1, 2, 4, 1, 3, 5, 3, 3, 2, 2, 5, 5, 4, 2, 2, 5, 2, 4, 5, 5, 3, 4, 5, 3, 1, 3, 1, 3, 5, 2, 2, 5, 1, 2, 1, 5, 5, 2, 3, 3, 5, 2, 3, 5, 2, 2, 4, 1, 2, 5, 4, 1, 1, 3, 4, 1, 3, 5, 2, 3, 1, 1, 5, 1, 5, 2, 5, 1, 1, 1, 2, 1, 2, 5, 5, 3, 5, 4, 4, 2, 1, 2, 4, 1, 3, 2, 4, 3, 1, 1, 3, 4, 2, 1, 3, 3, 5, 1, 3, 3, 2, 5, 3, 4, 4, 1, 1, 2, 1, 3, 3, 5, 4, 2, 2, 2, 2, 4, 4, 4, 3, 4, 4, 4, 1, 4, 2, 2, 3, 3, 5, 4, 2, 4, 1, 2, 2, 3, 1, 1, 5, 5, 5, 1, 1, 1, 4], \"Freq\": [0.4296814203262329, 0.5524475574493408, 0.6755115389823914, 0.5192075371742249, 0.44503504037857056, 0.8430671095848083, 0.9360074400901794, 0.6309688091278076, 0.3154844045639038, 0.9740051627159119, 0.8429380059242249, 0.9460383653640747, 0.8959936499595642, 0.883020281791687, 0.9068074226379395, 0.9052821397781372, 0.9293472170829773, 0.6391085982322693, 0.9494096040725708, 0.24176748096942902, 0.7253023982048035, 0.8191463947296143, 0.6755115389823914, 0.8094735145568848, 0.8825386762619019, 0.7587067484855652, 0.8359812498092651, 0.9691986441612244, 0.7859009504318237, 0.9176195859909058, 0.9195795059204102, 0.9289563894271851, 0.4192144572734833, 0.5716560482978821, 0.8422651886940002, 0.747282087802887, 0.9462495446205139, 0.9253678917884827, 0.7566384077072144, 0.9061341285705566, 0.8017348051071167, 0.6486402750015259, 0.9327189922332764, 0.9054088592529297, 0.9462141990661621, 0.9098457098007202, 0.942312479019165, 0.8922937512397766, 0.893211305141449, 0.8645336627960205, 0.7859009504318237, 0.7346346378326416, 0.9663369655609131, 0.6752364039421082, 0.7566384077072144, 0.798617959022522, 0.8626803755760193, 0.9346429705619812, 0.3585048317909241, 0.6273834705352783, 0.8563883900642395, 0.6653472185134888, 0.9765005111694336, 0.9216105937957764, 0.9276344776153564, 0.9689313769340515, 0.7897239923477173, 0.9461957216262817, 0.924838125705719, 0.900343120098114, 0.6755115389823914, 0.9220833778381348, 0.9371452331542969, 0.9640616774559021, 0.8238823413848877, 0.9656379222869873, 0.9406796097755432, 0.6755115389823914, 0.6755115389823914, 0.38774529099464417, 0.6462421417236328, 0.9817752242088318, 0.812490701675415, 0.8565916419029236, 0.8696710467338562, 0.6295926570892334, 0.9308010339736938, 0.7785167098045349, 0.9632729887962341, 0.8717888593673706, 0.10897360742092133, 0.9622848629951477, 0.934846818447113, 0.9263448119163513, 0.9585564136505127, 0.9525617361068726, 0.8218945860862732, 0.8723341226577759, 0.549104630947113, 0.39221757650375366, 0.8807754516601562, 0.9319294095039368, 0.939568281173706, 0.667502760887146, 0.2966679036617279, 0.8707858920097351, 0.8927475810050964, 0.5321964621543884, 0.44349706172943115, 0.9287945032119751, 0.9500200152397156, 0.9517095685005188, 0.9822855591773987, 0.6924071907997131, 0.25178441405296326, 0.6755115389823914, 0.8006775379180908, 0.9691986441612244, 0.9663369655609131, 0.9225239753723145, 0.8747323751449585, 0.9098185300827026, 0.6764325499534607, 0.315668523311615, 0.9450523853302002, 0.981281042098999, 0.923470675945282, 0.5255608558654785, 0.45048069953918457, 0.9562751054763794, 0.909000039100647, 0.8927724957466125, 0.9189780354499817, 0.70811527967453, 0.8222976326942444, 0.9800671339035034, 0.9388948678970337, 0.873986005783081, 0.6755115389823914, 0.8003455996513367, 0.8769142031669617, 0.8610963821411133, 0.9814163446426392, 0.8277192711830139, 0.8610963821411133, 0.9312078356742859, 0.9705668091773987, 0.9609168171882629, 0.648962676525116, 0.34822389483451843, 0.9237486720085144, 0.8610963821411133, 0.9030031561851501, 0.9738045930862427, 0.9085178375244141, 0.8678480386734009, 0.8021671772003174, 0.7326127290725708, 0.7826859354972839, 0.9461409449577332, 0.7029404044151306, 0.9586824774742126, 0.9752558469772339, 0.9520311951637268, 0.7831989526748657, 0.8157424330711365, 0.974384605884552, 0.8899674415588379, 0.9795719385147095, 0.9604508876800537, 0.9242050051689148, 0.6455132365226746, 0.2868947684764862, 0.8222483992576599, 0.39868706464767456, 0.5980306267738342, 0.486004501581192, 0.486004501581192, 0.9129878878593445, 0.8826783895492554, 0.9171732664108276, 0.7212474346160889, 0.26227179169654846, 0.8365493416786194, 0.9254819750785828, 0.970845639705658, 0.9480947256088257, 0.8786055445671082, 0.8349521160125732], \"Term\": [\"Adaptation\", \"Adaptation\", \"Animal sports\", \"Architecture\", \"Architecture\", \"Arctic\", \"Art\", \"Atmosphere\", \"Atmosphere\", \"Atmospheric phenomenon\", \"Beach\", \"Beak\", \"Beauty\", \"Big cats\", \"Bird\", \"Black\", \"Black-and-white\", \"Blond\", \"Blue\", \"Bovine\", \"Bovine\", \"Branch\", \"Bridle\", \"Building\", \"Calm\", \"Canidae\", \"Carnivore\", \"Cart\", \"Cetacea\", \"Child\", \"City\", \"Clothing\", \"Cloud\", \"Cloud\", \"Community\", \"Conversation\", \"Crop\", \"Crowd\", \"Cuisine\", \"Darkness\", \"Daytime\", \"Dish\", \"Ecoregion\", \"Evening\", \"Event\", \"Face\", \"Fashion\", \"Feather\", \"Felidae\", \"Field\", \"Fin\", \"Fish\", \"Flightless bird\", \"Flock\", \"Food\", \"Forest\", \"Formation\", \"Freezing\", \"Fun\", \"Fun\", \"Fur\", \"Fur clothing\", \"Furniture\", \"Games\", \"Geological phenomenon\", \"Grass\", \"Grass family\", \"Grassland\", \"Green\", \"Hair\", \"Halter\", \"Hand\", \"Happy\", \"Headgear\", \"Hill\", \"Horizon\", \"Horse\", \"Horse supplies\", \"Horse tack\", \"House\", \"House\", \"Human\", \"Ice\", \"Infrastructure\", \"Interior design\", \"Joint\", \"Jumping\", \"Jungle\", \"Lady\", \"Landscape\", \"Landscape\", \"Leg\", \"Leisure\", \"Light\", \"Lighting\", \"Lion\", \"Lip\", \"Livestock\", \"Mammal\", \"Mammal\", \"Marine biology\", \"Mode of transport\", \"Morning\", \"Mountain\", \"Mountain\", \"Mountainous landforms\", \"Muscle\", \"Natural environment\", \"Natural environment\", \"Natural landscape\", \"Nature\", \"Night\", \"Ocean\", \"Organism\", \"Organism\", \"Outdoor recreation\", \"Outerwear\", \"Pack animal\", \"Penguin\", \"People\", \"Performance\", \"Photograph\", \"Photography\", \"Photography\", \"Pink\", \"Plant\", \"Portrait\", \"Recreation\", \"Recreation\", \"Red\", \"Reflection\", \"Rein\", \"Reptile\", \"Ritual\", \"Road\", \"Rock\", \"Room\", \"Rural area\", \"Saddle\", \"Sand\", \"Savanna\", \"Scaled reptile\", \"Sea\", \"Seabird\", \"Serpent\", \"Shoulder\", \"Sitting\", \"Skin\", \"Sky\", \"Sky\", \"Smile\", \"Snake\", \"Snout\", \"Snow\", \"Social group\", \"Standing\", \"Stock photography\", \"Sunlight\", \"Swimming\", \"Team\", \"Technology\", \"Temple\", \"Terrestrial animal\", \"Tourism\", \"Tradition\", \"Travel\", \"Tree\", \"Tribe\", \"Underwater\", \"Vacation\", \"Vehicle\", \"Vertebrate\", \"Vertebrate\", \"Visual arts\", \"Wall\", \"Wall\", \"Water\", \"Water\", \"Wave\", \"White\", \"Wilderness\", \"Wildlife\", \"Wildlife\", \"Wing\", \"Winter\", \"Wood\", \"Woody plant\", \"Working animal\", \"Youth\"]}, \"R\": 30, \"lambda.step\": 0.01, \"plot.opts\": {\"xlab\": \"PC1\", \"ylab\": \"PC2\"}, \"topic.order\": [2, 5, 4, 3, 1]};\n",
       "\n",
       "function LDAvis_load_lib(url, callback){\n",
       "  var s = document.createElement('script');\n",
       "  s.src = url;\n",
       "  s.async = true;\n",
       "  s.onreadystatechange = s.onload = callback;\n",
       "  s.onerror = function(){console.warn(\"failed to load library \" + url);};\n",
       "  document.getElementsByTagName(\"head\")[0].appendChild(s);\n",
       "}\n",
       "\n",
       "if(typeof(LDAvis) !== \"undefined\"){\n",
       "   // already loaded: just create the visualization\n",
       "   !function(LDAvis){\n",
       "       new LDAvis(\"#\" + \"ldavis_el212791401757527688728935614503\", ldavis_el212791401757527688728935614503_data);\n",
       "   }(LDAvis);\n",
       "}else if(typeof define === \"function\" && define.amd){\n",
       "   // require.js is available: use it to load d3/LDAvis\n",
       "   require.config({paths: {d3: \"https://cdnjs.cloudflare.com/ajax/libs/d3/3.5.5/d3.min\"}});\n",
       "   require([\"d3\"], function(d3){\n",
       "      window.d3 = d3;\n",
       "      LDAvis_load_lib(\"https://cdn.rawgit.com/bmabey/pyLDAvis/files/ldavis.v1.0.0.js\", function(){\n",
       "        new LDAvis(\"#\" + \"ldavis_el212791401757527688728935614503\", ldavis_el212791401757527688728935614503_data);\n",
       "      });\n",
       "    });\n",
       "}else{\n",
       "    // require.js not available: dynamically load d3 & LDAvis\n",
       "    LDAvis_load_lib(\"https://cdnjs.cloudflare.com/ajax/libs/d3/3.5.5/d3.min.js\", function(){\n",
       "         LDAvis_load_lib(\"https://cdn.rawgit.com/bmabey/pyLDAvis/files/ldavis.v1.0.0.js\", function(){\n",
       "                 new LDAvis(\"#\" + \"ldavis_el212791401757527688728935614503\", ldavis_el212791401757527688728935614503_data);\n",
       "            })\n",
       "         });\n",
       "}\n",
       "</script>"
      ],
      "text/plain": [
       "PreparedData(topic_coordinates=              x         y  topics  cluster       Freq\n",
       "topic                                                \n",
       "1      0.234528 -0.062913       1        1  29.727577\n",
       "4      0.131547  0.069502       2        1  20.069576\n",
       "3     -0.156971 -0.186799       3        1  19.886967\n",
       "2     -0.123671  0.217428       4        1  16.781137\n",
       "0     -0.085432 -0.037218       5        1  13.534741, topic_info=    Category       Freq                 Term      Total  loglift  logprob\n",
       "60   Default  38.000000                 Tree  38.000000  30.0000  30.0000\n",
       "42   Default  63.000000                  Sky  63.000000  29.0000  29.0000\n",
       "59   Default  21.000000                  Sea  21.000000  28.0000  28.0000\n",
       "58   Default  27.000000                Plant  27.000000  27.0000  27.0000\n",
       "66   Default  44.000000          Photography  44.000000  26.0000  26.0000\n",
       "..       ...        ...                  ...        ...      ...      ...\n",
       "100   Topic5   5.242077  Natural environment  11.274032   1.2341  -4.1790\n",
       "68    Topic5   8.184216             Wildlife  30.502708   0.6843  -3.7335\n",
       "152   Topic5   4.769966               Mammal  12.748026   1.0169  -4.2733\n",
       "192   Topic5   4.327503           Vertebrate  13.942394   0.8300  -4.3707\n",
       "92    Topic5   3.909631             Mountain  13.483090   0.7619  -4.4722\n",
       "\n",
       "[215 rows x 6 columns], token_table=      Topic      Freq            Term\n",
       "term                                 \n",
       "55        1  0.429681      Adaptation\n",
       "55        3  0.552448      Adaptation\n",
       "683       5  0.675512   Animal sports\n",
       "118       2  0.519208    Architecture\n",
       "118       3  0.445035    Architecture\n",
       "...     ...       ...             ...\n",
       "29        5  0.925482          Winter\n",
       "62        1  0.970846            Wood\n",
       "189       1  0.948095     Woody plant\n",
       "18        1  0.878606  Working animal\n",
       "244       4  0.834952           Youth\n",
       "\n",
       "[189 rows x 3 columns], R=30, lambda_step=0.01, plot_opts={'xlab': 'PC1', 'ylab': 'PC2'}, topic_order=[2, 5, 4, 3, 1])"
      ]
     },
     "execution_count": 16,
     "metadata": {},
     "output_type": "execute_result"
    }
   ],
   "source": [
    "pyLDAvis.enable_notebook()\n",
    "pyLDAvis.gensim.prepare(lda_model, corpus, id2word)"
   ]
  },
  {
   "cell_type": "code",
   "execution_count": 17,
   "metadata": {},
   "outputs": [],
   "source": [
    "c1 = pd.DataFrame([(topic, [id2word[t[0]] for t in lda_model.get_topic_terms(topic)]) for topic in range(NUMBER_OF_TOPICS)])\n",
    "c1.to_csv('TaskCi.csv', header=False, index=False)"
   ]
  },
  {
   "cell_type": "code",
   "execution_count": 18,
   "metadata": {},
   "outputs": [],
   "source": [
    "def get_topic_weights(corpus):\n",
    "    result = pd.DataFrame(0, columns=range(NUMBER_OF_TOPICS), index=range(len(corpus)))\n",
    "    for index, scores in result.iterrows():\n",
    "        for score in lda_model.get_document_topics(corpus[index]):\n",
    "            result.iloc[index, score[0]] = score[1]\n",
    "    return result\n",
    "\n",
    "c2 = get_topic_weights(corpus)\n",
    "\n",
    "c2.to_csv('TaskCii.csv')"
   ]
  },
  {
   "cell_type": "code",
   "execution_count": 19,
   "metadata": {},
   "outputs": [
    {
     "data": {
      "text/html": [
       "<div>\n",
       "<style scoped>\n",
       "    .dataframe tbody tr th:only-of-type {\n",
       "        vertical-align: middle;\n",
       "    }\n",
       "\n",
       "    .dataframe tbody tr th {\n",
       "        vertical-align: top;\n",
       "    }\n",
       "\n",
       "    .dataframe thead th {\n",
       "        text-align: right;\n",
       "    }\n",
       "</style>\n",
       "<table border=\"1\" class=\"dataframe\">\n",
       "  <thead>\n",
       "    <tr style=\"text-align: right;\">\n",
       "      <th></th>\n",
       "      <th>Words</th>\n",
       "      <th>Avg. top quartile weight</th>\n",
       "      <th>Avg. bottom quartile weight</th>\n",
       "      <th>Difference</th>\n",
       "    </tr>\n",
       "    <tr>\n",
       "      <th>Topics</th>\n",
       "      <th></th>\n",
       "      <th></th>\n",
       "      <th></th>\n",
       "      <th></th>\n",
       "    </tr>\n",
       "  </thead>\n",
       "  <tbody>\n",
       "    <tr>\n",
       "      <th>0</th>\n",
       "      <td>[Geological phenomenon, Atmospheric phenomenon, Bird, Wildlife, Headgear, Winter, Beak, Snow, Carnivore, Natural environment]</td>\n",
       "      <td>0.166165</td>\n",
       "      <td>0.078294</td>\n",
       "      <td>0.087871</td>\n",
       "    </tr>\n",
       "    <tr>\n",
       "      <th>1</th>\n",
       "      <td>[Sky, Tree, Photography, Plant, Wildlife, Night, Water, Landscape, Adaptation, Rock]</td>\n",
       "      <td>0.314218</td>\n",
       "      <td>0.249967</td>\n",
       "      <td>0.064252</td>\n",
       "    </tr>\n",
       "    <tr>\n",
       "      <th>3</th>\n",
       "      <td>[Adaptation, Human, Room, Terrestrial animal, Vertebrate, Vehicle, Grassland, Mammal, Snout, Grass]</td>\n",
       "      <td>0.250686</td>\n",
       "      <td>0.210128</td>\n",
       "      <td>0.040558</td>\n",
       "    </tr>\n",
       "    <tr>\n",
       "      <th>4</th>\n",
       "      <td>[Sky, Sea, Water, Blue, Cloud, Photography, Ocean, Vacation, Horizon, Fun]</td>\n",
       "      <td>0.162730</td>\n",
       "      <td>0.152935</td>\n",
       "      <td>0.009795</td>\n",
       "    </tr>\n",
       "    <tr>\n",
       "      <th>2</th>\n",
       "      <td>[Event, Fun, People, Art, Tourism, Child, Crowd, Leisure, Lady, Temple]</td>\n",
       "      <td>0.102300</td>\n",
       "      <td>0.303295</td>\n",
       "      <td>-0.200995</td>\n",
       "    </tr>\n",
       "  </tbody>\n",
       "</table>\n",
       "</div>"
      ],
      "text/plain": [
       "                                                                                                                                Words  \\\n",
       "Topics                                                                                                                                  \n",
       "0       [Geological phenomenon, Atmospheric phenomenon, Bird, Wildlife, Headgear, Winter, Beak, Snow, Carnivore, Natural environment]   \n",
       "1       [Sky, Tree, Photography, Plant, Wildlife, Night, Water, Landscape, Adaptation, Rock]                                            \n",
       "3       [Adaptation, Human, Room, Terrestrial animal, Vertebrate, Vehicle, Grassland, Mammal, Snout, Grass]                             \n",
       "4       [Sky, Sea, Water, Blue, Cloud, Photography, Ocean, Vacation, Horizon, Fun]                                                      \n",
       "2       [Event, Fun, People, Art, Tourism, Child, Crowd, Leisure, Lady, Temple]                                                         \n",
       "\n",
       "        Avg. top quartile weight  Avg. bottom quartile weight  Difference  \n",
       "Topics                                                                     \n",
       "0       0.166165                  0.078294                     0.087871    \n",
       "1       0.314218                  0.249967                     0.064252    \n",
       "3       0.250686                  0.210128                     0.040558    \n",
       "4       0.162730                  0.152935                     0.009795    \n",
       "2       0.102300                  0.303295                    -0.200995    "
      ]
     },
     "execution_count": 19,
     "metadata": {},
     "output_type": "execute_result"
    }
   ],
   "source": [
    "def get_avg_weights(df):\n",
    "    corpus1 = [id2word.doc2bow(text) for text in df['image_labels'].tolist()]\n",
    "    weights1 = get_topic_weights(corpus1)\n",
    "    return weights1.sum()/weights1.shape[0]\n",
    "\n",
    "df1, df2, df3, df4 = np.array_split(df.sort_values(by='Engagement_Score', ascending=False), 4)\n",
    "\n",
    "scores1 = get_avg_weights(df1)\n",
    "scores4 = get_avg_weights(df4)\n",
    "data = zip(range(NUMBER_OF_TOPICS), c1[1], scores1.tolist(), scores4.tolist(), (scores1-scores4).tolist())\n",
    "\n",
    "pd.set_option('display.max_colwidth', -1)\n",
    "end_result = pd.DataFrame(data, columns=['Topics', 'Words', 'Avg. top quartile weight', 'Avg. bottom quartile weight', 'Difference'])\n",
    "end_result.set_index('Topics').sort_values(by='Difference', ascending=False)"
   ]
  },
  {
   "cell_type": "markdown",
   "metadata": {},
   "source": [
    "## Task D \n",
    "\n",
    "<b> What advice would you give National Geographic if it wants to increase engagement on its Instagram page based on your findings in Tasks B and C? </b> \n",
    "\n",
    "In order to increase overall engagement on National Geographic's Instagram page, we recommend to post more photos on nature phenomena. Our results from Task C support this as shown above in the table. Each topic shows the fraction of posts that are in the top and low quartile weight in terms of engagement. For example, this means that 16% of the top quartile posts in terms of engagement consist of photos based on geological phenomenons, wildlife, carnivores, and so on. On the other hand, 7% of the bottom quartile consist of photos of the same topic. The least popular posts seem to be those of events, people, tourism, crowds, and so on. Only 10% were part of the top quartile while 30% were on the bottom quartile. This means that people really dislike seeing posts of this type, as shown in the difference of 20%. Furthermore, as shown in Task B, the combined captions and image labels show a higher accuracy for predicting engagement rather than the only the image labels. Therefore, National Geographic should also focus on writing good, catchy captions that appeal to the audience rather than just credits or nothing at all. It would be best to tell a story with the captions in order to further engage and attract more of an audience. \n",
    "\n",
    "Clearly, people are more interested in seeing natural phenomena that they may not be able to see and/or engage in everyday life. Posts of carnivores, such as the Bengal Tiger, which are dangerous to see in real life and as such not very feasible to see in real life are popular. People also seem to be fascinated by atmospheric phenomenon such as a rainbow bridge or Aurora Borealis which may be hard to photograph for the average person or too far away to enjoy in person. People enjoy sights that are uncommon for them and may not be accesible for them in their daily lives. On the other hand, common sights such as tourism and crowds are highly unpopular perhaps due to the high frequency with which they appear in an average person's life. \n",
    "\n",
    "Perhaps, it would be best to hire photographers who are specialized in nature life and atmospheric phenomenon. For example, a potential photographer to hire would be Marc Adamus who is a famous landscape photographer who is famous for his dedication towards nature. His trips take weeks to months and he is well known for finding undiscovered locations. His photos show the dynamics of the landscape perfectly and fit right into the topic of geographical phenomena. Another potential photographer to hire is Art Wolfe who is famous for his stunning wildfire and environental images in the world. He has released over 65 photography books and has many famous photos of hard to photograph animals such as bears, tigers and eagles. Furthermore, his prestige could bring over more views and engagement for the National Geographic's Instagram page."
   ]
  },
  {
   "cell_type": "code",
   "execution_count": null,
   "metadata": {},
   "outputs": [],
   "source": []
  }
 ],
 "metadata": {
  "kernelspec": {
   "display_name": "Python 3",
   "language": "python",
   "name": "python3"
  },
  "language_info": {
   "codemirror_mode": {
    "name": "ipython",
    "version": 3
   },
   "file_extension": ".py",
   "mimetype": "text/x-python",
   "name": "python",
   "nbconvert_exporter": "python",
   "pygments_lexer": "ipython3",
   "version": "3.6.8"
  }
 },
 "nbformat": 4,
 "nbformat_minor": 2
}
