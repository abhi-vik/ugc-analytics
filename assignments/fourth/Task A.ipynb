{
 "cells": [
  {
   "cell_type": "code",
   "execution_count": 1,
   "metadata": {},
   "outputs": [],
   "source": [
    "import pandas as pd"
   ]
  },
  {
   "cell_type": "code",
   "execution_count": 2,
   "metadata": {},
   "outputs": [
    {
     "data": {
      "text/html": [
       "<div>\n",
       "<style scoped>\n",
       "    .dataframe tbody tr th:only-of-type {\n",
       "        vertical-align: middle;\n",
       "    }\n",
       "\n",
       "    .dataframe tbody tr th {\n",
       "        vertical-align: top;\n",
       "    }\n",
       "\n",
       "    .dataframe thead th {\n",
       "        text-align: right;\n",
       "    }\n",
       "</style>\n",
       "<table border=\"1\" class=\"dataframe\">\n",
       "  <thead>\n",
       "    <tr style=\"text-align: right;\">\n",
       "      <th></th>\n",
       "      <th>type</th>\n",
       "      <th>media_url</th>\n",
       "      <th>caption</th>\n",
       "      <th>likes</th>\n",
       "      <th>comments</th>\n",
       "    </tr>\n",
       "  </thead>\n",
       "  <tbody>\n",
       "    <tr>\n",
       "      <th>0</th>\n",
       "      <td>GraphImage</td>\n",
       "      <td>https://instagram.fftw1-1.fna.fbcdn.net/v/t51....</td>\n",
       "      <td>Photo by @stevewinterphoto | One of the lucky ...</td>\n",
       "      <td>256591</td>\n",
       "      <td>1271</td>\n",
       "    </tr>\n",
       "    <tr>\n",
       "      <th>1</th>\n",
       "      <td>GraphImage</td>\n",
       "      <td>https://instagram.fftw1-1.fna.fbcdn.net/v/t51....</td>\n",
       "      <td>Photo by Charlie Hamilton James @chamiltonjame...</td>\n",
       "      <td>587042</td>\n",
       "      <td>1692</td>\n",
       "    </tr>\n",
       "    <tr>\n",
       "      <th>2</th>\n",
       "      <td>GraphImage</td>\n",
       "      <td>https://instagram.fftw1-1.fna.fbcdn.net/v/t51....</td>\n",
       "      <td>Photo by @babaktafreshi | A bird of freedom fl...</td>\n",
       "      <td>312169</td>\n",
       "      <td>3039</td>\n",
       "    </tr>\n",
       "    <tr>\n",
       "      <th>3</th>\n",
       "      <td>GraphImage</td>\n",
       "      <td>https://instagram.fftw1-1.fna.fbcdn.net/v/t51....</td>\n",
       "      <td>Photo by Sara Hylton @sarahyltonphoto | Women ...</td>\n",
       "      <td>153079</td>\n",
       "      <td>394</td>\n",
       "    </tr>\n",
       "    <tr>\n",
       "      <th>4</th>\n",
       "      <td>GraphImage</td>\n",
       "      <td>https://instagram.fftw1-1.fna.fbcdn.net/v/t51....</td>\n",
       "      <td>Photo by Ian Teh @iantehphotography | Palm oil...</td>\n",
       "      <td>163279</td>\n",
       "      <td>618</td>\n",
       "    </tr>\n",
       "  </tbody>\n",
       "</table>\n",
       "</div>"
      ],
      "text/plain": [
       "         type                                          media_url  \\\n",
       "0  GraphImage  https://instagram.fftw1-1.fna.fbcdn.net/v/t51....   \n",
       "1  GraphImage  https://instagram.fftw1-1.fna.fbcdn.net/v/t51....   \n",
       "2  GraphImage  https://instagram.fftw1-1.fna.fbcdn.net/v/t51....   \n",
       "3  GraphImage  https://instagram.fftw1-1.fna.fbcdn.net/v/t51....   \n",
       "4  GraphImage  https://instagram.fftw1-1.fna.fbcdn.net/v/t51....   \n",
       "\n",
       "                                             caption   likes  comments  \n",
       "0  Photo by @stevewinterphoto | One of the lucky ...  256591      1271  \n",
       "1  Photo by Charlie Hamilton James @chamiltonjame...  587042      1692  \n",
       "2  Photo by @babaktafreshi | A bird of freedom fl...  312169      3039  \n",
       "3  Photo by Sara Hylton @sarahyltonphoto | Women ...  153079       394  \n",
       "4  Photo by Ian Teh @iantehphotography | Palm oil...  163279       618  "
      ]
     },
     "execution_count": 2,
     "metadata": {},
     "output_type": "execute_result"
    }
   ],
   "source": [
    "data = pd.read_csv(\"output.csv\")\n",
    "data.head()"
   ]
  },
  {
   "cell_type": "markdown",
   "metadata": {},
   "source": [
    "## Normalize Likes & Comments"
   ]
  },
  {
   "cell_type": "code",
   "execution_count": 42,
   "metadata": {},
   "outputs": [
    {
     "name": "stdout",
     "output_type": "stream",
     "text": [
      "0    0.243893\n",
      "1    0.996790\n",
      "2    0.370521\n",
      "3    0.008052\n",
      "4    0.031291\n",
      "Name: likes, dtype: float64\n",
      "The range of Norm_Likes is between 1 and 0\n",
      "\n",
      "0    0.350037\n",
      "1    0.504023\n",
      "2    0.996708\n",
      "3    0.029261\n",
      "4    0.111192\n",
      "Name: comments, dtype: float64\n",
      "The range of Norm_Comments is between 1 and 0\n"
     ]
    }
   ],
   "source": [
    "Likes = data['likes']\n",
    "Norm_Likes = (Likes-Likes.min())/(Likes.max()-Likes.min())\n",
    "print(Norm_Likes.head())\n",
    "print(\"The range of Norm_Likes is between %i and %i\"%(Norm_Likes.max(),Norm_Likes.min()))\n",
    "print()\n",
    "Comments = data['comments']\n",
    "Norm_Comments = (Comments-Comments.min())/(Comments.max()-Comments.min())\n",
    "print(Norm_Comments.head())\n",
    "print(\"The range of Norm_Comments is between %i and %i\"%(Norm_Comments.max(),Norm_Comments.min()))"
   ]
  },
  {
   "cell_type": "markdown",
   "metadata": {},
   "source": [
    "## Engagement Score"
   ]
  },
  {
   "cell_type": "code",
   "execution_count": 33,
   "metadata": {},
   "outputs": [
    {
     "name": "stdout",
     "output_type": "stream",
     "text": [
      "0    0.307579\n",
      "1    0.701130\n",
      "2    0.746233\n",
      "3    0.020777\n",
      "4    0.079232\n",
      "dtype: float64\n",
      "The Engagement_Median is 0.236224\n"
     ]
    }
   ],
   "source": [
    "Engagement_Score = 0.4*Norm_Likes + 0.6*Norm_Comments\n",
    "print(Engagement_Score.head())\n",
    "Engagement_Median = Engagement_Score.median()\n",
    "print(\"The Engagement_Median is %f\"% Engagement_Median)"
   ]
  },
  {
   "cell_type": "markdown",
   "metadata": {},
   "source": [
    "## Determine Engagement [ 1 or 0 ] base on Engagement Score"
   ]
  },
  {
   "cell_type": "code",
   "execution_count": 35,
   "metadata": {},
   "outputs": [
    {
     "name": "stdout",
     "output_type": "stream",
     "text": [
      "0    1\n",
      "1    1\n",
      "2    1\n",
      "3    0\n",
      "4    0\n",
      "dtype: int64\n"
     ]
    }
   ],
   "source": [
    "Engagement = Engagement_Score.apply(lambda x: 1 if x >= Engagement_Median else 0)\n",
    "print(Engagement.head())"
   ]
  },
  {
   "cell_type": "code",
   "execution_count": 36,
   "metadata": {},
   "outputs": [],
   "source": [
    "data['Norm_Likes'] = Norm_Likes\n",
    "data['Norm_Comments'] = Norm_Comments\n",
    "data['Engagement_Score'] = Engagement_Score\n",
    "data['Engagement'] = Engagement"
   ]
  },
  {
   "cell_type": "code",
   "execution_count": 38,
   "metadata": {},
   "outputs": [],
   "source": [
    "data.to_csv('TaskA.csv', index=False)"
   ]
  },
  {
   "cell_type": "code",
   "execution_count": null,
   "metadata": {},
   "outputs": [],
   "source": []
  }
 ],
 "metadata": {
  "kernelspec": {
   "display_name": "Python 3",
   "language": "python",
   "name": "python3"
  },
  "language_info": {
   "codemirror_mode": {
    "name": "ipython",
    "version": 3
   },
   "file_extension": ".py",
   "mimetype": "text/x-python",
   "name": "python",
   "nbconvert_exporter": "python",
   "pygments_lexer": "ipython3",
   "version": "3.7.3"
  }
 },
 "nbformat": 4,
 "nbformat_minor": 2
}
