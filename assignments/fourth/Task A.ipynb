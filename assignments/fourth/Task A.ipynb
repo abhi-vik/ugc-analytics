{
 "cells": [
  {
   "cell_type": "code",
   "execution_count": 25,
   "metadata": {},
   "outputs": [],
   "source": [
    "import pandas as pd\n",
    "import numpy as np"
   ]
  },
  {
   "cell_type": "code",
   "execution_count": 79,
   "metadata": {},
   "outputs": [],
   "source": [
    "from google.cloud import vision\n",
    "import os\n",
    "os.environ[\"GOOGLE_APPLICATION_CREDENTIALS\"]=\"APAD-DARASIMI-8c1a66d445ac.json\"\n",
    "client = vision.ImageAnnotatorClient()\n",
    "image = vision.types.Image()"
   ]
  },
  {
   "cell_type": "code",
   "execution_count": 2,
   "metadata": {},
   "outputs": [
    {
     "data": {
      "text/html": [
       "<div>\n",
       "<style scoped>\n",
       "    .dataframe tbody tr th:only-of-type {\n",
       "        vertical-align: middle;\n",
       "    }\n",
       "\n",
       "    .dataframe tbody tr th {\n",
       "        vertical-align: top;\n",
       "    }\n",
       "\n",
       "    .dataframe thead th {\n",
       "        text-align: right;\n",
       "    }\n",
       "</style>\n",
       "<table border=\"1\" class=\"dataframe\">\n",
       "  <thead>\n",
       "    <tr style=\"text-align: right;\">\n",
       "      <th></th>\n",
       "      <th>type</th>\n",
       "      <th>media_url</th>\n",
       "      <th>caption</th>\n",
       "      <th>likes</th>\n",
       "      <th>comments</th>\n",
       "    </tr>\n",
       "  </thead>\n",
       "  <tbody>\n",
       "    <tr>\n",
       "      <th>0</th>\n",
       "      <td>GraphImage</td>\n",
       "      <td>https://instagram.fftw1-1.fna.fbcdn.net/v/t51....</td>\n",
       "      <td>Photo by @stevewinterphoto | One of the lucky ...</td>\n",
       "      <td>256591</td>\n",
       "      <td>1271</td>\n",
       "    </tr>\n",
       "    <tr>\n",
       "      <th>1</th>\n",
       "      <td>GraphImage</td>\n",
       "      <td>https://instagram.fftw1-1.fna.fbcdn.net/v/t51....</td>\n",
       "      <td>Photo by Charlie Hamilton James @chamiltonjame...</td>\n",
       "      <td>587042</td>\n",
       "      <td>1692</td>\n",
       "    </tr>\n",
       "    <tr>\n",
       "      <th>2</th>\n",
       "      <td>GraphImage</td>\n",
       "      <td>https://instagram.fftw1-1.fna.fbcdn.net/v/t51....</td>\n",
       "      <td>Photo by @babaktafreshi | A bird of freedom fl...</td>\n",
       "      <td>312169</td>\n",
       "      <td>3039</td>\n",
       "    </tr>\n",
       "    <tr>\n",
       "      <th>3</th>\n",
       "      <td>GraphImage</td>\n",
       "      <td>https://instagram.fftw1-1.fna.fbcdn.net/v/t51....</td>\n",
       "      <td>Photo by Sara Hylton @sarahyltonphoto | Women ...</td>\n",
       "      <td>153079</td>\n",
       "      <td>394</td>\n",
       "    </tr>\n",
       "    <tr>\n",
       "      <th>4</th>\n",
       "      <td>GraphImage</td>\n",
       "      <td>https://instagram.fftw1-1.fna.fbcdn.net/v/t51....</td>\n",
       "      <td>Photo by Ian Teh @iantehphotography | Palm oil...</td>\n",
       "      <td>163279</td>\n",
       "      <td>618</td>\n",
       "    </tr>\n",
       "  </tbody>\n",
       "</table>\n",
       "</div>"
      ],
      "text/plain": [
       "         type                                          media_url  \\\n",
       "0  GraphImage  https://instagram.fftw1-1.fna.fbcdn.net/v/t51....   \n",
       "1  GraphImage  https://instagram.fftw1-1.fna.fbcdn.net/v/t51....   \n",
       "2  GraphImage  https://instagram.fftw1-1.fna.fbcdn.net/v/t51....   \n",
       "3  GraphImage  https://instagram.fftw1-1.fna.fbcdn.net/v/t51....   \n",
       "4  GraphImage  https://instagram.fftw1-1.fna.fbcdn.net/v/t51....   \n",
       "\n",
       "                                             caption   likes  comments  \n",
       "0  Photo by @stevewinterphoto | One of the lucky ...  256591      1271  \n",
       "1  Photo by Charlie Hamilton James @chamiltonjame...  587042      1692  \n",
       "2  Photo by @babaktafreshi | A bird of freedom fl...  312169      3039  \n",
       "3  Photo by Sara Hylton @sarahyltonphoto | Women ...  153079       394  \n",
       "4  Photo by Ian Teh @iantehphotography | Palm oil...  163279       618  "
      ]
     },
     "execution_count": 2,
     "metadata": {},
     "output_type": "execute_result"
    }
   ],
   "source": [
    "data = pd.read_csv(\"output.csv\")\n",
    "data.head()"
   ]
  },
  {
   "cell_type": "markdown",
   "metadata": {},
   "source": [
    "## Normalize Likes & Comments"
   ]
  },
  {
   "cell_type": "code",
   "execution_count": 3,
   "metadata": {},
   "outputs": [
    {
     "name": "stdout",
     "output_type": "stream",
     "text": [
      "0    0.243893\n",
      "1    0.996790\n",
      "2    0.370521\n",
      "3    0.008052\n",
      "4    0.031291\n",
      "Name: likes, dtype: float64\n",
      "The range of Norm_Likes is between 1 and 0\n",
      "\n",
      "0    0.350037\n",
      "1    0.504023\n",
      "2    0.996708\n",
      "3    0.029261\n",
      "4    0.111192\n",
      "Name: comments, dtype: float64\n",
      "The range of Norm_Comments is between 1 and 0\n"
     ]
    }
   ],
   "source": [
    "Likes = data['likes']\n",
    "Norm_Likes = (Likes-Likes.min())/(Likes.max()-Likes.min())\n",
    "print(Norm_Likes.head())\n",
    "print(\"The range of Norm_Likes is between %i and %i\"%(Norm_Likes.max(),Norm_Likes.min()))\n",
    "print()\n",
    "Comments = data['comments']\n",
    "Norm_Comments = (Comments-Comments.min())/(Comments.max()-Comments.min())\n",
    "print(Norm_Comments.head())\n",
    "print(\"The range of Norm_Comments is between %i and %i\"%(Norm_Comments.max(),Norm_Comments.min()))"
   ]
  },
  {
   "cell_type": "markdown",
   "metadata": {},
   "source": [
    "## Engagement Score"
   ]
  },
  {
   "cell_type": "code",
   "execution_count": 4,
   "metadata": {},
   "outputs": [
    {
     "name": "stdout",
     "output_type": "stream",
     "text": [
      "0    0.307579\n",
      "1    0.701130\n",
      "2    0.746233\n",
      "3    0.020777\n",
      "4    0.079232\n",
      "dtype: float64\n",
      "The Engagement_Median is 0.236224\n"
     ]
    }
   ],
   "source": [
    "Engagement_Score = 0.4*Norm_Likes + 0.6*Norm_Comments\n",
    "print(Engagement_Score.head())\n",
    "Engagement_Median = Engagement_Score.median()\n",
    "print(\"The Engagement_Median is %f\"% Engagement_Median)"
   ]
  },
  {
   "cell_type": "markdown",
   "metadata": {},
   "source": [
    "## Determine Engagement [ 1 or 0 ] base on Engagement Score"
   ]
  },
  {
   "cell_type": "code",
   "execution_count": 5,
   "metadata": {},
   "outputs": [
    {
     "name": "stdout",
     "output_type": "stream",
     "text": [
      "0    1\n",
      "1    1\n",
      "2    1\n",
      "3    0\n",
      "4    0\n",
      "dtype: int64\n"
     ]
    }
   ],
   "source": [
    "Engagement = Engagement_Score.apply(lambda x: 1 if x >= Engagement_Median else 0)\n",
    "print(Engagement.head())"
   ]
  },
  {
   "cell_type": "code",
   "execution_count": 6,
   "metadata": {},
   "outputs": [],
   "source": [
    "data['Norm_Likes'] = Norm_Likes\n",
    "data['Norm_Comments'] = Norm_Comments\n",
    "data['Engagement_Score'] = Engagement_Score\n",
    "data['Engagement'] = Engagement"
   ]
  },
  {
   "cell_type": "code",
   "execution_count": 7,
   "metadata": {},
   "outputs": [],
   "source": [
    "data.to_csv('TaskA.csv', index=False)"
   ]
  },
  {
   "cell_type": "markdown",
   "metadata": {},
   "source": [
    "## GET IMAGE LABELS"
   ]
  },
  {
   "cell_type": "code",
   "execution_count": 80,
   "metadata": {},
   "outputs": [],
   "source": [
    "def detect_labels_uri(uri):\n",
    "    \"\"\"Detects labels in the file located in Google Cloud Storage or on the\n",
    "    Web.\"\"\"\n",
    "    image.source.image_uri = uri\n",
    "    response = client.label_detection(image=image)\n",
    "    labels = response.label_annotations\n",
    "    label_description = []\n",
    "    for label in labels:\n",
    "        label_description.append(label.description)\n",
    "    return label_description"
   ]
  },
  {
   "cell_type": "code",
   "execution_count": 29,
   "metadata": {},
   "outputs": [],
   "source": [
    "df = pd.read_csv('TaskA.csv')"
   ]
  },
  {
   "cell_type": "code",
   "execution_count": 76,
   "metadata": {},
   "outputs": [],
   "source": [
    "df[\"image_labels\"] = df[\"media_url\"].apply(lambda x: detect_labels_uri(x))"
   ]
  },
  {
   "cell_type": "code",
   "execution_count": 83,
   "metadata": {},
   "outputs": [],
   "source": [
    "df = df[['type','media_url','image_labels','caption','likes','comments','Norm_Likes','Norm_Comments','Engagement_Score','Engagement']]"
   ]
  },
  {
   "cell_type": "code",
   "execution_count": 86,
   "metadata": {},
   "outputs": [],
   "source": [
    "df.to_csv('image_labels.csv', index=False)"
   ]
  },
  {
   "cell_type": "markdown",
   "metadata": {},
   "source": [
    "## USE IMAGE_LABELS.CSV to get the latest csv. That should be used on the remainder sections"
   ]
  },
  {
   "cell_type": "markdown",
   "metadata": {},
   "source": [
    "## LOGISTIC REGRESSION"
   ]
  },
  {
   "cell_type": "code",
   "execution_count": 31,
   "metadata": {},
   "outputs": [
    {
     "data": {
      "text/html": [
       "<div>\n",
       "<style scoped>\n",
       "    .dataframe tbody tr th:only-of-type {\n",
       "        vertical-align: middle;\n",
       "    }\n",
       "\n",
       "    .dataframe tbody tr th {\n",
       "        vertical-align: top;\n",
       "    }\n",
       "\n",
       "    .dataframe thead th {\n",
       "        text-align: right;\n",
       "    }\n",
       "</style>\n",
       "<table border=\"1\" class=\"dataframe\">\n",
       "  <thead>\n",
       "    <tr style=\"text-align: right;\">\n",
       "      <th></th>\n",
       "      <th>Engagement</th>\n",
       "    </tr>\n",
       "  </thead>\n",
       "  <tbody>\n",
       "    <tr>\n",
       "      <th>0</th>\n",
       "      <td>1</td>\n",
       "    </tr>\n",
       "    <tr>\n",
       "      <th>1</th>\n",
       "      <td>1</td>\n",
       "    </tr>\n",
       "    <tr>\n",
       "      <th>2</th>\n",
       "      <td>1</td>\n",
       "    </tr>\n",
       "    <tr>\n",
       "      <th>3</th>\n",
       "      <td>0</td>\n",
       "    </tr>\n",
       "    <tr>\n",
       "      <th>4</th>\n",
       "      <td>0</td>\n",
       "    </tr>\n",
       "  </tbody>\n",
       "</table>\n",
       "</div>"
      ],
      "text/plain": [
       "   Engagement\n",
       "0           1\n",
       "1           1\n",
       "2           1\n",
       "3           0\n",
       "4           0"
      ]
     },
     "execution_count": 31,
     "metadata": {},
     "output_type": "execute_result"
    }
   ],
   "source": [
    "from sklearn.linear_model import LogisticRegression\n",
    "from sklearn.model_selection import train_test_split\n",
    "from sklearn.metrics import confusion_matrix,accuracy_score\n",
    "lr = LogisticRegression(C=10.0, random_state=0)\n",
    "\n",
    "x = df.iloc[:,:8]\n",
    "y = df.iloc[:, -1:]\n",
    "y.head()"
   ]
  },
  {
   "cell_type": "code",
   "execution_count": 32,
   "metadata": {},
   "outputs": [],
   "source": [
    "type_image = x.iloc[:, 0].values\n",
    "    \n",
    "type_map = {label:idx for idx,label in \n",
    "                 enumerate(np.unique(type_image))\n",
    "                }\n",
    "\n",
    "media_url = x.iloc[:, 1].values\n",
    "    \n",
    "media_map = {label:idx for idx,label in \n",
    "                 enumerate(np.unique(type_image))\n",
    "                }\n",
    "\n",
    "caption = x.iloc[:, 2].values\n",
    "    \n",
    "caption_map = {label:idx for idx,label in \n",
    "                 enumerate(np.unique(caption))\n",
    "                }\n",
    "\n",
    "x['type'] = x['type'].map(type_map)\n",
    "x['media_url'] = x['media_url'].map(media_map)\n",
    "x['caption'] = x['caption'].map(caption_map)"
   ]
  },
  {
   "cell_type": "code",
   "execution_count": 35,
   "metadata": {},
   "outputs": [],
   "source": [
    "x.drop(['media_url'],axis=1,inplace=True)"
   ]
  },
  {
   "cell_type": "code",
   "execution_count": 36,
   "metadata": {},
   "outputs": [
    {
     "data": {
      "text/html": [
       "<div>\n",
       "<style scoped>\n",
       "    .dataframe tbody tr th:only-of-type {\n",
       "        vertical-align: middle;\n",
       "    }\n",
       "\n",
       "    .dataframe tbody tr th {\n",
       "        vertical-align: top;\n",
       "    }\n",
       "\n",
       "    .dataframe thead th {\n",
       "        text-align: right;\n",
       "    }\n",
       "</style>\n",
       "<table border=\"1\" class=\"dataframe\">\n",
       "  <thead>\n",
       "    <tr style=\"text-align: right;\">\n",
       "      <th></th>\n",
       "      <th>type</th>\n",
       "      <th>caption</th>\n",
       "      <th>likes</th>\n",
       "      <th>comments</th>\n",
       "      <th>Norm_Likes</th>\n",
       "      <th>Norm_Comments</th>\n",
       "      <th>Engagement_Score</th>\n",
       "    </tr>\n",
       "  </thead>\n",
       "  <tbody>\n",
       "    <tr>\n",
       "      <th>0</th>\n",
       "      <td>0</td>\n",
       "      <td>5</td>\n",
       "      <td>256591</td>\n",
       "      <td>1271</td>\n",
       "      <td>0.243893</td>\n",
       "      <td>0.350037</td>\n",
       "      <td>0.307579</td>\n",
       "    </tr>\n",
       "    <tr>\n",
       "      <th>1</th>\n",
       "      <td>0</td>\n",
       "      <td>8</td>\n",
       "      <td>587042</td>\n",
       "      <td>1692</td>\n",
       "      <td>0.996790</td>\n",
       "      <td>0.504023</td>\n",
       "      <td>0.701130</td>\n",
       "    </tr>\n",
       "    <tr>\n",
       "      <th>2</th>\n",
       "      <td>0</td>\n",
       "      <td>0</td>\n",
       "      <td>312169</td>\n",
       "      <td>3039</td>\n",
       "      <td>0.370521</td>\n",
       "      <td>0.996708</td>\n",
       "      <td>0.746233</td>\n",
       "    </tr>\n",
       "    <tr>\n",
       "      <th>3</th>\n",
       "      <td>0</td>\n",
       "      <td>13</td>\n",
       "      <td>153079</td>\n",
       "      <td>394</td>\n",
       "      <td>0.008052</td>\n",
       "      <td>0.029261</td>\n",
       "      <td>0.020777</td>\n",
       "    </tr>\n",
       "    <tr>\n",
       "      <th>4</th>\n",
       "      <td>0</td>\n",
       "      <td>10</td>\n",
       "      <td>163279</td>\n",
       "      <td>618</td>\n",
       "      <td>0.031291</td>\n",
       "      <td>0.111192</td>\n",
       "      <td>0.079232</td>\n",
       "    </tr>\n",
       "  </tbody>\n",
       "</table>\n",
       "</div>"
      ],
      "text/plain": [
       "   type  caption   likes  comments  Norm_Likes  Norm_Comments  \\\n",
       "0     0        5  256591      1271    0.243893       0.350037   \n",
       "1     0        8  587042      1692    0.996790       0.504023   \n",
       "2     0        0  312169      3039    0.370521       0.996708   \n",
       "3     0       13  153079       394    0.008052       0.029261   \n",
       "4     0       10  163279       618    0.031291       0.111192   \n",
       "\n",
       "   Engagement_Score  \n",
       "0          0.307579  \n",
       "1          0.701130  \n",
       "2          0.746233  \n",
       "3          0.020777  \n",
       "4          0.079232  "
      ]
     },
     "execution_count": 36,
     "metadata": {},
     "output_type": "execute_result"
    }
   ],
   "source": [
    "x.head()"
   ]
  },
  {
   "cell_type": "code",
   "execution_count": 37,
   "metadata": {},
   "outputs": [],
   "source": [
    "x_train,x_test,y_train,y_test=train_test_split(x,y,test_size=0.3,random_state = 0)"
   ]
  },
  {
   "cell_type": "code",
   "execution_count": 38,
   "metadata": {},
   "outputs": [
    {
     "name": "stderr",
     "output_type": "stream",
     "text": [
      "/Users/stevenoluwaniyi/anaconda3/lib/python3.7/site-packages/sklearn/linear_model/logistic.py:432: FutureWarning: Default solver will be changed to 'lbfgs' in 0.22. Specify a solver to silence this warning.\n",
      "  FutureWarning)\n",
      "/Users/stevenoluwaniyi/anaconda3/lib/python3.7/site-packages/sklearn/utils/validation.py:724: DataConversionWarning: A column-vector y was passed when a 1d array was expected. Please change the shape of y to (n_samples, ), for example using ravel().\n",
      "  y = column_or_1d(y, warn=True)\n"
     ]
    },
    {
     "data": {
      "text/plain": [
       "LogisticRegression(C=10.0, class_weight=None, dual=False, fit_intercept=True,\n",
       "                   intercept_scaling=1, l1_ratio=None, max_iter=100,\n",
       "                   multi_class='warn', n_jobs=None, penalty='l2',\n",
       "                   random_state=0, solver='warn', tol=0.0001, verbose=0,\n",
       "                   warm_start=False)"
      ]
     },
     "execution_count": 38,
     "metadata": {},
     "output_type": "execute_result"
    }
   ],
   "source": [
    "lr.fit(x_train,y_train)"
   ]
  },
  {
   "cell_type": "code",
   "execution_count": 39,
   "metadata": {},
   "outputs": [],
   "source": [
    "y_pred = lr.predict(x_test)"
   ]
  },
  {
   "cell_type": "code",
   "execution_count": 43,
   "metadata": {},
   "outputs": [
    {
     "name": "stdout",
     "output_type": "stream",
     "text": [
      "[[52 57]\n",
      " [18 89]]\n"
     ]
    }
   ],
   "source": [
    "print(confusion_matrix(y_test, y_pred))"
   ]
  },
  {
   "cell_type": "code",
   "execution_count": 47,
   "metadata": {},
   "outputs": [
    {
     "name": "stdout",
     "output_type": "stream",
     "text": [
      "The accuracy score is  65.27777777777779 %\n"
     ]
    }
   ],
   "source": [
    "print(\"The accuracy score is \", accuracy_score(y_test, y_pred) * 100,\"%\" )"
   ]
  },
  {
   "cell_type": "code",
   "execution_count": 81,
   "metadata": {},
   "outputs": [
    {
     "data": {
      "text/plain": [
       "['Bengal tiger',\n",
       " 'Mammal',\n",
       " 'Felidae',\n",
       " 'Wildlife',\n",
       " 'Tiger',\n",
       " 'Terrestrial animal',\n",
       " 'Big cats',\n",
       " 'Snout',\n",
       " 'Carnivore',\n",
       " 'Siberian tiger']"
      ]
     },
     "execution_count": 81,
     "metadata": {},
     "output_type": "execute_result"
    }
   ],
   "source": [
    "detect_labels_uri(\"https://instagram.fftw1-1.fna.fbcdn.net/v/t51.2885-15/e35/s1080x1080/74339309_354740358671306_6816845177039124307_n.jpg?_nc_ht=instagram.fftw1-1.fna.fbcdn.net&_nc_cat=1&oh=a68987b7baa84b1da348b55a7a15706c&oe=5E52C2FD\")"
   ]
  },
  {
   "cell_type": "code",
   "execution_count": null,
   "metadata": {},
   "outputs": [],
   "source": []
  }
 ],
 "metadata": {
  "kernelspec": {
   "display_name": "Python 3",
   "language": "python",
   "name": "python3"
  },
  "language_info": {
   "codemirror_mode": {
    "name": "ipython",
    "version": 3
   },
   "file_extension": ".py",
   "mimetype": "text/x-python",
   "name": "python",
   "nbconvert_exporter": "python",
   "pygments_lexer": "ipython3",
   "version": "3.7.3"
  }
 },
 "nbformat": 4,
 "nbformat_minor": 2
}
