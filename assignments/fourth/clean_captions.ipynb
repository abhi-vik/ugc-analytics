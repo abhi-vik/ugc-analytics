{
 "cells": [
  {
   "cell_type": "code",
   "execution_count": 1,
   "metadata": {},
   "outputs": [],
   "source": [
    "import numpy as np\n",
    "import pandas as pd"
   ]
  },
  {
   "cell_type": "code",
   "execution_count": 2,
   "metadata": {},
   "outputs": [],
   "source": [
    "df = pd.read_csv('output.csv')"
   ]
  },
  {
   "cell_type": "code",
   "execution_count": 3,
   "metadata": {},
   "outputs": [],
   "source": [
    "def get_split_char(caption):\n",
    "    return 'I' if '@simonnorfolkstudio' in caption else '|'\n",
    "\n",
    "def cut_n_trailing_words(words):\n",
    "    count = 0\n",
    "    for word in reversed(words):\n",
    "        if word == '' or word[0] == '#' or word[0] == '@' or word.endswith('2063#tehran'):\n",
    "            count += 1\n",
    "        else:\n",
    "            break\n",
    "    return count\n",
    "    \n",
    "def clean(caption):\n",
    "    v1 = caption.split(get_split_char(caption))[1].strip()\n",
    "    v2 = v1[:-3] if v1.endswith('}}]') else v1\n",
    "    v3 = v2.replace('\\\\n', ' ').replace('\\\\', '\\'').replace('//', '')\n",
    "    v3_split = [x for x in v3.split(' ') if x != '']\n",
    "    v3_cutoff = -1 * cut_n_trailing_words(v3_split)\n",
    "    v4 = ' '.join(v3_split[:v3_cutoff]) if v3_cutoff != 0 else ' '.join(v3_split)\n",
    "    return v4\n",
    "\n",
    "cleaned_captions = [clean(c) for c in df['caption']]"
   ]
  },
  {
   "cell_type": "code",
   "execution_count": 4,
   "metadata": {},
   "outputs": [
    {
     "data": {
      "text/plain": [
       "['One of the lucky few: Donner was rescued from a major breeding and cub-petting facility in Colorado—and now thrives at a true sanctuary, @turpentinecreek in Eureka Springs, Arkansas. Many roadside zoos use tiger cubs for bottle feeding, petting, and photo ops—and discard or kill them when they’re too big and dangerous to pet: it’s the dark underbelly of hands-on wildlife tourist attractions. Many are nonprofits and pose as rescues or sanctuaries. This is not conservation: Not one captive-bred tiger has ever been successfully released into the wild! You can find a list of true sanctuaries at the Big Cat Sanctuary Alliance. Our story, “The Tigers Next Door,” appears in the December issue, produced with writer Sharon Guynup.',\n",
       " 'Supported by Nat Geo Society/Wyss Campaign for Nature committed to protecting 30% of the planet by 2030. At dawn today on the plains of the Mara Naboisho Conservancy, a large male Maasai giraffe feeds on a balanite tree. Maasai giraffes, once common across East Africa, are now listed as endangered. This image was taken using a strobe light held from a nearby car that the giraffe was oblivious to. Shot with help from Stratton Hatfield',\n",
       " 'A bird of freedom flies toward the new moon in the red dusk of Tehran, Iran, the country where I was born and based until 2011 and where I left many wonderful memories, family, and friends. A nationwide protest, following a 200% increase in the price of petrol, was met with a brutal crackdown. According to Amnesty International, at least 100 protesters have died. It’s hard to get reliable news as the Internet was shut down by authorities on Saturday. Iran is entirely offline now. An estimated 70% of Iran’s 82 million population is usually connected and widely active on social media despite governmental filters and limited speed.',\n",
       " 'Women in a village outside Islamabad, Pakistan, learn how to hand-embroider textiles. A women’s empowerment organization called Behbud has trained approximately 300 women many use the income to send their children to school. For more stories follow me',\n",
       " \"Palm oil plantation, Carey Island, Selangor, Malaysia. Malaysia and Indonesia together produce 85% of the world's palm oil. For a week in Kuala Lumpur, where I'm based, the city has been shrouded in a toxic haze from burning peat forests—set on fire to clear land for palm oil and pulpwood plantations on the Indonesian island of Sumatra. The resulting haze can travel as far as neighboring Malaysia and Singapore. Conservation biologist Adam Kamal explains why palm oil is so ubiquitous: It is in almost everything: toothpaste, ice cream, cosmetic creams, and even in some fuels. No other crop produces the same amount of vegetable oil per acre that oil palm does. However, while the productivity of well-maintained oil palm is amazing, the key issues now are the sustainable management of palm oil plantations, monocropping with heavy reliance on chemical fertilizers and pesticides, and expansion of plantations into pristine forest areas. High-quality forests are cut down for a one-off profit, which then eases the leasing of a clear-cut area for oil palm plantations. The key is to use already degraded land or land that aren’t primary forest or healthy secondary forest for these plantations as well as making sure that the supply chain is kept sustainable. Oil palm itself is not evil, but it must be regulated.\"]"
      ]
     },
     "execution_count": 4,
     "metadata": {},
     "output_type": "execute_result"
    }
   ],
   "source": [
    "cleaned_captions[:5]"
   ]
  },
  {
   "cell_type": "code",
   "execution_count": null,
   "metadata": {},
   "outputs": [],
   "source": []
  }
 ],
 "metadata": {
  "kernelspec": {
   "display_name": "Python 3",
   "language": "python",
   "name": "python3"
  },
  "language_info": {
   "codemirror_mode": {
    "name": "ipython",
    "version": 3
   },
   "file_extension": ".py",
   "mimetype": "text/x-python",
   "name": "python",
   "nbconvert_exporter": "python",
   "pygments_lexer": "ipython3",
   "version": "3.6.8"
  }
 },
 "nbformat": 4,
 "nbformat_minor": 2
}
