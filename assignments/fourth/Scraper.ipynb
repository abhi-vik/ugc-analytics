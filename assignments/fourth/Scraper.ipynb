{
 "cells": [
  {
   "cell_type": "code",
   "execution_count": 1,
   "metadata": {},
   "outputs": [],
   "source": [
    "from selenium import webdriver\n",
    "from bs4 import BeautifulSoup as bs\n",
    "import time\n",
    "import re\n",
    "from urllib.request import urlopen\n",
    "import json\n",
    "from pandas.io.json import json_normalize\n",
    "import pandas as pd, numpy as np"
   ]
  },
  {
   "cell_type": "code",
   "execution_count": 24,
   "metadata": {},
   "outputs": [],
   "source": [
    "username='natgeo'\n",
    "browser = webdriver.Chrome('/Users/matt/Downloads/chromedriver')\n",
    "browser.get('https://www.instagram.com/'+username+'/')"
   ]
  },
  {
   "cell_type": "code",
   "execution_count": 70,
   "metadata": {},
   "outputs": [],
   "source": [
    "links=[]\n",
    "\n",
    "def scrape(start, end):\n",
    "    print('scrolling: {}-{}'.format(start, end))\n",
    "    Pagelength = browser.execute_script(\"window.scrollTo({}, {});\".format(start, end))\n",
    "    source = browser.page_source\n",
    "    data=bs(source, 'html.parser')\n",
    "    body = data.find('body')\n",
    "    script = body.find('span')\n",
    "    for link in script.findAll('a'):\n",
    "         if re.match(\"/p\", link.get('href')):\n",
    "            links.append('https://www.instagram.com'+link.get('href'))\n",
    "    \n",
    "    time.sleep(5)\n",
    "    if (end < 216000):\n",
    "        scrape(start + 3000, end + 3000)"
   ]
  },
  {
   "cell_type": "code",
   "execution_count": 71,
   "metadata": {},
   "outputs": [
    {
     "name": "stdout",
     "output_type": "stream",
     "text": [
      "scrolling: 0-3000\n",
      "scrolling: 3000-6000\n",
      "scrolling: 6000-9000\n",
      "scrolling: 9000-12000\n",
      "scrolling: 12000-15000\n",
      "scrolling: 15000-18000\n",
      "scrolling: 18000-21000\n",
      "scrolling: 21000-24000\n",
      "scrolling: 24000-27000\n",
      "scrolling: 27000-30000\n",
      "scrolling: 30000-33000\n",
      "scrolling: 33000-36000\n",
      "scrolling: 36000-39000\n",
      "scrolling: 39000-42000\n",
      "scrolling: 42000-45000\n",
      "scrolling: 45000-48000\n",
      "scrolling: 48000-51000\n",
      "scrolling: 51000-54000\n",
      "scrolling: 54000-57000\n",
      "scrolling: 57000-60000\n",
      "scrolling: 60000-63000\n",
      "scrolling: 63000-66000\n",
      "scrolling: 66000-69000\n",
      "scrolling: 69000-72000\n",
      "scrolling: 72000-75000\n",
      "scrolling: 75000-78000\n",
      "scrolling: 78000-81000\n",
      "scrolling: 81000-84000\n",
      "scrolling: 84000-87000\n",
      "scrolling: 87000-90000\n",
      "scrolling: 90000-93000\n",
      "scrolling: 93000-96000\n",
      "scrolling: 96000-99000\n",
      "scrolling: 99000-102000\n",
      "scrolling: 102000-105000\n",
      "scrolling: 105000-108000\n",
      "scrolling: 108000-111000\n",
      "scrolling: 111000-114000\n",
      "scrolling: 114000-117000\n",
      "scrolling: 117000-120000\n",
      "scrolling: 120000-123000\n",
      "scrolling: 123000-126000\n",
      "scrolling: 126000-129000\n",
      "scrolling: 129000-132000\n",
      "scrolling: 132000-135000\n",
      "scrolling: 135000-138000\n",
      "scrolling: 138000-141000\n",
      "scrolling: 141000-144000\n",
      "scrolling: 144000-147000\n",
      "scrolling: 147000-150000\n",
      "scrolling: 150000-153000\n",
      "scrolling: 153000-156000\n",
      "scrolling: 156000-159000\n",
      "scrolling: 159000-162000\n",
      "scrolling: 162000-165000\n",
      "scrolling: 165000-168000\n",
      "scrolling: 168000-171000\n",
      "scrolling: 171000-174000\n",
      "scrolling: 174000-177000\n",
      "scrolling: 177000-180000\n",
      "scrolling: 180000-183000\n",
      "scrolling: 183000-186000\n",
      "scrolling: 186000-189000\n",
      "scrolling: 189000-192000\n",
      "scrolling: 192000-195000\n",
      "scrolling: 195000-198000\n",
      "scrolling: 198000-201000\n",
      "scrolling: 201000-204000\n",
      "scrolling: 204000-207000\n",
      "scrolling: 207000-210000\n",
      "scrolling: 210000-213000\n",
      "scrolling: 213000-216000\n"
     ]
    }
   ],
   "source": [
    "scrape(0, 3000)"
   ]
  },
  {
   "cell_type": "code",
   "execution_count": 72,
   "metadata": {},
   "outputs": [
    {
     "data": {
      "text/plain": [
       "1728"
      ]
     },
     "execution_count": 72,
     "metadata": {},
     "output_type": "execute_result"
    }
   ],
   "source": [
    "len(links)"
   ]
  },
  {
   "cell_type": "code",
   "execution_count": 73,
   "metadata": {},
   "outputs": [],
   "source": [
    "result=pd.DataFrame()\n",
    "for i in range(len(links)):\n",
    "    try:\n",
    "        page = urlopen(links[i]).read()\n",
    "        data=bs(page, 'html.parser')\n",
    "        body = data.find('body')\n",
    "        script = body.find('script')\n",
    "        raw = script.text.strip().replace('window._sharedData =', '').replace(';', '')\n",
    "        json_data=json.loads(raw)\n",
    "        posts =json_data['entry_data']['PostPage'][0]['graphql']\n",
    "        posts= json.dumps(posts)\n",
    "        posts = json.loads(posts)\n",
    "        x = pd.DataFrame.from_dict(json_normalize(posts), orient='columns') \n",
    "        x.columns =  x.columns.str.replace(\"shortcode_media.\", \"\")\n",
    "        result=result.append(x)       \n",
    "    except:\n",
    "        np.nan\n",
    "\n",
    "result.index = range(len(result.index))"
   ]
  },
  {
   "cell_type": "code",
   "execution_count": 74,
   "metadata": {},
   "outputs": [
    {
     "data": {
      "text/plain": [
       "1727"
      ]
     },
     "execution_count": 74,
     "metadata": {},
     "output_type": "execute_result"
    }
   ],
   "source": [
    "len(result)"
   ]
  },
  {
   "cell_type": "code",
   "execution_count": 75,
   "metadata": {},
   "outputs": [
    {
     "name": "stdout",
     "output_type": "stream",
     "text": [
      "scraped 1144 posts\n"
     ]
    },
    {
     "data": {
      "text/html": [
       "<div>\n",
       "<style scoped>\n",
       "    .dataframe tbody tr th:only-of-type {\n",
       "        vertical-align: middle;\n",
       "    }\n",
       "\n",
       "    .dataframe tbody tr th {\n",
       "        vertical-align: top;\n",
       "    }\n",
       "\n",
       "    .dataframe thead th {\n",
       "        text-align: right;\n",
       "    }\n",
       "</style>\n",
       "<table border=\"1\" class=\"dataframe\">\n",
       "  <thead>\n",
       "    <tr style=\"text-align: right;\">\n",
       "      <th></th>\n",
       "      <th>type</th>\n",
       "      <th>media_url</th>\n",
       "      <th>caption</th>\n",
       "      <th>likes</th>\n",
       "      <th>comments</th>\n",
       "    </tr>\n",
       "  </thead>\n",
       "  <tbody>\n",
       "    <tr>\n",
       "      <th>0</th>\n",
       "      <td>GraphSidecar</td>\n",
       "      <td>https://instagram.fftw1-1.fna.fbcdn.net/v/t51....</td>\n",
       "      <td>Photo by @erintrieb I In frigid temperatures j...</td>\n",
       "      <td>56008</td>\n",
       "      <td>201</td>\n",
       "    </tr>\n",
       "    <tr>\n",
       "      <th>1</th>\n",
       "      <td>GraphVideo</td>\n",
       "      <td>https://instagram.fftw1-1.fna.fbcdn.net/v/t51....</td>\n",
       "      <td>With unprecedented access, THE NIGHTCRAWLERS f...</td>\n",
       "      <td>61898</td>\n",
       "      <td>771</td>\n",
       "    </tr>\n",
       "    <tr>\n",
       "      <th>2</th>\n",
       "      <td>GraphImage</td>\n",
       "      <td>https://instagram.fftw1-1.fna.fbcdn.net/v/t51....</td>\n",
       "      <td>Photo by @stevewinterphoto | One of the lucky ...</td>\n",
       "      <td>256591</td>\n",
       "      <td>1271</td>\n",
       "    </tr>\n",
       "    <tr>\n",
       "      <th>3</th>\n",
       "      <td>GraphImage</td>\n",
       "      <td>https://instagram.fftw1-1.fna.fbcdn.net/v/t51....</td>\n",
       "      <td>Photo by Charlie Hamilton James @chamiltonjame...</td>\n",
       "      <td>587042</td>\n",
       "      <td>1692</td>\n",
       "    </tr>\n",
       "    <tr>\n",
       "      <th>4</th>\n",
       "      <td>GraphImage</td>\n",
       "      <td>https://instagram.fftw1-1.fna.fbcdn.net/v/t51....</td>\n",
       "      <td>Photo by @babaktafreshi | A bird of freedom fl...</td>\n",
       "      <td>312169</td>\n",
       "      <td>3039</td>\n",
       "    </tr>\n",
       "    <tr>\n",
       "      <th>5</th>\n",
       "      <td>GraphSidecar</td>\n",
       "      <td>https://instagram.fftw1-1.fna.fbcdn.net/v/t51....</td>\n",
       "      <td>Photos by @timlaman | Wild baby orangutan upda...</td>\n",
       "      <td>460300</td>\n",
       "      <td>5257</td>\n",
       "    </tr>\n",
       "    <tr>\n",
       "      <th>6</th>\n",
       "      <td>GraphSidecar</td>\n",
       "      <td>https://instagram.fftw1-1.fna.fbcdn.net/v/t51....</td>\n",
       "      <td>Photos by @brentstirton | // Supported by Nat ...</td>\n",
       "      <td>272227</td>\n",
       "      <td>982</td>\n",
       "    </tr>\n",
       "    <tr>\n",
       "      <th>7</th>\n",
       "      <td>GraphVideo</td>\n",
       "      <td>https://instagram.fftw1-1.fna.fbcdn.net/v/t51....</td>\n",
       "      <td>Video by David Chancellor @chancellordavid | I...</td>\n",
       "      <td>116490</td>\n",
       "      <td>539</td>\n",
       "    </tr>\n",
       "    <tr>\n",
       "      <th>8</th>\n",
       "      <td>GraphImage</td>\n",
       "      <td>https://instagram.fftw1-1.fna.fbcdn.net/v/t51....</td>\n",
       "      <td>Photo by Sara Hylton @sarahyltonphoto | Women ...</td>\n",
       "      <td>153079</td>\n",
       "      <td>394</td>\n",
       "    </tr>\n",
       "    <tr>\n",
       "      <th>9</th>\n",
       "      <td>GraphImage</td>\n",
       "      <td>https://instagram.fftw1-1.fna.fbcdn.net/v/t51....</td>\n",
       "      <td>Photo by Ian Teh @iantehphotography | Palm oil...</td>\n",
       "      <td>163279</td>\n",
       "      <td>618</td>\n",
       "    </tr>\n",
       "  </tbody>\n",
       "</table>\n",
       "</div>"
      ],
      "text/plain": [
       "           type                                          media_url  \\\n",
       "0  GraphSidecar  https://instagram.fftw1-1.fna.fbcdn.net/v/t51....   \n",
       "1    GraphVideo  https://instagram.fftw1-1.fna.fbcdn.net/v/t51....   \n",
       "2    GraphImage  https://instagram.fftw1-1.fna.fbcdn.net/v/t51....   \n",
       "3    GraphImage  https://instagram.fftw1-1.fna.fbcdn.net/v/t51....   \n",
       "4    GraphImage  https://instagram.fftw1-1.fna.fbcdn.net/v/t51....   \n",
       "5  GraphSidecar  https://instagram.fftw1-1.fna.fbcdn.net/v/t51....   \n",
       "6  GraphSidecar  https://instagram.fftw1-1.fna.fbcdn.net/v/t51....   \n",
       "7    GraphVideo  https://instagram.fftw1-1.fna.fbcdn.net/v/t51....   \n",
       "8    GraphImage  https://instagram.fftw1-1.fna.fbcdn.net/v/t51....   \n",
       "9    GraphImage  https://instagram.fftw1-1.fna.fbcdn.net/v/t51....   \n",
       "\n",
       "                                             caption   likes  comments  \n",
       "0  Photo by @erintrieb I In frigid temperatures j...   56008       201  \n",
       "1  With unprecedented access, THE NIGHTCRAWLERS f...   61898       771  \n",
       "2  Photo by @stevewinterphoto | One of the lucky ...  256591      1271  \n",
       "3  Photo by Charlie Hamilton James @chamiltonjame...  587042      1692  \n",
       "4  Photo by @babaktafreshi | A bird of freedom fl...  312169      3039  \n",
       "5  Photos by @timlaman | Wild baby orangutan upda...  460300      5257  \n",
       "6  Photos by @brentstirton | // Supported by Nat ...  272227       982  \n",
       "7  Video by David Chancellor @chancellordavid | I...  116490       539  \n",
       "8  Photo by Sara Hylton @sarahyltonphoto | Women ...  153079       394  \n",
       "9  Photo by Ian Teh @iantehphotography | Palm oil...  163279       618  "
      ]
     },
     "execution_count": 75,
     "metadata": {},
     "output_type": "execute_result"
    }
   ],
   "source": [
    "properties = ['__typename', 'display_url', 'edge_media_to_caption.edges', 'edge_media_preview_like.count', 'edge_media_preview_comment.count']\n",
    "columns = ['type', 'media_url', 'caption', 'likes', 'comments']\n",
    "\n",
    "output = result.copy()\n",
    "output = output[properties]\n",
    "output.columns = columns\n",
    "output.caption = output.caption.apply(lambda s: str(s)\n",
    "  .replace(\"[{'node': {'text': \", '')\n",
    "  .replace(\"'\", '')\n",
    "  .replace(\"\\\"\", ''))\n",
    "\n",
    "output = output.drop_duplicates()\n",
    "print('scraped {} posts'.format(len(output)))\n",
    "output.head(10)"
   ]
  },
  {
   "cell_type": "code",
   "execution_count": 77,
   "metadata": {},
   "outputs": [
    {
     "name": "stdout",
     "output_type": "stream",
     "text": [
      "Images length: 720\n"
     ]
    }
   ],
   "source": [
    "images = output[output.type == 'GraphImage']\n",
    "print('Images length: {}'.format(len(images)))\n",
    "images.to_csv('output.csv', columns=columns, index=False)"
   ]
  }
 ],
 "metadata": {
  "kernelspec": {
   "display_name": "Python 3",
   "language": "python",
   "name": "python3"
  },
  "language_info": {
   "codemirror_mode": {
    "name": "ipython",
    "version": 3
   },
   "file_extension": ".py",
   "mimetype": "text/x-python",
   "name": "python",
   "nbconvert_exporter": "python",
   "pygments_lexer": "ipython3",
   "version": "3.7.3"
  }
 },
 "nbformat": 4,
 "nbformat_minor": 2
}
