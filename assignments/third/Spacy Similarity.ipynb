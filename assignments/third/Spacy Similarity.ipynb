{
 "cells": [
  {
   "cell_type": "markdown",
   "metadata": {},
   "source": [
    "<center> <h1> UGCA Assignment 3 </h1> </center>\n",
    "<center> <h3> Matt Viteri, Colin Chu, Darasimi Oluwaniyi, Vikram Gupta, & Yeggi Lee </h3> </center>"
   ]
  },
  {
   "cell_type": "markdown",
   "metadata": {},
   "source": [
    "<b> High level description: </b> The objective of this group assignment is to create the building blocks of a crowdsourced recommendation system. This recommendation system should accept user inputs about desired attributes of a product and come up with 3 recommendations. In this case, we used beer recommendations from the following website: https://www.beeradvocate.com/beer/top-rated/"
   ]
  },
  {
   "cell_type": "code",
   "execution_count": 1,
   "metadata": {},
   "outputs": [
    {
     "name": "stderr",
     "output_type": "stream",
     "text": [
      "[nltk_data] Downloading package wordnet to /home/abhivik/nltk_data...\n",
      "[nltk_data]   Package wordnet is already up-to-date!\n"
     ]
    },
    {
     "data": {
      "text/plain": [
       "True"
      ]
     },
     "execution_count": 1,
     "metadata": {},
     "output_type": "execute_result"
    }
   ],
   "source": [
    "import numpy as np\n",
    "import pandas as pd\n",
    "import re\n",
    "import textblob\n",
    "import nltk\n",
    "import matplotlib.pyplot as plt\n",
    "import random\n",
    "\n",
    "from sklearn import manifold\n",
    "from configparser import ConfigParser\n",
    "from IPython.display import display\n",
    "from collections import Counter\n",
    "from nltk.corpus import stopwords\n",
    "from vaderSentiment.vaderSentiment import SentimentIntensityAnalyzer\n",
    "\n",
    "stop_words = set(stopwords.words('english'))\n",
    "\n",
    "nltk.download('wordnet')"
   ]
  },
  {
   "cell_type": "markdown",
   "metadata": {},
   "source": [
    "### TO KEEP IN MIND: \n",
    "\n",
    "Your submission should include the following: \n",
    "1. Names of all team members inside the document (only one submission per team)\n",
    "2. All scripts \n",
    "3. The average sentiment and similarity scores for the three products you recommended in task E.\n",
    "4. Your analyses and answer to task F. Make sure you show the ratings, similarity scores and sentiments for the products you recommend in tasks E and F. \n",
    "\n",
    "#### Guidelines\n",
    "1.    For similarity analysis, use spacy (instead of simple cosine similarity). The script should accept as input a file with the product attributes, and calculate similarity scores (between 0 and 1) between these attributes and each review. That is, the output file should have 3 columns – product_name, product_review and similarity_score. \n",
    "2.    The same beer may appear on multiple rows (in the 300 rows with highest similarity scores) since there are multiple reviews for each beer. Reduce the number of rows by averaging the user_rating of each beer (can do it in Excel). After this operation, each beer will be present only in one row. The user_rating column will now have average ratings for each beer. \n",
    "3.    For task F, you do the same averaging, but with ALL rows of data (that is, as many rows as there are reviews).   "
   ]
  },
  {
   "cell_type": "markdown",
   "metadata": {},
   "source": [
    "### Task A\n",
    "Extract about 6k reviews of beers from Beeradvocate.com. It is a single-page listing of 250 top-rated beers (avoids the pagination feature, which you need in cases where listings go on for many pages). Scrape 25 reviews and well as the ratings provided by users for each beer. The way beeradvocate.com organizes reviews is that it provides 25 reviews per page, which means you can avoid the pagination part for the reviews as well. The CSV output file should have 3 columns: product_name, product_review, and user_rating. \n",
    "- The scrapper is in the file, \"scraper.py\" and the output is in \"output.csv\"\n",
    "- Approximately ____k reviews were scraped"
   ]
  },
  {
   "cell_type": "code",
   "execution_count": 2,
   "metadata": {},
   "outputs": [
    {
     "data": {
      "text/html": [
       "<div>\n",
       "<style scoped>\n",
       "    .dataframe tbody tr th:only-of-type {\n",
       "        vertical-align: middle;\n",
       "    }\n",
       "\n",
       "    .dataframe tbody tr th {\n",
       "        vertical-align: top;\n",
       "    }\n",
       "\n",
       "    .dataframe thead th {\n",
       "        text-align: right;\n",
       "    }\n",
       "</style>\n",
       "<table border=\"1\" class=\"dataframe\">\n",
       "  <thead>\n",
       "    <tr style=\"text-align: right;\">\n",
       "      <th></th>\n",
       "      <th>beer</th>\n",
       "      <th>look</th>\n",
       "      <th>smell</th>\n",
       "      <th>taste</th>\n",
       "      <th>feel</th>\n",
       "      <th>overall</th>\n",
       "      <th>comment</th>\n",
       "    </tr>\n",
       "  </thead>\n",
       "  <tbody>\n",
       "    <tr>\n",
       "      <th>0</th>\n",
       "      <td>Kentucky Brunch Brand Stout</td>\n",
       "      <td>4.75</td>\n",
       "      <td>4.75</td>\n",
       "      <td>4.75</td>\n",
       "      <td>4.75</td>\n",
       "      <td>5.00</td>\n",
       "      <td>2016 Silver Wax. Aroma has whiskey, maple, tof...</td>\n",
       "    </tr>\n",
       "    <tr>\n",
       "      <th>1</th>\n",
       "      <td>Kentucky Brunch Brand Stout</td>\n",
       "      <td>4.50</td>\n",
       "      <td>4.75</td>\n",
       "      <td>4.75</td>\n",
       "      <td>4.75</td>\n",
       "      <td>4.75</td>\n",
       "      <td>The beer pours Pitch Black with a frothy tan h...</td>\n",
       "    </tr>\n",
       "    <tr>\n",
       "      <th>2</th>\n",
       "      <td>Kentucky Brunch Brand Stout</td>\n",
       "      <td>4.75</td>\n",
       "      <td>4.75</td>\n",
       "      <td>4.50</td>\n",
       "      <td>5.00</td>\n",
       "      <td>4.75</td>\n",
       "      <td>Probably the smoothest beer I have ever had. S...</td>\n",
       "    </tr>\n",
       "    <tr>\n",
       "      <th>3</th>\n",
       "      <td>Kentucky Brunch Brand Stout</td>\n",
       "      <td>5.00</td>\n",
       "      <td>5.00</td>\n",
       "      <td>5.00</td>\n",
       "      <td>5.00</td>\n",
       "      <td>5.00</td>\n",
       "      <td>Dark black, very thick, a little bit of tan he...</td>\n",
       "    </tr>\n",
       "    <tr>\n",
       "      <th>4</th>\n",
       "      <td>Kentucky Brunch Brand Stout</td>\n",
       "      <td>4.50</td>\n",
       "      <td>5.00</td>\n",
       "      <td>5.00</td>\n",
       "      <td>5.00</td>\n",
       "      <td>5.00</td>\n",
       "      <td>Poured black as ink with thin ruby edges at 58...</td>\n",
       "    </tr>\n",
       "  </tbody>\n",
       "</table>\n",
       "</div>"
      ],
      "text/plain": [
       "                          beer  look  smell  taste  feel  overall  \\\n",
       "0  Kentucky Brunch Brand Stout  4.75   4.75   4.75  4.75     5.00   \n",
       "1  Kentucky Brunch Brand Stout  4.50   4.75   4.75  4.75     4.75   \n",
       "2  Kentucky Brunch Brand Stout  4.75   4.75   4.50  5.00     4.75   \n",
       "3  Kentucky Brunch Brand Stout  5.00   5.00   5.00  5.00     5.00   \n",
       "4  Kentucky Brunch Brand Stout  4.50   5.00   5.00  5.00     5.00   \n",
       "\n",
       "                                             comment  \n",
       "0  2016 Silver Wax. Aroma has whiskey, maple, tof...  \n",
       "1  The beer pours Pitch Black with a frothy tan h...  \n",
       "2  Probably the smoothest beer I have ever had. S...  \n",
       "3  Dark black, very thick, a little bit of tan he...  \n",
       "4  Poured black as ink with thin ruby edges at 58...  "
      ]
     },
     "execution_count": 2,
     "metadata": {},
     "output_type": "execute_result"
    }
   ],
   "source": [
    "orig_df = pd.read_csv('output.csv')\n",
    "orig_df.head(5)"
   ]
  },
  {
   "cell_type": "markdown",
   "metadata": {},
   "source": [
    "### Task B\n",
    "Assume that a customer, who will be using this recommendation system, has specified 3 attributes in a beer. One website describes multiple attributes of beer: https://www.dummies.com/food-drink/drinks/beer/beer-for-dummies-cheat-sheet/\n",
    "- <b> Aggressive: </b> Boldly assertive aroma and/or taste\n",
    "- <b>Balanced:</b> Malt and hops in similar proportions; equal representation of malt sweetness and hop bitterness in the flavor — especially at the finish\n",
    "- <b>Complex:</b> Multidimensional; many flavors and sensations on the palate\n",
    "- <b>Crisp: </b>Highly carbonated; effervescent\n",
    "- <b>Fruity:</b> Flavors reminiscent of various fruits or <b>Hoppy: </b> Herbal, earthy, spicy, or citric aromas and flavors of hops or <b>Malty</b>: Grainy, caramel-like; can be sweet or dry\n",
    "- <b>Robust:</b> Rich and full-bodied\n",
    "\n",
    "Choose three attributes from the above list. If you choose another product (like electric guitars), choose a different set – e.g., action, neck, pickup (for guitars). It is a good idea to perform a word frequency analysis of the data you have collected to make sure that the above attributes are actually mentioned."
   ]
  },
  {
   "cell_type": "code",
   "execution_count": 3,
   "metadata": {},
   "outputs": [],
   "source": [
    "top50_beers = ['Kentucky Brunch Brand Stout', 'Marshmallow Handjee', \"Hunahpu's Imperial Stout - Double Barrel Aged\", 'Barrel-Aged Abraxas', 'Heady Topper', 'King Julius', 'Pliny The Younger', \"Mornin' Delight\", 'Very Hazy', 'King JJJuliusss', 'Fundamental Observation', 'SR-71', 'CBS (Canadian Breakfast Stout)', 'Juice Machine', 'Pliny The Elder', \"Fou' Foune\", 'Assassin', 'Very Green', 'Julius', 'Double Sunshine', 'Zenne Y Frontera', 'Abner', 'Bourbon County Brand Stout', 'Trappist Westvleteren 12 (XII)', 'Dinner', 'KBS (Kentucky Breakfast Stout)', 'JJJuliusss', 'Barrel Aged Imperial German Chocolate Cupcake Stout', 'Parabola', 'Duck Duck Gooze', 'Speedway Stout - Vietnamese Coffee - Bourbon-Barrel Aged', 'Morning Wood', 'Lou Pepe - Kriek', 'Zombie Dust', 'Westly', 'Bourbon County Brand Vanilla Stout', 'Doubleganger', 'Fuzzy', 'Double Citra®', 'Ann', \"Hunahpu's Imperial Stout\", 'King Sue', 'Atrial Rubicite', 'Headroom', 'Double Galaxy', 'Supplication', 'Cable Car', 'Citra', 'Framboise Du Fermier', 'Focal Banger', 'Double Dry Hopped Congress Street', 'Very GGGreennn', 'Green', 'Lou Pepe - Framboise', 'Aaron', 'Sip Of Sunshine', 'Black Tuesday', 'Swish', 'BBADL (Bourbon Barrel Aged Dark Lord Imperial Stout)', 'Haze']\n",
    "top_valid_beers = (orig_df[orig_df['beer'].isin(top50_beers)]\n",
    "                   .groupby('beer')['beer']\n",
    "                   .count()\n",
    "                   .where(lambda v: v > 100)\n",
    "                   .dropna()\n",
    "                   .sort_values(ascending=False)\n",
    "                   .index\n",
    "                   .tolist())\n",
    "\n",
    "df = orig_df[orig_df['beer'].isin(top_valid_beers)].groupby('beer').head(200)"
   ]
  },
  {
   "cell_type": "code",
   "execution_count": 4,
   "metadata": {},
   "outputs": [
    {
     "data": {
      "text/plain": [
       "[('fruity', 15966),\n",
       " ('beer', 10937),\n",
       " ('hoppy', 8637),\n",
       " ('taste', 5713),\n",
       " ('head', 5536),\n",
       " ('wa', 5278),\n",
       " ('malty', 5274),\n",
       " ('flavor', 4908),\n",
       " ('like', 4222),\n",
       " ('one', 4159),\n",
       " ('crisp', 3644),\n",
       " ('smell', 3510),\n",
       " ('nice', 3433),\n",
       " ('aroma', 3360),\n",
       " ('vanilla', 3308),\n",
       " ('dark', 3287),\n",
       " ('sweet', 3284),\n",
       " ('good', 3205),\n",
       " ('note', 3155),\n",
       " ('well', 3081),\n",
       " ('chocolate', 3051),\n",
       " ('finish', 3019),\n",
       " ('bourbon', 2859),\n",
       " ('nose', 2810),\n",
       " ('bottle', 2797)]"
      ]
     },
     "execution_count": 4,
     "metadata": {},
     "output_type": "execute_result"
    }
   ],
   "source": [
    "same_map = {\n",
    "    'aggresive': ['bold', 'assertive'],\n",
    "    'balanced': ['balance', 'multidimensional'],\n",
    "    'complex': ['complexing'],\n",
    "    'crisp': ['crispy', 'carbonated', 'carbonation'],\n",
    "    'fruity': ['fruit', 'tart', 'apple', 'fig', 'orange', 'apples', 'oranges', 'raspberry', 'raspberries', \n",
    "               'cherry', 'grapefruit', 'tropical'],\n",
    "    'hoppy': ['herbal', 'earthy', 'spicy', 'citric', 'hops', 'hop', 'citrus'],\n",
    "    'malty': ['malt', 'grainy', 'caramel', 'maple'],\n",
    "    'robust': ['rich', 'full-bodied']\n",
    "}\n",
    "\n",
    "same_inv_map = {word: root for root, words in same_map.items() for word in words}\n",
    "\n",
    "def splitter(data):\n",
    "    words = re.sub(\"([^0-9A-Za-z \\t]) |(\\w+:\\/\\/\\S+)\", \" \", data.lower()).split()\n",
    "    return [textblob.Word(word).lemmatize() for word in words]\n",
    "\n",
    "def convert_same(text):\n",
    "    return [(same_inv_map[word] if word in same_inv_map else word) for word in splitter(text)]\n",
    "\n",
    "def wordCount(data):\n",
    "    filtered = [w for w in convert_same(' '.join(data['comment'])) if w not in stop_words]\n",
    "    return Counter(filtered).most_common(25)\n",
    "\n",
    "df['split_comments'] = df['comment'].map(convert_same)\n",
    "\n",
    "wordCount(df)"
   ]
  },
  {
   "cell_type": "markdown",
   "metadata": {},
   "source": [
    "#### Results\n",
    "The most common attributes out of the list above are: \n",
    "- Fruity\n",
    "- Hoppy\n",
    "- Malty \n",
    "- Crisp\n",
    "- Balanced\n",
    "- Robust\n",
    "- Complex"
   ]
  },
  {
   "cell_type": "code",
   "execution_count": 5,
   "metadata": {},
   "outputs": [],
   "source": [
    "attributes = ['crisp', 'balanced', 'fruity']"
   ]
  },
  {
   "cell_type": "markdown",
   "metadata": {},
   "source": [
    "### Task C \n",
    "Perform a similarity analysis with the 3-attribute set and the reviews. See guidelines below on how to do this. From the output file, choose 300 reviews that have the highest similarity scores with the attribute set you have chosen. "
   ]
  },
  {
   "cell_type": "markdown",
   "metadata": {},
   "source": [
    "Run the following line in your terminal AFTER you install spacy\n",
    "<br />\n",
    "`python -m spacy download en_core_web_lg`"
   ]
  },
  {
   "cell_type": "code",
   "execution_count": 6,
   "metadata": {},
   "outputs": [],
   "source": [
    "import spacy\n",
    "\n",
    "nlp = spacy.load(\"en_core_web_lg\")\n",
    "STOPWORDS = nlp.Defaults.stop_words"
   ]
  },
  {
   "cell_type": "code",
   "execution_count": 7,
   "metadata": {},
   "outputs": [],
   "source": [
    "attstr = ' '.join(attributes)"
   ]
  },
  {
   "cell_type": "code",
   "execution_count": 8,
   "metadata": {},
   "outputs": [],
   "source": [
    "# ignore stopwords, punctuation and pronouns\n",
    "def process_text(text):\n",
    "    doc = nlp(text.lower())\n",
    "    result = []\n",
    "    for token in doc:\n",
    "        if token.text in nlp.Defaults.stop_words:\n",
    "            continue\n",
    "        if token.is_punct:\n",
    "            continue\n",
    "        if token.lemma_ == '-PRON-':\n",
    "            continue\n",
    "        result.append(token.lemma_)\n",
    "    return ' '.join(result)"
   ]
  },
  {
   "cell_type": "code",
   "execution_count": 9,
   "metadata": {},
   "outputs": [],
   "source": [
    "def calculate_similarity(text):\n",
    "    base = nlp(attstr)\n",
    "    compare = nlp(process_text(text))\n",
    "    return base.similarity(compare)"
   ]
  },
  {
   "cell_type": "code",
   "execution_count": 10,
   "metadata": {},
   "outputs": [],
   "source": [
    "sims = []\n",
    "\n",
    "for i, r in df.iterrows():\n",
    "    s = calculate_similarity(r.comment)\n",
    "    d = {\n",
    "        'product_name': r.beer,\n",
    "        'product_review': r.comment,\n",
    "        'user_rating': r.overall,\n",
    "        'similarity_score': s\n",
    "    }\n",
    "    sims.append(d)"
   ]
  },
  {
   "cell_type": "code",
   "execution_count": 11,
   "metadata": {},
   "outputs": [
    {
     "data": {
      "text/html": [
       "<div>\n",
       "<style scoped>\n",
       "    .dataframe tbody tr th:only-of-type {\n",
       "        vertical-align: middle;\n",
       "    }\n",
       "\n",
       "    .dataframe tbody tr th {\n",
       "        vertical-align: top;\n",
       "    }\n",
       "\n",
       "    .dataframe thead th {\n",
       "        text-align: right;\n",
       "    }\n",
       "</style>\n",
       "<table border=\"1\" class=\"dataframe\">\n",
       "  <thead>\n",
       "    <tr style=\"text-align: right;\">\n",
       "      <th></th>\n",
       "      <th>product_name</th>\n",
       "      <th>product_review</th>\n",
       "      <th>user_rating</th>\n",
       "      <th>similarity_score</th>\n",
       "    </tr>\n",
       "  </thead>\n",
       "  <tbody>\n",
       "    <tr>\n",
       "      <th>4305</th>\n",
       "      <td>Duck Duck Gooze</td>\n",
       "      <td>Aroma - Prominent notes of acetic/citric acid ...</td>\n",
       "      <td>4.75</td>\n",
       "      <td>0.843623</td>\n",
       "    </tr>\n",
       "    <tr>\n",
       "      <th>4904</th>\n",
       "      <td>Zombie Dust</td>\n",
       "      <td>Color is a perfect golden ale color, pleasant ...</td>\n",
       "      <td>4.75</td>\n",
       "      <td>0.839829</td>\n",
       "    </tr>\n",
       "    <tr>\n",
       "      <th>2102</th>\n",
       "      <td>Cable Car</td>\n",
       "      <td>Hazy golden colour with a large fluffy head. N...</td>\n",
       "      <td>4.50</td>\n",
       "      <td>0.838208</td>\n",
       "    </tr>\n",
       "    <tr>\n",
       "      <th>3972</th>\n",
       "      <td>Duck Duck Gooze</td>\n",
       "      <td>On tap at Beavertown Extravaganza. Aroma has s...</td>\n",
       "      <td>4.50</td>\n",
       "      <td>0.837662</td>\n",
       "    </tr>\n",
       "    <tr>\n",
       "      <th>7133</th>\n",
       "      <td>Pliny The Elder</td>\n",
       "      <td>Pours a clear vibrant marigold colour. Citrusy...</td>\n",
       "      <td>4.75</td>\n",
       "      <td>0.837084</td>\n",
       "    </tr>\n",
       "    <tr>\n",
       "      <th>...</th>\n",
       "      <td>...</td>\n",
       "      <td>...</td>\n",
       "      <td>...</td>\n",
       "      <td>...</td>\n",
       "    </tr>\n",
       "    <tr>\n",
       "      <th>3655</th>\n",
       "      <td>Zombie Dust</td>\n",
       "      <td>This is a really good, really drinkable, and r...</td>\n",
       "      <td>4.50</td>\n",
       "      <td>0.793154</td>\n",
       "    </tr>\n",
       "    <tr>\n",
       "      <th>185</th>\n",
       "      <td>Green</td>\n",
       "      <td>Wonderful NE style IPA pours a beautiful hazy ...</td>\n",
       "      <td>4.75</td>\n",
       "      <td>0.793009</td>\n",
       "    </tr>\n",
       "    <tr>\n",
       "      <th>1630</th>\n",
       "      <td>Focal Banger</td>\n",
       "      <td>Cloudy, gold, with two fingers of thick white ...</td>\n",
       "      <td>4.50</td>\n",
       "      <td>0.792863</td>\n",
       "    </tr>\n",
       "    <tr>\n",
       "      <th>2646</th>\n",
       "      <td>King Sue</td>\n",
       "      <td>Pours a bright and sunny yellow with soft oran...</td>\n",
       "      <td>4.50</td>\n",
       "      <td>0.792699</td>\n",
       "    </tr>\n",
       "    <tr>\n",
       "      <th>2954</th>\n",
       "      <td>Atrial Rubicite</td>\n",
       "      <td>500ml bottle, blend 3 (November, 2013), poured...</td>\n",
       "      <td>4.50</td>\n",
       "      <td>0.792659</td>\n",
       "    </tr>\n",
       "  </tbody>\n",
       "</table>\n",
       "<p>300 rows × 4 columns</p>\n",
       "</div>"
      ],
      "text/plain": [
       "         product_name                                     product_review  \\\n",
       "4305  Duck Duck Gooze  Aroma - Prominent notes of acetic/citric acid ...   \n",
       "4904      Zombie Dust  Color is a perfect golden ale color, pleasant ...   \n",
       "2102        Cable Car  Hazy golden colour with a large fluffy head. N...   \n",
       "3972  Duck Duck Gooze  On tap at Beavertown Extravaganza. Aroma has s...   \n",
       "7133  Pliny The Elder  Pours a clear vibrant marigold colour. Citrusy...   \n",
       "...               ...                                                ...   \n",
       "3655      Zombie Dust  This is a really good, really drinkable, and r...   \n",
       "185             Green  Wonderful NE style IPA pours a beautiful hazy ...   \n",
       "1630     Focal Banger  Cloudy, gold, with two fingers of thick white ...   \n",
       "2646         King Sue  Pours a bright and sunny yellow with soft oran...   \n",
       "2954  Atrial Rubicite  500ml bottle, blend 3 (November, 2013), poured...   \n",
       "\n",
       "      user_rating  similarity_score  \n",
       "4305         4.75          0.843623  \n",
       "4904         4.75          0.839829  \n",
       "2102         4.50          0.838208  \n",
       "3972         4.50          0.837662  \n",
       "7133         4.75          0.837084  \n",
       "...           ...               ...  \n",
       "3655         4.50          0.793154  \n",
       "185          4.75          0.793009  \n",
       "1630         4.50          0.792863  \n",
       "2646         4.50          0.792699  \n",
       "2954         4.50          0.792659  \n",
       "\n",
       "[300 rows x 4 columns]"
      ]
     },
     "execution_count": 11,
     "metadata": {},
     "output_type": "execute_result"
    }
   ],
   "source": [
    "sims_df = pd.DataFrame(sims)\n",
    "sims_df.sort_values(by=['similarity_score'], ascending=False, inplace=True)\n",
    "sims_df[:300]"
   ]
  },
  {
   "cell_type": "code",
   "execution_count": 12,
   "metadata": {},
   "outputs": [],
   "source": [
    "sims_df.to_csv('similarity_score.csv', index=None)"
   ]
  },
  {
   "cell_type": "markdown",
   "metadata": {},
   "source": [
    "### Task D. \n",
    "Perform sentiment analysis on these 300 reviews and sort them (high to low) by the sentiment scores."
   ]
  },
  {
   "cell_type": "code",
   "execution_count": 13,
   "metadata": {},
   "outputs": [],
   "source": [
    "from vaderSentiment.vaderSentiment import SentimentIntensityAnalyzer\n",
    "analyser = SentimentIntensityAnalyzer()\n",
    "\n",
    "def sentiment_analyzer_scores(sentence):\n",
    "    score = analyser.polarity_scores(sentence)\n",
    "    return score['compound']"
   ]
  },
  {
   "cell_type": "code",
   "execution_count": 14,
   "metadata": {},
   "outputs": [],
   "source": [
    "df_sims_sentiment = pd.read_csv('similarity_score.csv')\n",
    "df_sims_sentiment['Sentiment Score'] = df_sims_sentiment['product_review'].map(lambda x: sentiment_analyzer_scores(x))"
   ]
  },
  {
   "cell_type": "code",
   "execution_count": 15,
   "metadata": {},
   "outputs": [],
   "source": [
    "df_sims_sentiment.sort_values(by=['Sentiment Score'], ascending=False, inplace=True)\n",
    "df_sims_sentiment.to_csv('similarity_score&sentiment_score.csv', index=None)"
   ]
  },
  {
   "cell_type": "code",
   "execution_count": 16,
   "metadata": {},
   "outputs": [
    {
     "data": {
      "text/html": [
       "<div>\n",
       "<style scoped>\n",
       "    .dataframe tbody tr th:only-of-type {\n",
       "        vertical-align: middle;\n",
       "    }\n",
       "\n",
       "    .dataframe tbody tr th {\n",
       "        vertical-align: top;\n",
       "    }\n",
       "\n",
       "    .dataframe thead th {\n",
       "        text-align: right;\n",
       "    }\n",
       "</style>\n",
       "<table border=\"1\" class=\"dataframe\">\n",
       "  <thead>\n",
       "    <tr style=\"text-align: right;\">\n",
       "      <th></th>\n",
       "      <th>product_name</th>\n",
       "      <th>product_review</th>\n",
       "      <th>user_rating</th>\n",
       "      <th>similarity_score</th>\n",
       "    </tr>\n",
       "  </thead>\n",
       "  <tbody>\n",
       "    <tr>\n",
       "      <th>0</th>\n",
       "      <td>Duck Duck Gooze</td>\n",
       "      <td>Aroma - Prominent notes of acetic/citric acid ...</td>\n",
       "      <td>4.75</td>\n",
       "      <td>0.843623</td>\n",
       "    </tr>\n",
       "    <tr>\n",
       "      <th>1</th>\n",
       "      <td>Zombie Dust</td>\n",
       "      <td>Color is a perfect golden ale color, pleasant ...</td>\n",
       "      <td>4.75</td>\n",
       "      <td>0.839829</td>\n",
       "    </tr>\n",
       "    <tr>\n",
       "      <th>2</th>\n",
       "      <td>Cable Car</td>\n",
       "      <td>Hazy golden colour with a large fluffy head. N...</td>\n",
       "      <td>4.50</td>\n",
       "      <td>0.838208</td>\n",
       "    </tr>\n",
       "    <tr>\n",
       "      <th>3</th>\n",
       "      <td>Duck Duck Gooze</td>\n",
       "      <td>On tap at Beavertown Extravaganza. Aroma has s...</td>\n",
       "      <td>4.50</td>\n",
       "      <td>0.837662</td>\n",
       "    </tr>\n",
       "    <tr>\n",
       "      <th>4</th>\n",
       "      <td>Pliny The Elder</td>\n",
       "      <td>Pours a clear vibrant marigold colour. Citrusy...</td>\n",
       "      <td>4.75</td>\n",
       "      <td>0.837084</td>\n",
       "    </tr>\n",
       "  </tbody>\n",
       "</table>\n",
       "</div>"
      ],
      "text/plain": [
       "      product_name                                     product_review  \\\n",
       "0  Duck Duck Gooze  Aroma - Prominent notes of acetic/citric acid ...   \n",
       "1      Zombie Dust  Color is a perfect golden ale color, pleasant ...   \n",
       "2        Cable Car  Hazy golden colour with a large fluffy head. N...   \n",
       "3  Duck Duck Gooze  On tap at Beavertown Extravaganza. Aroma has s...   \n",
       "4  Pliny The Elder  Pours a clear vibrant marigold colour. Citrusy...   \n",
       "\n",
       "   user_rating  similarity_score  \n",
       "0         4.75          0.843623  \n",
       "1         4.75          0.839829  \n",
       "2         4.50          0.838208  \n",
       "3         4.50          0.837662  \n",
       "4         4.75          0.837084  "
      ]
     },
     "execution_count": 16,
     "metadata": {},
     "output_type": "execute_result"
    }
   ],
   "source": [
    "df_sentiment_300 = pd.read_csv('similarity_score.csv')\n",
    "df_sentiment_300 = df_sentiment_300[:300]\n",
    "df_sentiment_300.head()"
   ]
  },
  {
   "cell_type": "code",
   "execution_count": 17,
   "metadata": {},
   "outputs": [
    {
     "data": {
      "text/html": [
       "<div>\n",
       "<style scoped>\n",
       "    .dataframe tbody tr th:only-of-type {\n",
       "        vertical-align: middle;\n",
       "    }\n",
       "\n",
       "    .dataframe tbody tr th {\n",
       "        vertical-align: top;\n",
       "    }\n",
       "\n",
       "    .dataframe thead th {\n",
       "        text-align: right;\n",
       "    }\n",
       "</style>\n",
       "<table border=\"1\" class=\"dataframe\">\n",
       "  <thead>\n",
       "    <tr style=\"text-align: right;\">\n",
       "      <th></th>\n",
       "      <th>product_name</th>\n",
       "      <th>product_review</th>\n",
       "      <th>user_rating</th>\n",
       "      <th>similarity_score</th>\n",
       "      <th>Sentiment Score</th>\n",
       "    </tr>\n",
       "  </thead>\n",
       "  <tbody>\n",
       "    <tr>\n",
       "      <th>262</th>\n",
       "      <td>Lou Pepe - Framboise</td>\n",
       "      <td>2008 vintage purchased in Brussels from Bier T...</td>\n",
       "      <td>4.50</td>\n",
       "      <td>0.794714</td>\n",
       "      <td>0.9984</td>\n",
       "    </tr>\n",
       "    <tr>\n",
       "      <th>214</th>\n",
       "      <td>Abner</td>\n",
       "      <td>brew was poured from a refillable 750mL Hill F...</td>\n",
       "      <td>4.50</td>\n",
       "      <td>0.797283</td>\n",
       "      <td>0.9980</td>\n",
       "    </tr>\n",
       "    <tr>\n",
       "      <th>299</th>\n",
       "      <td>Atrial Rubicite</td>\n",
       "      <td>500ml bottle, blend 3 (November, 2013), poured...</td>\n",
       "      <td>4.50</td>\n",
       "      <td>0.792659</td>\n",
       "      <td>0.9970</td>\n",
       "    </tr>\n",
       "    <tr>\n",
       "      <th>63</th>\n",
       "      <td>Green</td>\n",
       "      <td>16 ounce can into tulip glass, canned on 3/8/2...</td>\n",
       "      <td>4.50</td>\n",
       "      <td>0.813388</td>\n",
       "      <td>0.9970</td>\n",
       "    </tr>\n",
       "    <tr>\n",
       "      <th>137</th>\n",
       "      <td>Fou' Foune</td>\n",
       "      <td>750ml, bottled august 2012  A- Ligh orange col...</td>\n",
       "      <td>4.25</td>\n",
       "      <td>0.802747</td>\n",
       "      <td>0.9964</td>\n",
       "    </tr>\n",
       "  </tbody>\n",
       "</table>\n",
       "</div>"
      ],
      "text/plain": [
       "             product_name                                     product_review  \\\n",
       "262  Lou Pepe - Framboise  2008 vintage purchased in Brussels from Bier T...   \n",
       "214                 Abner  brew was poured from a refillable 750mL Hill F...   \n",
       "299       Atrial Rubicite  500ml bottle, blend 3 (November, 2013), poured...   \n",
       "63                  Green  16 ounce can into tulip glass, canned on 3/8/2...   \n",
       "137            Fou' Foune  750ml, bottled august 2012  A- Ligh orange col...   \n",
       "\n",
       "     user_rating  similarity_score  Sentiment Score  \n",
       "262         4.50          0.794714           0.9984  \n",
       "214         4.50          0.797283           0.9980  \n",
       "299         4.50          0.792659           0.9970  \n",
       "63          4.50          0.813388           0.9970  \n",
       "137         4.25          0.802747           0.9964  "
      ]
     },
     "execution_count": 17,
     "metadata": {},
     "output_type": "execute_result"
    }
   ],
   "source": [
    "df_sentiment_300['Sentiment Score'] = df_sentiment_300['product_review'].map(lambda x: sentiment_analyzer_scores(x))\n",
    "df_sentiment_300.sort_values(by=['Sentiment Score'], ascending=False, inplace=True)\n",
    "df_sentiment_300.head()"
   ]
  },
  {
   "cell_type": "code",
   "execution_count": 18,
   "metadata": {},
   "outputs": [],
   "source": [
    "df_sentiment_300.to_csv('taskD.csv', index=None)"
   ]
  },
  {
   "cell_type": "markdown",
   "metadata": {},
   "source": [
    "### Task E. \n",
    "\n",
    "Based on tasks C and D, <b> recommend 3 beers </b> to the customer. Note that in task D, multiple reviews may refer to the same beer. Show the average similarity and sentiment scores for each of the 3 recommended products. "
   ]
  },
  {
   "cell_type": "code",
   "execution_count": 19,
   "metadata": {},
   "outputs": [],
   "source": [
    "df_recommend = pd.read_csv('taskD.csv')"
   ]
  },
  {
   "cell_type": "code",
   "execution_count": 20,
   "metadata": {},
   "outputs": [
    {
     "data": {
      "text/html": [
       "<div>\n",
       "<style scoped>\n",
       "    .dataframe tbody tr th:only-of-type {\n",
       "        vertical-align: middle;\n",
       "    }\n",
       "\n",
       "    .dataframe tbody tr th {\n",
       "        vertical-align: top;\n",
       "    }\n",
       "\n",
       "    .dataframe thead th {\n",
       "        text-align: right;\n",
       "    }\n",
       "</style>\n",
       "<table border=\"1\" class=\"dataframe\">\n",
       "  <thead>\n",
       "    <tr style=\"text-align: right;\">\n",
       "      <th></th>\n",
       "      <th>Sentiment Score</th>\n",
       "      <th>similarity_score</th>\n",
       "      <th>user_rating</th>\n",
       "    </tr>\n",
       "    <tr>\n",
       "      <th>product_name</th>\n",
       "      <th></th>\n",
       "      <th></th>\n",
       "      <th></th>\n",
       "    </tr>\n",
       "  </thead>\n",
       "  <tbody>\n",
       "    <tr>\n",
       "      <th>Lou Pepe - Kriek</th>\n",
       "      <td>0.966750</td>\n",
       "      <td>0.803238</td>\n",
       "      <td>4.625000</td>\n",
       "    </tr>\n",
       "    <tr>\n",
       "      <th>Cable Car</th>\n",
       "      <td>0.959856</td>\n",
       "      <td>0.806064</td>\n",
       "      <td>4.555556</td>\n",
       "    </tr>\n",
       "    <tr>\n",
       "      <th>Fundamental Observation</th>\n",
       "      <td>0.936600</td>\n",
       "      <td>0.804914</td>\n",
       "      <td>5.000000</td>\n",
       "    </tr>\n",
       "  </tbody>\n",
       "</table>\n",
       "</div>"
      ],
      "text/plain": [
       "                         Sentiment Score  similarity_score  user_rating\n",
       "product_name                                                           \n",
       "Lou Pepe - Kriek                0.966750          0.803238     4.625000\n",
       "Cable Car                       0.959856          0.806064     4.555556\n",
       "Fundamental Observation         0.936600          0.804914     5.000000"
      ]
     },
     "execution_count": 20,
     "metadata": {},
     "output_type": "execute_result"
    }
   ],
   "source": [
    "df_top3 = df_recommend.groupby(['product_name'])['Sentiment Score','similarity_score','user_rating'].mean().sort_values(by='Sentiment Score',ascending=False).head(3)\n",
    "df_top3"
   ]
  },
  {
   "cell_type": "code",
   "execution_count": 21,
   "metadata": {},
   "outputs": [
    {
     "name": "stdout",
     "output_type": "stream",
     "text": [
      "The top 3 beers according to the similarity scores are Lou Pepe - Kriek, Cable Car, Fundamental Observation\n"
     ]
    }
   ],
   "source": [
    "print(\"The top 3 beers according to the similarity scores are\",', '.join(df_top3.index))"
   ]
  },
  {
   "cell_type": "markdown",
   "metadata": {},
   "source": [
    "### Task F. \n",
    "How would your recommendations differ if you ignored the similarity and sentiment scores and simply chose the 3 highest rated beers from your entire dataset? To do this, you need to calculate the average rating for each beer mentioned (remember each beer in your data has multiple reviews, and you need to get the average rating for each beer). Would these three beers meet the requirements of the user looking for recommendations? Why or why not? Justify your answer. Use the user_rating data, similarity and sentiment scores to answer this question. "
   ]
  },
  {
   "cell_type": "code",
   "execution_count": 22,
   "metadata": {},
   "outputs": [
    {
     "data": {
      "text/plain": [
       "beer\n",
       "Kentucky Brunch Brand Stout    4.851449\n",
       "Very Hazy                      4.774648\n",
       "King Julius                    4.737730\n",
       "Name: overall, dtype: float64"
      ]
     },
     "execution_count": 22,
     "metadata": {},
     "output_type": "execute_result"
    }
   ],
   "source": [
    "df_top3rating = df.groupby(['beer'])['overall'].mean().sort_values(ascending=False).head(3)\n",
    "df_top3rating"
   ]
  },
  {
   "cell_type": "code",
   "execution_count": 23,
   "metadata": {},
   "outputs": [
    {
     "name": "stdout",
     "output_type": "stream",
     "text": [
      "The top 3 beers according to the user ratings are Kentucky Brunch Brand Stout, Very Hazy, King Julius\n"
     ]
    }
   ],
   "source": [
    "print(\"The top 3 beers according to the user ratings are\",', '.join(df_top3rating.index))"
   ]
  },
  {
   "cell_type": "code",
   "execution_count": 24,
   "metadata": {},
   "outputs": [],
   "source": [
    "user_rating = list(df_top3rating.index)"
   ]
  },
  {
   "cell_type": "markdown",
   "metadata": {},
   "source": [
    "### Top beer recommendation based on sentiment analysis & similarity score (averaging scores from 300 reviews with attribute mentions"
   ]
  },
  {
   "cell_type": "code",
   "execution_count": 25,
   "metadata": {},
   "outputs": [
    {
     "data": {
      "text/html": [
       "<div>\n",
       "<style scoped>\n",
       "    .dataframe tbody tr th:only-of-type {\n",
       "        vertical-align: middle;\n",
       "    }\n",
       "\n",
       "    .dataframe tbody tr th {\n",
       "        vertical-align: top;\n",
       "    }\n",
       "\n",
       "    .dataframe thead th {\n",
       "        text-align: right;\n",
       "    }\n",
       "</style>\n",
       "<table border=\"1\" class=\"dataframe\">\n",
       "  <thead>\n",
       "    <tr style=\"text-align: right;\">\n",
       "      <th></th>\n",
       "      <th>Sentiment Score</th>\n",
       "      <th>similarity_score</th>\n",
       "      <th>user_rating</th>\n",
       "    </tr>\n",
       "    <tr>\n",
       "      <th>product_name</th>\n",
       "      <th></th>\n",
       "      <th></th>\n",
       "      <th></th>\n",
       "    </tr>\n",
       "  </thead>\n",
       "  <tbody>\n",
       "    <tr>\n",
       "      <th>Lou Pepe - Kriek</th>\n",
       "      <td>0.966750</td>\n",
       "      <td>0.803238</td>\n",
       "      <td>4.625000</td>\n",
       "    </tr>\n",
       "    <tr>\n",
       "      <th>Cable Car</th>\n",
       "      <td>0.959856</td>\n",
       "      <td>0.806064</td>\n",
       "      <td>4.555556</td>\n",
       "    </tr>\n",
       "    <tr>\n",
       "      <th>Fundamental Observation</th>\n",
       "      <td>0.936600</td>\n",
       "      <td>0.804914</td>\n",
       "      <td>5.000000</td>\n",
       "    </tr>\n",
       "  </tbody>\n",
       "</table>\n",
       "</div>"
      ],
      "text/plain": [
       "                         Sentiment Score  similarity_score  user_rating\n",
       "product_name                                                           \n",
       "Lou Pepe - Kriek                0.966750          0.803238     4.625000\n",
       "Cable Car                       0.959856          0.806064     4.555556\n",
       "Fundamental Observation         0.936600          0.804914     5.000000"
      ]
     },
     "execution_count": 25,
     "metadata": {},
     "output_type": "execute_result"
    }
   ],
   "source": [
    "df_top3"
   ]
  },
  {
   "cell_type": "markdown",
   "metadata": {},
   "source": [
    "### Top beer solely based on user ratings (Data gotten from averaging overall reviews)"
   ]
  },
  {
   "cell_type": "code",
   "execution_count": 26,
   "metadata": {},
   "outputs": [
    {
     "data": {
      "text/html": [
       "<div>\n",
       "<style scoped>\n",
       "    .dataframe tbody tr th:only-of-type {\n",
       "        vertical-align: middle;\n",
       "    }\n",
       "\n",
       "    .dataframe tbody tr th {\n",
       "        vertical-align: top;\n",
       "    }\n",
       "\n",
       "    .dataframe thead th {\n",
       "        text-align: right;\n",
       "    }\n",
       "</style>\n",
       "<table border=\"1\" class=\"dataframe\">\n",
       "  <thead>\n",
       "    <tr style=\"text-align: right;\">\n",
       "      <th></th>\n",
       "      <th>Sentiment Score</th>\n",
       "      <th>similarity_score</th>\n",
       "      <th>user_rating</th>\n",
       "    </tr>\n",
       "    <tr>\n",
       "      <th>product_name</th>\n",
       "      <th></th>\n",
       "      <th></th>\n",
       "      <th></th>\n",
       "    </tr>\n",
       "  </thead>\n",
       "  <tbody>\n",
       "    <tr>\n",
       "      <th>Kentucky Brunch Brand Stout</th>\n",
       "      <td>0.840588</td>\n",
       "      <td>0.638554</td>\n",
       "      <td>4.851449</td>\n",
       "    </tr>\n",
       "    <tr>\n",
       "      <th>Very Hazy</th>\n",
       "      <td>0.784270</td>\n",
       "      <td>0.688320</td>\n",
       "      <td>4.774648</td>\n",
       "    </tr>\n",
       "    <tr>\n",
       "      <th>King Julius</th>\n",
       "      <td>0.803991</td>\n",
       "      <td>0.678866</td>\n",
       "      <td>4.737730</td>\n",
       "    </tr>\n",
       "  </tbody>\n",
       "</table>\n",
       "</div>"
      ],
      "text/plain": [
       "                             Sentiment Score  similarity_score  user_rating\n",
       "product_name                                                               \n",
       "Kentucky Brunch Brand Stout         0.840588          0.638554     4.851449\n",
       "Very Hazy                           0.784270          0.688320     4.774648\n",
       "King Julius                         0.803991          0.678866     4.737730"
      ]
     },
     "execution_count": 26,
     "metadata": {},
     "output_type": "execute_result"
    }
   ],
   "source": [
    "df_top_rating_3 = df_sims_sentiment[df_sims_sentiment['product_name'].isin(user_rating)]\n",
    "df_top_rating_3.groupby(['product_name'])['Sentiment Score','similarity_score','user_rating'].mean().sort_values(by='user_rating',ascending=False)"
   ]
  },
  {
   "cell_type": "markdown",
   "metadata": {},
   "source": [
    "#### The recommendation system is based on these following attributes: crisp, balanced, and fruity which we are assuming the user wants and looks for in a beer. On the other hand, the top three beers above  is based solely on user rating and is not necessarily catered to our user. This can be shown by comparing the similarity scores of the beers that our recommendation system gave and the ones above. The similarity scores of our recommendation system are roughly around 0.80 while the ones shown above are lower by at least 0.10. This is further proved by the sentiment scores. The ones from our recommendation system almost reach a sentiment score of 1.0 which means that the user really enjoys these beers as opposed to the sentiment scores of the top three which are roughly around 0.80. "
   ]
  },
  {
   "cell_type": "code",
   "execution_count": null,
   "metadata": {},
   "outputs": [],
   "source": []
  }
 ],
 "metadata": {
  "kernelspec": {
   "display_name": "Python 3",
   "language": "python",
   "name": "python3"
  },
  "language_info": {
   "codemirror_mode": {
    "name": "ipython",
    "version": 3
   },
   "file_extension": ".py",
   "mimetype": "text/x-python",
   "name": "python",
   "nbconvert_exporter": "python",
   "pygments_lexer": "ipython3",
   "version": "3.6.8"
  }
 },
 "nbformat": 4,
 "nbformat_minor": 2
}
