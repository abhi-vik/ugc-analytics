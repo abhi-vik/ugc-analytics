{
 "cells": [
  {
   "cell_type": "markdown",
   "metadata": {},
   "source": [
    "### Word Frequency"
   ]
  },
  {
   "cell_type": "code",
   "execution_count": 75,
   "metadata": {},
   "outputs": [
    {
     "name": "stderr",
     "output_type": "stream",
     "text": [
      "[nltk_data] Downloading package stopwords to /Users/matt/nltk_data...\n",
      "[nltk_data]   Package stopwords is already up-to-date!\n"
     ]
    }
   ],
   "source": [
    "import string\n",
    "import pandas as pd\n",
    "import nltk\n",
    "nltk.download('stopwords')\n",
    "from nltk.corpus import stopwords\n",
    "stop_words = set(stopwords.words('english'))\n",
    "translator = str.maketrans('', '', string.punctuation)"
   ]
  },
  {
   "cell_type": "code",
   "execution_count": 79,
   "metadata": {},
   "outputs": [
    {
     "data": {
      "text/html": [
       "<div>\n",
       "<style scoped>\n",
       "    .dataframe tbody tr th:only-of-type {\n",
       "        vertical-align: middle;\n",
       "    }\n",
       "\n",
       "    .dataframe tbody tr th {\n",
       "        vertical-align: top;\n",
       "    }\n",
       "\n",
       "    .dataframe thead th {\n",
       "        text-align: right;\n",
       "    }\n",
       "</style>\n",
       "<table border=\"1\" class=\"dataframe\">\n",
       "  <thead>\n",
       "    <tr style=\"text-align: right;\">\n",
       "      <th></th>\n",
       "      <th>date</th>\n",
       "      <th>userid</th>\n",
       "      <th>message</th>\n",
       "      <th>words</th>\n",
       "    </tr>\n",
       "  </thead>\n",
       "  <tbody>\n",
       "    <tr>\n",
       "      <th>0</th>\n",
       "      <td>2002-03-25T05:54:02+00:00</td>\n",
       "      <td>merc1</td>\n",
       "      <td>I personally think that with a few tweaks the ...</td>\n",
       "      <td>[personally, think, tweaks, c320, could, also,...</td>\n",
       "    </tr>\n",
       "    <tr>\n",
       "      <th>1</th>\n",
       "      <td>2002-03-25T07:06:29+00:00</td>\n",
       "      <td>fredvh</td>\n",
       "      <td>I am debating a new purchase and these two are...</td>\n",
       "      <td>[debating, new, purchase, two, top, list, pric...</td>\n",
       "    </tr>\n",
       "    <tr>\n",
       "      <th>2</th>\n",
       "      <td>2002-03-25T17:02:27+00:00</td>\n",
       "      <td>blueguydotcom</td>\n",
       "      <td>Great handling, RWD, excellent engine and the ...</td>\n",
       "      <td>[great, handling, rwd, excellent, engine, best...</td>\n",
       "    </tr>\n",
       "    <tr>\n",
       "      <th>3</th>\n",
       "      <td>2002-03-25T23:04:37+00:00</td>\n",
       "      <td>hungrywhale</td>\n",
       "      <td>And no manual tranny. That may not matter to y...</td>\n",
       "      <td>[manual, tranny, may, matter, certainly, many,...</td>\n",
       "    </tr>\n",
       "    <tr>\n",
       "      <th>4</th>\n",
       "      <td>2002-03-26T00:44:13+00:00</td>\n",
       "      <td>riez</td>\n",
       "      <td>One beauty of BMW 3 Series is that there are s...</td>\n",
       "      <td>[one, beauty, bmw, 3, series, many, models, ch...</td>\n",
       "    </tr>\n",
       "  </tbody>\n",
       "</table>\n",
       "</div>"
      ],
      "text/plain": [
       "                        date         userid  \\\n",
       "0  2002-03-25T05:54:02+00:00          merc1   \n",
       "1  2002-03-25T07:06:29+00:00         fredvh   \n",
       "2  2002-03-25T17:02:27+00:00  blueguydotcom   \n",
       "3  2002-03-25T23:04:37+00:00    hungrywhale   \n",
       "4  2002-03-26T00:44:13+00:00           riez   \n",
       "\n",
       "                                             message  \\\n",
       "0  I personally think that with a few tweaks the ...   \n",
       "1  I am debating a new purchase and these two are...   \n",
       "2  Great handling, RWD, excellent engine and the ...   \n",
       "3  And no manual tranny. That may not matter to y...   \n",
       "4  One beauty of BMW 3 Series is that there are s...   \n",
       "\n",
       "                                               words  \n",
       "0  [personally, think, tweaks, c320, could, also,...  \n",
       "1  [debating, new, purchase, two, top, list, pric...  \n",
       "2  [great, handling, rwd, excellent, engine, best...  \n",
       "3  [manual, tranny, may, matter, certainly, many,...  \n",
       "4  [one, beauty, bmw, 3, series, many, models, ch...  "
      ]
     },
     "execution_count": 79,
     "metadata": {},
     "output_type": "execute_result"
    }
   ],
   "source": [
    "postsDF = pd.read_csv('./scrappy/scrappy_do.csv')\n",
    "\n",
    "def wordCount(post):\n",
    "    d = {}\n",
    "    l = str(post).split(\" \")\n",
    "    for w in l:\n",
    "        w = w.translate(translator) # remove punctuation\n",
    "        w = w.lower()\n",
    "        if (d.get(w)):\n",
    "            d[w] = d[w] + 1\n",
    "        else:\n",
    "            d[w] = 1\n",
    "    return d\n",
    "\n",
    "def stopUnique(post):\n",
    "    wc = wordCount(post)\n",
    "    unique = list(wc.keys())\n",
    "    filtered = [w for w in unique if w not in stop_words]\n",
    "    return filtered\n",
    "\n",
    "postsDF['words'] = postsDF['message'].map(lambda x: stopUnique(x))\n",
    "postsDF.head()"
   ]
  }
 ],
 "metadata": {
  "kernelspec": {
   "display_name": "Python 3",
   "language": "python",
   "name": "python3"
  },
  "language_info": {
   "codemirror_mode": {
    "name": "ipython",
    "version": 3
   },
   "file_extension": ".py",
   "mimetype": "text/x-python",
   "name": "python",
   "nbconvert_exporter": "python",
   "pygments_lexer": "ipython3",
   "version": "3.7.3"
  }
 },
 "nbformat": 4,
 "nbformat_minor": 2
}
