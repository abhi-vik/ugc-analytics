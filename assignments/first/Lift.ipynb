{
 "cells": [
  {
   "cell_type": "markdown",
   "metadata": {},
   "source": [
    "### Word Frequency"
   ]
  },
  {
   "cell_type": "code",
   "execution_count": 465,
   "metadata": {},
   "outputs": [
    {
     "name": "stderr",
     "output_type": "stream",
     "text": [
      "[nltk_data] Downloading package stopwords to /Users/matt/nltk_data...\n",
      "[nltk_data]   Package stopwords is already up-to-date!\n"
     ]
    }
   ],
   "source": [
    "import string\n",
    "import pandas as pd\n",
    "import numpy as np\n",
    "import nltk\n",
    "import re\n",
    "from itertools import combinations, product\n",
    "\n",
    "nltk.download('stopwords')\n",
    "\n",
    "from nltk.corpus import stopwords\n",
    "stop_words = set(stopwords.words('english'))\n",
    "translator = str.maketrans('', '', string.punctuation)"
   ]
  },
  {
   "cell_type": "markdown",
   "metadata": {},
   "source": [
    "### --- NEW ---"
   ]
  },
  {
   "cell_type": "code",
   "execution_count": 306,
   "metadata": {},
   "outputs": [
    {
     "data": {
      "text/html": [
       "<div>\n",
       "<style scoped>\n",
       "    .dataframe tbody tr th:only-of-type {\n",
       "        vertical-align: middle;\n",
       "    }\n",
       "\n",
       "    .dataframe tbody tr th {\n",
       "        vertical-align: top;\n",
       "    }\n",
       "\n",
       "    .dataframe thead th {\n",
       "        text-align: right;\n",
       "    }\n",
       "</style>\n",
       "<table border=\"1\" class=\"dataframe\">\n",
       "  <thead>\n",
       "    <tr style=\"text-align: right;\">\n",
       "      <th></th>\n",
       "      <th>date</th>\n",
       "      <th>userid</th>\n",
       "      <th>message</th>\n",
       "    </tr>\n",
       "  </thead>\n",
       "  <tbody>\n",
       "    <tr>\n",
       "      <th>0</th>\n",
       "      <td>2002-03-25T05:54:02+00:00</td>\n",
       "      <td>merc1</td>\n",
       "      <td>I personally think that with a few tweaks the ...</td>\n",
       "    </tr>\n",
       "    <tr>\n",
       "      <th>1</th>\n",
       "      <td>2002-03-25T07:06:29+00:00</td>\n",
       "      <td>fredvh</td>\n",
       "      <td>I am debating a new purchase and these two are...</td>\n",
       "    </tr>\n",
       "    <tr>\n",
       "      <th>2</th>\n",
       "      <td>2002-03-25T17:02:27+00:00</td>\n",
       "      <td>blueguydotcom</td>\n",
       "      <td>Great handling, RWD, excellent engine and the ...</td>\n",
       "    </tr>\n",
       "    <tr>\n",
       "      <th>3</th>\n",
       "      <td>2002-03-25T23:04:37+00:00</td>\n",
       "      <td>hungrywhale</td>\n",
       "      <td>And no manual tranny. That may not matter to y...</td>\n",
       "    </tr>\n",
       "    <tr>\n",
       "      <th>4</th>\n",
       "      <td>2002-03-26T00:44:13+00:00</td>\n",
       "      <td>riez</td>\n",
       "      <td>One beauty of BMW 3 Series is that there are s...</td>\n",
       "    </tr>\n",
       "  </tbody>\n",
       "</table>\n",
       "</div>"
      ],
      "text/plain": [
       "                        date         userid  \\\n",
       "0  2002-03-25T05:54:02+00:00          merc1   \n",
       "1  2002-03-25T07:06:29+00:00         fredvh   \n",
       "2  2002-03-25T17:02:27+00:00  blueguydotcom   \n",
       "3  2002-03-25T23:04:37+00:00    hungrywhale   \n",
       "4  2002-03-26T00:44:13+00:00           riez   \n",
       "\n",
       "                                             message  \n",
       "0  I personally think that with a few tweaks the ...  \n",
       "1  I am debating a new purchase and these two are...  \n",
       "2  Great handling, RWD, excellent engine and the ...  \n",
       "3  And no manual tranny. That may not matter to y...  \n",
       "4  One beauty of BMW 3 Series is that there are s...  "
      ]
     },
     "execution_count": 306,
     "metadata": {},
     "output_type": "execute_result"
    }
   ],
   "source": [
    "# 1. and 2.\n",
    "\n",
    "df = pd.read_csv('./scrappy/scrappy_do.csv')\n",
    "df = df[0:5000] # first 5000\n",
    "df.head()"
   ]
  },
  {
   "cell_type": "code",
   "execution_count": 444,
   "metadata": {},
   "outputs": [
    {
     "data": {
      "text/plain": [
       "[('bmw', 2430),\n",
       " ('acura', 793),\n",
       " ('audi', 780),\n",
       " ('honda', 637),\n",
       " ('toyota', 522),\n",
       " ('infiniti', 515),\n",
       " ('nissan', 468),\n",
       " ('volkswagen', 416),\n",
       " ('subaru', 351),\n",
       " ('chevrolet', 209),\n",
       " ('mercedes', 206),\n",
       " ('volvo', 195),\n",
       " ('ford', 190),\n",
       " ('hyundai', 187),\n",
       " ('mazda', 91),\n",
       " ('cadillac', 89),\n",
       " ('chrysler', 81),\n",
       " ('dodge', 65),\n",
       " ('pontiac', 65),\n",
       " ('lincoln', 58),\n",
       " ('buick', 30),\n",
       " ('kia', 25),\n",
       " ('mitsubishi', 24),\n",
       " ('suzuki', 18),\n",
       " ('mercury', 16),\n",
       " ('saturn', 12)]"
      ]
     },
     "metadata": {},
     "output_type": "display_data"
    },
    {
     "name": "stdout",
     "output_type": "stream",
     "text": [
      "Top 10: ['bmw', 'acura', 'audi', 'honda', 'toyota', 'infiniti', 'nissan', 'volkswagen', 'subaru', 'chevrolet']\n"
     ]
    }
   ],
   "source": [
    "# 3.\n",
    "\n",
    "modelsDF = pd.read_csv('./models.csv', names=['make', 'model'])\n",
    "# this dataframe contains some other mappings like seat => seats\n",
    "# for the makes / models will we ignore those, they are at the end\n",
    "makemodels = modelsDF[0:520]\n",
    "\n",
    "def wordCount(post):\n",
    "    d = {}\n",
    "    l = str(post).lower().translate(translator).split(\" \")\n",
    "    filtered = [w for w in l if w not in stop_words]\n",
    "    for w in filtered:\n",
    "        d[w] = 1 if not d.get(w) else d[w] + 1\n",
    "    return d\n",
    "\n",
    "allText = ' '.join(list(map(lambda x: str(x), list(df['message']))))\n",
    "counts = wordCount(allText)\n",
    "\n",
    "def extractMakes(wordCounts):\n",
    "    makes = {}\n",
    "    for make in makemodels['make']:\n",
    "        if wordCounts.get(make):\n",
    "            makes[make] = wordCounts[make]\n",
    "    return makes\n",
    "\n",
    "def combineModels(makes, wordCounts):\n",
    "    for row in makemodels.iterrows():\n",
    "        make = row[1].make\n",
    "        model = row[1].model\n",
    "        if wordCounts.get(model):\n",
    "            makes[make] += wordCounts.get(model)\n",
    "    return makes\n",
    "    \n",
    "carCounts = combineModels(extractMakes(counts), counts)\n",
    "carCounts = [(k, v) for k, v in carCounts.items()]\n",
    "carCounts.sort(key=lambda x: x[1], reverse=True)\n",
    "display(carCounts)\n",
    "\n",
    "top10 = list(map(lambda c: c[0], carCounts[0:10]))\n",
    "print('Top 10: {}'.format(top10))"
   ]
  },
  {
   "cell_type": "code",
   "execution_count": 451,
   "metadata": {},
   "outputs": [
    {
     "data": {
      "text/plain": [
       "'Example attributes sorted:'"
      ]
     },
     "metadata": {},
     "output_type": "display_data"
    },
    {
     "data": {
      "text/plain": [
       "[('', 3119),\n",
       " ('like', 1775),\n",
       " ('tl', 1678),\n",
       " ('one', 1472),\n",
       " ('would', 1417),\n",
       " ('dont', 1360),\n",
       " ('get', 1278),\n",
       " ('g35', 1223),\n",
       " ('think', 1195),\n",
       " ('better', 956),\n",
       " ('drive', 956),\n",
       " ('new', 921),\n",
       " ('much', 903),\n",
       " ('im', 899),\n",
       " ('performance', 885),\n",
       " ('3', 849),\n",
       " ('even', 840),\n",
       " ('people', 821),\n",
       " ('good', 797),\n",
       " ('really', 760)]"
      ]
     },
     "metadata": {},
     "output_type": "display_data"
    },
    {
     "name": "stdout",
     "output_type": "stream",
     "text": [
      "Selected attributes are: ['performance', 'luxury', 'power', 'handling', 'speed']\n"
     ]
    }
   ],
   "source": [
    "# Task C.\n",
    "\n",
    "modelWords = list(modelsDF['make'].unique()) + list(modelsDF['model'].unique())\n",
    "\n",
    "countTuple = [(k, v) for k, v in counts.items()]\n",
    "filtered = list(filter(lambda x: x[0] not in modelWords, countTuple))\n",
    "\n",
    "filtered.sort(key=lambda x: x[1], reverse=True)\n",
    "display('Example attributes sorted:', filtered[0:20])\n",
    "\n",
    "attributes = ['performance', 'luxury', 'power', 'handling', 'speed']\n",
    "print('Selected attributes are:', attributes)"
   ]
  },
  {
   "cell_type": "markdown",
   "metadata": {},
   "source": [
    "### --- END NEW ---"
   ]
  },
  {
   "cell_type": "code",
   "execution_count": 458,
   "metadata": {},
   "outputs": [],
   "source": [
    "postsDF = pd.read_csv('./scrappy/scrappy_do.csv')\n",
    "\n",
    "def wordCount(post):\n",
    "    d = {}\n",
    "    l = str(post).split(\" \")\n",
    "    filtered = [w for w in l if w not in stop_words]\n",
    "    for w in filtered:\n",
    "        w = w.translate(translator) # remove punctuation\n",
    "        w = w.lower()\n",
    "        if (d.get(w)):\n",
    "            d[w] = d[w] + 1\n",
    "        else:\n",
    "            d[w] = 1\n",
    "    return d\n",
    "\n",
    "oneString = ' '.join(list(map(lambda x: str(x), list(postsDF['message']))))\n",
    "wordCounts = wordCount(oneString)"
   ]
  },
  {
   "cell_type": "code",
   "execution_count": 459,
   "metadata": {},
   "outputs": [
    {
     "name": "stdout",
     "output_type": "stream",
     "text": [
      "['i', '', 'car', 'the', 'like', 'cars', 'bmw', 'would', 'one', 'it', 'get', 'new', 'think', 'tl', 'even', 'much', 'im', 'better', 'good', 'drive', 'well', '3', 'really', 'know', 'and', 'people', 'time', 'also', 'price', 'audi', 'want', 'performance', 'but', 'if', 'years', 'still', 'acura', 'driving', 'you', 'see', 'could', 'that', 'way', 'is', 'luxury', 'make', 'back', 'say', 'go', 'lexus', 'engine', 'series', 'thats', 'buy', 'going', 'sedan', 'g35', 'not', 'many', 'so', 'great', 'sport', 'less', 'ive', 'my', 'manual', 'miles', 'right', 'best', 'said', 'year', 'me', 'got', 'in', 'awd', 'take', 'lot', 'interior', 'its', 'look', 'infiniti', 'never', 'cts', 'may', 'sure', 'us', 'since', 'cant', 'nice', 'they', 'dealer', 'test', 'thing', 'first', 'need', 'something', 'probably', 'point', 'two', 'power', 'this', 'little', 'last', 'every', 'looking', 'rwd', 'around', 'id', 'used', 'now', 'feel', 'tires', '2', 'money', 'a', 'least', 'class', 'actually', '5', 'there', 'cost', 'old', 'seems', 'big', 'a4', 'hp', 'pretty', 'model', 'lease', 'different', 'long', 'another', 'maybe', 'agree', 'find', 's4', '4', 'package', 'getting', 'fwd', 'handling', 'sales', 'though', 'however', 'might', 'for', 'far', 'no', 'g', 'value', 'made', 'as', 'always', 'put', 'looks', 'next', 'tsx', 'bmws', 'vehicle', 'seats', '6', 'drove', 'without', 'bit', 'all', 'makes', 'high', 'course', 'come', 'etc', 'use', 'transmission', 'difference', 'keep', 'almost', 'real', 'ever', 'things', 'too', '335i', 'either', 'love', 'road', 'ill', 'enough', 'auto', 'believe', 'driven', 'market', 'brand', 'what', 'bought', 'speed', 'guess', 'end', 'fact', 'current', 'torque', 'top', 'vs']\n"
     ]
    }
   ],
   "source": [
    "# ordered words by frequency count to determine a list of important words\n",
    "wordCountDF = pd.DataFrame.from_dict(wordCounts, orient=\"index\")\n",
    "print(list(wordCountDF.sort_values(by=0, ascending=False).reset_index()['index'])[:200])"
   ]
  },
  {
   "cell_type": "code",
   "execution_count": 460,
   "metadata": {},
   "outputs": [
    {
     "name": "stdout",
     "output_type": "stream",
     "text": [
      "['sail', 'mazda2', 'excel', 'pony', 'q50', 'cars', 'encore', 'tuscani', 'titan', 'stealth', 'verna', 'rlx', 'm3', 'tourneo', 'mkx', 'intrepid', 'solara', 'dodge', '370z', 'dart', 'ix20', 'a7', 'crider', 'iq', 'dex', 'brio', '4-series', 'estima', 'mercedes', '330ci', 'ilx', 'durango', 'grand prix', 'tiara', 'passats', 'cruiser', 'n-wgn', 'xc90', 'tahoe', 'lumina', 'reiz', 'mks', 'corolla', 'brz', 'journey', '3-series', 'malibu', 'chrysler 200', 'q60', 'veracruz', 'toyotas', 'a5', 'magnum', 's-10', 'equus', 'ertiga', 'platz', 'dynasty', 'm6', 'volkwagen', 'ist', 'mazdas', 'lacrosse', 'tracker', 'prelude', 'c-class', 'cervo', 'etios', 'nsx', 'stepwgn', '4runner', 'i10', 'mark x', 'corolla/sprinter', 'scrum', 'grand blazer', 'elantra', 'scoupe', 'explorer', 'bongo', 'comfort', 'supervan', 'century', 'agile', 'kijang', 'dyna', 'odessey', 'impala', 'performance', 'venture', 'expedition', 'cami', 'mitsubishi', 'crosstrek', 'cruze', 'f-150', 'atos', 'aygo', 'tiguan', 'malibus']\n"
     ]
    }
   ],
   "source": [
    "modelsDF = pd.read_csv('./models.csv', names=['make', 'model'])\n",
    "model_to_make = modelsDF.set_index('model').to_dict(orient='dict')['make']\n",
    "\n",
    "# importantWords = ['performance', 'luxury sport', 'quality','experience' ,'power','handling', 'premium',  'reliable', 'expensive', 'worth', 'speed', 'family']\n",
    "importantWords = ['performance', 'luxury', 'power', 'handling', 'speed']\n",
    "\n",
    "brands_unclean = list(set(model_to_make.values()))\n",
    "brandlist = [e for e in brands_unclean if e not in ('car', 'reliable', 'seat', 'speed', 'sedan', 'problem')]\n",
    "models = list(model_to_make.keys())\n",
    "keepWords = list(set(importantWords + brands_unclean + models))\n",
    "print(keepWords[:100])"
   ]
  },
  {
   "cell_type": "code",
   "execution_count": 502,
   "metadata": {},
   "outputs": [
    {
     "data": {
      "text/plain": [
       "21664"
      ]
     },
     "execution_count": 502,
     "metadata": {},
     "output_type": "execute_result"
    }
   ],
   "source": [
    "def stopUnique(post):\n",
    "    # lowercase\n",
    "    post = str(post).lower()\n",
    "    \n",
    "    # remove punctuation\n",
    "    post = post.translate(translator)\n",
    "    modelKeys = model_to_make.keys()\n",
    "    wordList = post.split(' ')\n",
    "    \n",
    "    # remove stop words\n",
    "#     filtered = [w for w in wordList if w not in stop_words]\n",
    "    filtered = wordList\n",
    "    \n",
    "    # only keep important words\n",
    "#     finalWords = list(filter(lambda x: x in keepWords, filtered))\n",
    "    finalWords = filtered\n",
    "    \n",
    "    # make / model replacement\n",
    "    for idx, word in enumerate(finalWords):\n",
    "        if word in modelKeys:\n",
    "            finalWords[idx] = model_to_make.get(word)\n",
    "            \n",
    "    unique = list(set(finalWords))\n",
    "    return unique if len(unique) else []\n",
    "    \n",
    "\n",
    "postsDF['words'] = postsDF['message'].map(lambda x: stopUnique(x))\n",
    "len(postsDF)"
   ]
  },
  {
   "cell_type": "code",
   "execution_count": null,
   "metadata": {},
   "outputs": [],
   "source": [
    "dataset = list(postsDF['words'])\n",
    "dataset[:100]"
   ]
  },
  {
   "cell_type": "code",
   "execution_count": null,
   "metadata": {
    "scrolled": true
   },
   "outputs": [],
   "source": [
    "import pandas as pd\n",
    "from mlxtend.frequent_patterns import association_rules\n",
    "from mlxtend.preprocessing import TransactionEncoder\n",
    "from mlxtend.frequent_patterns import apriori\n",
    "\n",
    "\n",
    "te = TransactionEncoder()\n",
    "te_ary = te.fit(dataset).transform(dataset)\n",
    "df = pd.DataFrame(te_ary, columns=te.columns_)\n",
    "frequent_itemsets = apriori(df, min_support=0.015, use_colnames=True)\n",
    "\n",
    "\n",
    "frequent_itemsets\n"
   ]
  },
  {
   "cell_type": "code",
   "execution_count": null,
   "metadata": {},
   "outputs": [],
   "source": [
    "frequent_itemsets = frequent_itemsets[0:84]\n",
    "frequent_itemsets"
   ]
  },
  {
   "cell_type": "code",
   "execution_count": null,
   "metadata": {},
   "outputs": [],
   "source": [
    "from mlxtend.frequent_patterns import association_rules\n",
    "result_lift = association_rules(frequent_itemsets, metric=\"confidence\", min_threshold=0.1)\n"
   ]
  },
  {
   "cell_type": "code",
   "execution_count": null,
   "metadata": {},
   "outputs": [],
   "source": [
    "result_lift.sort_values(by=['lift'],ascending=False)"
   ]
  },
  {
   "cell_type": "code",
   "execution_count": 503,
   "metadata": {},
   "outputs": [],
   "source": [
    "def do_lift(x, y=None):\n",
    "    l1, l2 = sorted(x), sorted(y or [])\n",
    "    bools = pd.DataFrame()\n",
    "    for e in l1 + l2:\n",
    "        bools[e] = postsDF['words'].map(lambda words: e in words)\n",
    "#         bools[e] = postsDF['message'].map(lambda words: e in str(words).lower())\n",
    "\n",
    "    def do(df, a, b):\n",
    "        count_a_int_b = np.logical_and(df[a], df[b]).values.sum()\n",
    "        count_a_mult_count_b = df[a].values.sum() * df[b].values.sum()\n",
    "        return len(df.index) * count_a_int_b / count_a_mult_count_b\n",
    "\n",
    "    result_df = pd.DataFrame(index=l1, columns=(l2 or l1))\n",
    "    for a, b in (combinations(l1, 2) if y==None else product(l1, l2)):\n",
    "        result_df.at[a, b] = do(bools, a, b)\n",
    "\n",
    "    return result_df"
   ]
  },
  {
   "cell_type": "code",
   "execution_count": 504,
   "metadata": {},
   "outputs": [
    {
     "data": {
      "text/html": [
       "<div>\n",
       "<style scoped>\n",
       "    .dataframe tbody tr th:only-of-type {\n",
       "        vertical-align: middle;\n",
       "    }\n",
       "\n",
       "    .dataframe tbody tr th {\n",
       "        vertical-align: top;\n",
       "    }\n",
       "\n",
       "    .dataframe thead th {\n",
       "        text-align: right;\n",
       "    }\n",
       "</style>\n",
       "<table border=\"1\" class=\"dataframe\">\n",
       "  <thead>\n",
       "    <tr style=\"text-align: right;\">\n",
       "      <th></th>\n",
       "      <th>acura</th>\n",
       "      <th>audi</th>\n",
       "      <th>bmw</th>\n",
       "      <th>chevrolet</th>\n",
       "      <th>honda</th>\n",
       "      <th>infiniti</th>\n",
       "      <th>nissan</th>\n",
       "      <th>subaru</th>\n",
       "      <th>toyota</th>\n",
       "      <th>volkswagen</th>\n",
       "    </tr>\n",
       "  </thead>\n",
       "  <tbody>\n",
       "    <tr>\n",
       "      <th>acura</th>\n",
       "      <td>NaN</td>\n",
       "      <td>2.25881</td>\n",
       "      <td>1.35088</td>\n",
       "      <td>1.34404</td>\n",
       "      <td>3.25366</td>\n",
       "      <td>3.17498</td>\n",
       "      <td>1.99418</td>\n",
       "      <td>1.6468</td>\n",
       "      <td>1.72194</td>\n",
       "      <td>1.72271</td>\n",
       "    </tr>\n",
       "    <tr>\n",
       "      <th>audi</th>\n",
       "      <td>NaN</td>\n",
       "      <td>NaN</td>\n",
       "      <td>1.66233</td>\n",
       "      <td>1.58915</td>\n",
       "      <td>1.71347</td>\n",
       "      <td>2.43379</td>\n",
       "      <td>1.23376</td>\n",
       "      <td>1.53754</td>\n",
       "      <td>1.57082</td>\n",
       "      <td>3.34349</td>\n",
       "    </tr>\n",
       "    <tr>\n",
       "      <th>bmw</th>\n",
       "      <td>NaN</td>\n",
       "      <td>NaN</td>\n",
       "      <td>NaN</td>\n",
       "      <td>1.38111</td>\n",
       "      <td>1.18766</td>\n",
       "      <td>1.80204</td>\n",
       "      <td>1.25842</td>\n",
       "      <td>1.19879</td>\n",
       "      <td>1.4399</td>\n",
       "      <td>1.28244</td>\n",
       "    </tr>\n",
       "    <tr>\n",
       "      <th>chevrolet</th>\n",
       "      <td>NaN</td>\n",
       "      <td>NaN</td>\n",
       "      <td>NaN</td>\n",
       "      <td>NaN</td>\n",
       "      <td>1.84124</td>\n",
       "      <td>1.51297</td>\n",
       "      <td>2.77944</td>\n",
       "      <td>2.14877</td>\n",
       "      <td>2.54244</td>\n",
       "      <td>2.41639</td>\n",
       "    </tr>\n",
       "    <tr>\n",
       "      <th>honda</th>\n",
       "      <td>NaN</td>\n",
       "      <td>NaN</td>\n",
       "      <td>NaN</td>\n",
       "      <td>NaN</td>\n",
       "      <td>NaN</td>\n",
       "      <td>1.50261</td>\n",
       "      <td>3.15628</td>\n",
       "      <td>1.8132</td>\n",
       "      <td>3.4366</td>\n",
       "      <td>2.37887</td>\n",
       "    </tr>\n",
       "    <tr>\n",
       "      <th>infiniti</th>\n",
       "      <td>NaN</td>\n",
       "      <td>NaN</td>\n",
       "      <td>NaN</td>\n",
       "      <td>NaN</td>\n",
       "      <td>NaN</td>\n",
       "      <td>NaN</td>\n",
       "      <td>3.46296</td>\n",
       "      <td>1.6095</td>\n",
       "      <td>1.81368</td>\n",
       "      <td>1.72915</td>\n",
       "    </tr>\n",
       "    <tr>\n",
       "      <th>nissan</th>\n",
       "      <td>NaN</td>\n",
       "      <td>NaN</td>\n",
       "      <td>NaN</td>\n",
       "      <td>NaN</td>\n",
       "      <td>NaN</td>\n",
       "      <td>NaN</td>\n",
       "      <td>NaN</td>\n",
       "      <td>2.3052</td>\n",
       "      <td>4.11521</td>\n",
       "      <td>2.52408</td>\n",
       "    </tr>\n",
       "    <tr>\n",
       "      <th>subaru</th>\n",
       "      <td>NaN</td>\n",
       "      <td>NaN</td>\n",
       "      <td>NaN</td>\n",
       "      <td>NaN</td>\n",
       "      <td>NaN</td>\n",
       "      <td>NaN</td>\n",
       "      <td>NaN</td>\n",
       "      <td>NaN</td>\n",
       "      <td>1.65967</td>\n",
       "      <td>2.8731</td>\n",
       "    </tr>\n",
       "    <tr>\n",
       "      <th>toyota</th>\n",
       "      <td>NaN</td>\n",
       "      <td>NaN</td>\n",
       "      <td>NaN</td>\n",
       "      <td>NaN</td>\n",
       "      <td>NaN</td>\n",
       "      <td>NaN</td>\n",
       "      <td>NaN</td>\n",
       "      <td>NaN</td>\n",
       "      <td>NaN</td>\n",
       "      <td>2.08856</td>\n",
       "    </tr>\n",
       "    <tr>\n",
       "      <th>volkswagen</th>\n",
       "      <td>NaN</td>\n",
       "      <td>NaN</td>\n",
       "      <td>NaN</td>\n",
       "      <td>NaN</td>\n",
       "      <td>NaN</td>\n",
       "      <td>NaN</td>\n",
       "      <td>NaN</td>\n",
       "      <td>NaN</td>\n",
       "      <td>NaN</td>\n",
       "      <td>NaN</td>\n",
       "    </tr>\n",
       "  </tbody>\n",
       "</table>\n",
       "</div>"
      ],
      "text/plain": [
       "           acura     audi      bmw chevrolet    honda infiniti   nissan  \\\n",
       "acura        NaN  2.25881  1.35088   1.34404  3.25366  3.17498  1.99418   \n",
       "audi         NaN      NaN  1.66233   1.58915  1.71347  2.43379  1.23376   \n",
       "bmw          NaN      NaN      NaN   1.38111  1.18766  1.80204  1.25842   \n",
       "chevrolet    NaN      NaN      NaN       NaN  1.84124  1.51297  2.77944   \n",
       "honda        NaN      NaN      NaN       NaN      NaN  1.50261  3.15628   \n",
       "infiniti     NaN      NaN      NaN       NaN      NaN      NaN  3.46296   \n",
       "nissan       NaN      NaN      NaN       NaN      NaN      NaN      NaN   \n",
       "subaru       NaN      NaN      NaN       NaN      NaN      NaN      NaN   \n",
       "toyota       NaN      NaN      NaN       NaN      NaN      NaN      NaN   \n",
       "volkswagen   NaN      NaN      NaN       NaN      NaN      NaN      NaN   \n",
       "\n",
       "             subaru   toyota volkswagen  \n",
       "acura        1.6468  1.72194    1.72271  \n",
       "audi        1.53754  1.57082    3.34349  \n",
       "bmw         1.19879   1.4399    1.28244  \n",
       "chevrolet   2.14877  2.54244    2.41639  \n",
       "honda        1.8132   3.4366    2.37887  \n",
       "infiniti     1.6095  1.81368    1.72915  \n",
       "nissan       2.3052  4.11521    2.52408  \n",
       "subaru          NaN  1.65967     2.8731  \n",
       "toyota          NaN      NaN    2.08856  \n",
       "volkswagen      NaN      NaN        NaN  "
      ]
     },
     "execution_count": 504,
     "metadata": {},
     "output_type": "execute_result"
    }
   ],
   "source": [
    "do_lift(top10)"
   ]
  },
  {
   "cell_type": "code",
   "execution_count": 506,
   "metadata": {},
   "outputs": [
    {
     "data": {
      "text/html": [
       "<div>\n",
       "<style scoped>\n",
       "    .dataframe tbody tr th:only-of-type {\n",
       "        vertical-align: middle;\n",
       "    }\n",
       "\n",
       "    .dataframe tbody tr th {\n",
       "        vertical-align: top;\n",
       "    }\n",
       "\n",
       "    .dataframe thead th {\n",
       "        text-align: right;\n",
       "    }\n",
       "</style>\n",
       "<table border=\"1\" class=\"dataframe\">\n",
       "  <thead>\n",
       "    <tr style=\"text-align: right;\">\n",
       "      <th></th>\n",
       "      <th>handling</th>\n",
       "      <th>luxury</th>\n",
       "      <th>performance</th>\n",
       "      <th>power</th>\n",
       "      <th>speed</th>\n",
       "    </tr>\n",
       "  </thead>\n",
       "  <tbody>\n",
       "    <tr>\n",
       "      <th>acura</th>\n",
       "      <td>1.6829</td>\n",
       "      <td>2.03727</td>\n",
       "      <td>1.62576</td>\n",
       "      <td>1.85756</td>\n",
       "      <td>1.83004</td>\n",
       "    </tr>\n",
       "    <tr>\n",
       "      <th>audi</th>\n",
       "      <td>1.85199</td>\n",
       "      <td>1.89727</td>\n",
       "      <td>1.73898</td>\n",
       "      <td>1.93522</td>\n",
       "      <td>1.84652</td>\n",
       "    </tr>\n",
       "    <tr>\n",
       "      <th>bmw</th>\n",
       "      <td>1.79176</td>\n",
       "      <td>1.46202</td>\n",
       "      <td>1.62448</td>\n",
       "      <td>1.62643</td>\n",
       "      <td>1.3359</td>\n",
       "    </tr>\n",
       "    <tr>\n",
       "      <th>honda</th>\n",
       "      <td>1.67457</td>\n",
       "      <td>1.97196</td>\n",
       "      <td>1.51231</td>\n",
       "      <td>1.80006</td>\n",
       "      <td>1.95387</td>\n",
       "    </tr>\n",
       "    <tr>\n",
       "      <th>toyota</th>\n",
       "      <td>2.46224</td>\n",
       "      <td>2.7467</td>\n",
       "      <td>1.90022</td>\n",
       "      <td>1.58297</td>\n",
       "      <td>1.52278</td>\n",
       "    </tr>\n",
       "  </tbody>\n",
       "</table>\n",
       "</div>"
      ],
      "text/plain": [
       "       handling   luxury performance    power    speed\n",
       "acura    1.6829  2.03727     1.62576  1.85756  1.83004\n",
       "audi    1.85199  1.89727     1.73898  1.93522  1.84652\n",
       "bmw     1.79176  1.46202     1.62448  1.62643   1.3359\n",
       "honda   1.67457  1.97196     1.51231  1.80006  1.95387\n",
       "toyota  2.46224   2.7467     1.90022  1.58297  1.52278"
      ]
     },
     "execution_count": 506,
     "metadata": {},
     "output_type": "execute_result"
    }
   ],
   "source": [
    "do_lift(top10[0:5], importantWords)"
   ]
  },
  {
   "cell_type": "code",
   "execution_count": 514,
   "metadata": {},
   "outputs": [
    {
     "data": {
      "text/html": [
       "<div>\n",
       "<style scoped>\n",
       "    .dataframe tbody tr th:only-of-type {\n",
       "        vertical-align: middle;\n",
       "    }\n",
       "\n",
       "    .dataframe tbody tr th {\n",
       "        vertical-align: top;\n",
       "    }\n",
       "\n",
       "    .dataframe thead th {\n",
       "        text-align: right;\n",
       "    }\n",
       "</style>\n",
       "<table border=\"1\" class=\"dataframe\">\n",
       "  <thead>\n",
       "    <tr style=\"text-align: right;\">\n",
       "      <th></th>\n",
       "      <th>aspire</th>\n",
       "      <th>dream</th>\n",
       "      <th>garbage</th>\n",
       "      <th>love</th>\n",
       "      <th>want</th>\n",
       "    </tr>\n",
       "  </thead>\n",
       "  <tbody>\n",
       "    <tr>\n",
       "      <th>ford</th>\n",
       "      <td>3.93295</td>\n",
       "      <td>1.07458</td>\n",
       "      <td>3.17173</td>\n",
       "      <td>2.13905</td>\n",
       "      <td>1.80671</td>\n",
       "    </tr>\n",
       "  </tbody>\n",
       "</table>\n",
       "</div>"
      ],
      "text/plain": [
       "       aspire    dream  garbage     love     want\n",
       "ford  3.93295  1.07458  3.17173  2.13905  1.80671"
      ]
     },
     "execution_count": 514,
     "metadata": {},
     "output_type": "execute_result"
    }
   ],
   "source": [
    "do_lift(['ford'], ['love', 'aspire', 'want', 'dream', 'garbage'])"
   ]
  },
  {
   "cell_type": "code",
   "execution_count": 473,
   "metadata": {},
   "outputs": [
    {
     "data": {
      "text/html": [
       "<div>\n",
       "<style scoped>\n",
       "    .dataframe tbody tr th:only-of-type {\n",
       "        vertical-align: middle;\n",
       "    }\n",
       "\n",
       "    .dataframe tbody tr th {\n",
       "        vertical-align: top;\n",
       "    }\n",
       "\n",
       "    .dataframe thead th {\n",
       "        text-align: right;\n",
       "    }\n",
       "</style>\n",
       "<table border=\"1\" class=\"dataframe\">\n",
       "  <thead>\n",
       "    <tr style=\"text-align: right;\">\n",
       "      <th></th>\n",
       "      <th>date</th>\n",
       "      <th>userid</th>\n",
       "      <th>message</th>\n",
       "      <th>words</th>\n",
       "    </tr>\n",
       "  </thead>\n",
       "  <tbody>\n",
       "    <tr>\n",
       "      <th>0</th>\n",
       "      <td>2002-03-25T05:54:02+00:00</td>\n",
       "      <td>merc1</td>\n",
       "      <td>I personally think that with a few tweaks the ...</td>\n",
       "      <td>[acura, ford, problem, power, toyota, car, bui...</td>\n",
       "    </tr>\n",
       "    <tr>\n",
       "      <th>1</th>\n",
       "      <td>2002-03-25T07:06:29+00:00</td>\n",
       "      <td>fredvh</td>\n",
       "      <td>I am debating a new purchase and these two are...</td>\n",
       "      <td>[acura, honda]</td>\n",
       "    </tr>\n",
       "    <tr>\n",
       "      <th>2</th>\n",
       "      <td>2002-03-25T17:02:27+00:00</td>\n",
       "      <td>blueguydotcom</td>\n",
       "      <td>Great handling, RWD, excellent engine and the ...</td>\n",
       "      <td>[handling]</td>\n",
       "    </tr>\n",
       "    <tr>\n",
       "      <th>3</th>\n",
       "      <td>2002-03-25T23:04:37+00:00</td>\n",
       "      <td>hungrywhale</td>\n",
       "      <td>And no manual tranny. That may not matter to y...</td>\n",
       "      <td>[]</td>\n",
       "    </tr>\n",
       "    <tr>\n",
       "      <th>4</th>\n",
       "      <td>2002-03-26T00:44:13+00:00</td>\n",
       "      <td>riez</td>\n",
       "      <td>One beauty of BMW 3 Series is that there are s...</td>\n",
       "      <td>[performance, sedan, bmw]</td>\n",
       "    </tr>\n",
       "  </tbody>\n",
       "</table>\n",
       "</div>"
      ],
      "text/plain": [
       "                        date         userid  \\\n",
       "0  2002-03-25T05:54:02+00:00          merc1   \n",
       "1  2002-03-25T07:06:29+00:00         fredvh   \n",
       "2  2002-03-25T17:02:27+00:00  blueguydotcom   \n",
       "3  2002-03-25T23:04:37+00:00    hungrywhale   \n",
       "4  2002-03-26T00:44:13+00:00           riez   \n",
       "\n",
       "                                             message  \\\n",
       "0  I personally think that with a few tweaks the ...   \n",
       "1  I am debating a new purchase and these two are...   \n",
       "2  Great handling, RWD, excellent engine and the ...   \n",
       "3  And no manual tranny. That may not matter to y...   \n",
       "4  One beauty of BMW 3 Series is that there are s...   \n",
       "\n",
       "                                               words  \n",
       "0  [acura, ford, problem, power, toyota, car, bui...  \n",
       "1                                     [acura, honda]  \n",
       "2                                         [handling]  \n",
       "3                                                 []  \n",
       "4                          [performance, sedan, bmw]  "
      ]
     },
     "execution_count": 473,
     "metadata": {},
     "output_type": "execute_result"
    }
   ],
   "source": [
    "postsDF.head()"
   ]
  }
 ],
 "metadata": {
  "kernelspec": {
   "display_name": "Python 3",
   "language": "python",
   "name": "python3"
  },
  "language_info": {
   "codemirror_mode": {
    "name": "ipython",
    "version": 3
   },
   "file_extension": ".py",
   "mimetype": "text/x-python",
   "name": "python",
   "nbconvert_exporter": "python",
   "pygments_lexer": "ipython3",
   "version": "3.7.3"
  }
 },
 "nbformat": 4,
 "nbformat_minor": 4
}
